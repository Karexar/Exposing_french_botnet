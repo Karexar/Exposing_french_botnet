{
 "cells": [
  {
   "cell_type": "code",
   "execution_count": 17,
   "metadata": {
    "scrolled": true
   },
   "outputs": [
    {
     "data": {
      "text/plain": [
       "9223372036854775807"
      ]
     },
     "execution_count": 17,
     "metadata": {},
     "output_type": "execute_result"
    }
   ],
   "source": [
    "import pandas as pd\n",
    "from datetime import datetime, timedelta\n",
    "import os\n",
    "import sys\n",
    "import csv\n",
    "import importlib\n",
    "import time\n",
    "import tweepy\n",
    "\n",
    "from db import *\n",
    "\n",
    "#sys.path.append('/Volumes/GoogleDrive/Mon Drive/Python-helpers')\n",
    "#from save_obj import *\n",
    "\n",
    "csv.field_size_limit(sys.maxsize) # To avoid max field limit on loading df_ts"
   ]
  },
  {
   "cell_type": "code",
   "execution_count": 18,
   "metadata": {},
   "outputs": [
    {
     "name": "stdout",
     "output_type": "stream",
     "text": [
      "Authentication OK\n"
     ]
    }
   ],
   "source": [
    "\n",
    "# Authenticate to Twitter\n",
    "auth = tweepy.OAuthHandler(\"W9Z93ZrDntx9oFyCWOJbilxez\", \n",
    "    \"Qc1RhQFKQiHl9rxmwpZgDchjl1RFXDluO8tQGgBIQDe2EfgwfT\")\n",
    "auth.set_access_token(\"1174692196815167488-0T0zCqNHA4xw2a5GGgbD4QAfaluBJF\", \n",
    "    \"Lg0TJSIGAehX29MDAz5ZtxEz4TRyKjzDmVX29jgIYUoVb\")\n",
    "\n",
    "api = tweepy.API(auth)\n",
    "\n",
    "try:\n",
    "    api.verify_credentials()\n",
    "    print(\"Authentication OK\")\n",
    "except:\n",
    "    print(\"Error during authentication\")"
   ]
  },
  {
   "cell_type": "code",
   "execution_count": 2,
   "metadata": {},
   "outputs": [],
   "source": [
    "path_df = \"data/merged_tables/view_retweet_graph.csv\"\n",
    "df = pd.read_csv(path_df, encoding='utf-8', engine='python')"
   ]
  },
  {
   "cell_type": "code",
   "execution_count": 3,
   "metadata": {
    "scrolled": true
   },
   "outputs": [
    {
     "data": {
      "text/html": [
       "<div>\n",
       "<style scoped>\n",
       "    .dataframe tbody tr th:only-of-type {\n",
       "        vertical-align: middle;\n",
       "    }\n",
       "\n",
       "    .dataframe tbody tr th {\n",
       "        vertical-align: top;\n",
       "    }\n",
       "\n",
       "    .dataframe thead th {\n",
       "        text-align: right;\n",
       "    }\n",
       "</style>\n",
       "<table border=\"1\" class=\"dataframe\">\n",
       "  <thead>\n",
       "    <tr style=\"text-align: right;\">\n",
       "      <th></th>\n",
       "      <th>source</th>\n",
       "      <th>target</th>\n",
       "      <th>weight</th>\n",
       "    </tr>\n",
       "  </thead>\n",
       "  <tbody>\n",
       "    <tr>\n",
       "      <th>0</th>\n",
       "      <td>1000019702603710464</td>\n",
       "      <td>1062908686366990336</td>\n",
       "      <td>1</td>\n",
       "    </tr>\n",
       "    <tr>\n",
       "      <th>1</th>\n",
       "      <td>1000019702603710464</td>\n",
       "      <td>1409798257</td>\n",
       "      <td>1</td>\n",
       "    </tr>\n",
       "    <tr>\n",
       "      <th>2</th>\n",
       "      <td>1000019702603710464</td>\n",
       "      <td>213773366</td>\n",
       "      <td>1</td>\n",
       "    </tr>\n",
       "    <tr>\n",
       "      <th>3</th>\n",
       "      <td>1000019702603710464</td>\n",
       "      <td>335141638</td>\n",
       "      <td>1</td>\n",
       "    </tr>\n",
       "    <tr>\n",
       "      <th>4</th>\n",
       "      <td>1000019702603710464</td>\n",
       "      <td>373471064</td>\n",
       "      <td>1</td>\n",
       "    </tr>\n",
       "  </tbody>\n",
       "</table>\n",
       "</div>"
      ],
      "text/plain": [
       "                source               target  weight\n",
       "0  1000019702603710464  1062908686366990336       1\n",
       "1  1000019702603710464           1409798257       1\n",
       "2  1000019702603710464            213773366       1\n",
       "3  1000019702603710464            335141638       1\n",
       "4  1000019702603710464            373471064       1"
      ]
     },
     "execution_count": 3,
     "metadata": {},
     "output_type": "execute_result"
    }
   ],
   "source": [
    "df.head()"
   ]
  },
  {
   "cell_type": "markdown",
   "metadata": {},
   "source": [
    "### Accounts who retweet the most"
   ]
  },
  {
   "cell_type": "code",
   "execution_count": 13,
   "metadata": {},
   "outputs": [],
   "source": [
    "df_source = (df.groupby('source')['weight']\n",
    "               .apply(sum)\n",
    "               .reset_index(name='count'))"
   ]
  },
  {
   "cell_type": "code",
   "execution_count": 25,
   "metadata": {},
   "outputs": [],
   "source": [
    "df_sorted = df_source.sort_values(by='count', ascending=False)\n",
    "df_sorted = df_sorted.iloc[:10, :]\n",
    "df_sorted['source'] = df_sorted['source'].apply(lambda x: api.get_user(x).screen_name)"
   ]
  },
  {
   "cell_type": "code",
   "execution_count": 26,
   "metadata": {
    "scrolled": true
   },
   "outputs": [
    {
     "data": {
      "text/html": [
       "<div>\n",
       "<style scoped>\n",
       "    .dataframe tbody tr th:only-of-type {\n",
       "        vertical-align: middle;\n",
       "    }\n",
       "\n",
       "    .dataframe tbody tr th {\n",
       "        vertical-align: top;\n",
       "    }\n",
       "\n",
       "    .dataframe thead th {\n",
       "        text-align: right;\n",
       "    }\n",
       "</style>\n",
       "<table border=\"1\" class=\"dataframe\">\n",
       "  <thead>\n",
       "    <tr style=\"text-align: right;\">\n",
       "      <th></th>\n",
       "      <th>source</th>\n",
       "      <th>count</th>\n",
       "    </tr>\n",
       "  </thead>\n",
       "  <tbody>\n",
       "    <tr>\n",
       "      <th>7302</th>\n",
       "      <td>oritsuwashi</td>\n",
       "      <td>4616</td>\n",
       "    </tr>\n",
       "    <tr>\n",
       "      <th>6112</th>\n",
       "      <td>yoramotzxr</td>\n",
       "      <td>4459</td>\n",
       "    </tr>\n",
       "    <tr>\n",
       "      <th>13191</th>\n",
       "      <td>nes_sim</td>\n",
       "      <td>3541</td>\n",
       "    </tr>\n",
       "    <tr>\n",
       "      <th>11041</th>\n",
       "      <td>VolewskyPSG</td>\n",
       "      <td>3495</td>\n",
       "    </tr>\n",
       "    <tr>\n",
       "      <th>14662</th>\n",
       "      <td>Coco45800</td>\n",
       "      <td>3221</td>\n",
       "    </tr>\n",
       "    <tr>\n",
       "      <th>5473</th>\n",
       "      <td>pobondoux</td>\n",
       "      <td>3211</td>\n",
       "    </tr>\n",
       "    <tr>\n",
       "      <th>6308</th>\n",
       "      <td>PatureauMarie</td>\n",
       "      <td>3209</td>\n",
       "    </tr>\n",
       "    <tr>\n",
       "      <th>13578</th>\n",
       "      <td>voinconmc</td>\n",
       "      <td>3208</td>\n",
       "    </tr>\n",
       "    <tr>\n",
       "      <th>6167</th>\n",
       "      <td>HeelLeClech</td>\n",
       "      <td>3206</td>\n",
       "    </tr>\n",
       "    <tr>\n",
       "      <th>6791</th>\n",
       "      <td>natpat6477</td>\n",
       "      <td>3206</td>\n",
       "    </tr>\n",
       "  </tbody>\n",
       "</table>\n",
       "</div>"
      ],
      "text/plain": [
       "              source  count\n",
       "7302     oritsuwashi   4616\n",
       "6112      yoramotzxr   4459\n",
       "13191        nes_sim   3541\n",
       "11041    VolewskyPSG   3495\n",
       "14662      Coco45800   3221\n",
       "5473       pobondoux   3211\n",
       "6308   PatureauMarie   3209\n",
       "13578      voinconmc   3208\n",
       "6167     HeelLeClech   3206\n",
       "6791      natpat6477   3206"
      ]
     },
     "execution_count": 26,
     "metadata": {},
     "output_type": "execute_result"
    }
   ],
   "source": [
    "df_sorted"
   ]
  },
  {
   "cell_type": "markdown",
   "metadata": {},
   "source": [
    "### Accounts who are retweeted the most"
   ]
  },
  {
   "cell_type": "code",
   "execution_count": 27,
   "metadata": {},
   "outputs": [],
   "source": [
    "df_target = (df.groupby('target')['weight']\n",
    "               .apply(sum)\n",
    "               .reset_index(name='count'))"
   ]
  },
  {
   "cell_type": "code",
   "execution_count": 30,
   "metadata": {},
   "outputs": [],
   "source": [
    "df_sorted = df_target.sort_values(by='count', ascending=False)\n",
    "df_sorted = df_sorted.iloc[:10, :]\n",
    "df_sorted['target'] = df_sorted['target'].apply(lambda x: api.get_user(x).screen_name)"
   ]
  },
  {
   "cell_type": "code",
   "execution_count": 31,
   "metadata": {
    "scrolled": true
   },
   "outputs": [
    {
     "data": {
      "text/html": [
       "<div>\n",
       "<style scoped>\n",
       "    .dataframe tbody tr th:only-of-type {\n",
       "        vertical-align: middle;\n",
       "    }\n",
       "\n",
       "    .dataframe tbody tr th {\n",
       "        vertical-align: top;\n",
       "    }\n",
       "\n",
       "    .dataframe thead th {\n",
       "        text-align: right;\n",
       "    }\n",
       "</style>\n",
       "<table border=\"1\" class=\"dataframe\">\n",
       "  <thead>\n",
       "    <tr style=\"text-align: right;\">\n",
       "      <th></th>\n",
       "      <th>target</th>\n",
       "      <th>count</th>\n",
       "    </tr>\n",
       "  </thead>\n",
       "  <tbody>\n",
       "    <tr>\n",
       "      <th>336809</th>\n",
       "      <td>Brevesdepresse</td>\n",
       "      <td>100520</td>\n",
       "    </tr>\n",
       "    <tr>\n",
       "      <th>202345</th>\n",
       "      <td>MLP_officiel</td>\n",
       "      <td>96475</td>\n",
       "    </tr>\n",
       "    <tr>\n",
       "      <th>155479</th>\n",
       "      <td>BFMTV</td>\n",
       "      <td>75693</td>\n",
       "    </tr>\n",
       "    <tr>\n",
       "      <th>962312</th>\n",
       "      <td>EnModeMacaron</td>\n",
       "      <td>72995</td>\n",
       "    </tr>\n",
       "    <tr>\n",
       "      <th>110201</th>\n",
       "      <td>JLMelenchon</td>\n",
       "      <td>72283</td>\n",
       "    </tr>\n",
       "    <tr>\n",
       "      <th>329320</th>\n",
       "      <td>JeanMessiha</td>\n",
       "      <td>69455</td>\n",
       "    </tr>\n",
       "    <tr>\n",
       "      <th>272965</th>\n",
       "      <td>afpfr</td>\n",
       "      <td>66981</td>\n",
       "    </tr>\n",
       "    <tr>\n",
       "      <th>65040</th>\n",
       "      <td>dupontaignan</td>\n",
       "      <td>63049</td>\n",
       "    </tr>\n",
       "    <tr>\n",
       "      <th>554553</th>\n",
       "      <td>EmmanuelMacron</td>\n",
       "      <td>57250</td>\n",
       "    </tr>\n",
       "    <tr>\n",
       "      <th>741581</th>\n",
       "      <td>SJallamion</td>\n",
       "      <td>57101</td>\n",
       "    </tr>\n",
       "  </tbody>\n",
       "</table>\n",
       "</div>"
      ],
      "text/plain": [
       "                target   count\n",
       "336809  Brevesdepresse  100520\n",
       "202345    MLP_officiel   96475\n",
       "155479           BFMTV   75693\n",
       "962312   EnModeMacaron   72995\n",
       "110201     JLMelenchon   72283\n",
       "329320     JeanMessiha   69455\n",
       "272965           afpfr   66981\n",
       "65040     dupontaignan   63049\n",
       "554553  EmmanuelMacron   57250\n",
       "741581      SJallamion   57101"
      ]
     },
     "execution_count": 31,
     "metadata": {},
     "output_type": "execute_result"
    }
   ],
   "source": [
    "df_sorted"
   ]
  },
  {
   "cell_type": "markdown",
   "metadata": {},
   "source": [
    "### Most used hashtags"
   ]
  },
  {
   "cell_type": "code",
   "execution_count": 34,
   "metadata": {},
   "outputs": [],
   "source": [
    "path_df = \"data/merged_tables/view_author_hashtag.csv\"\n",
    "df = pd.read_csv(path_df, encoding='utf-8', engine='python')"
   ]
  },
  {
   "cell_type": "code",
   "execution_count": 36,
   "metadata": {},
   "outputs": [],
   "source": [
    "df_hashtag = (df.groupby('hashtag')['count']\n",
    "               .apply(sum)\n",
    "               .reset_index(name='count'))"
   ]
  },
  {
   "cell_type": "code",
   "execution_count": 40,
   "metadata": {},
   "outputs": [],
   "source": [
    "df_sorted = df_hashtag.sort_values(by='count', ascending=False)\n",
    "df_sorted = df_sorted.iloc[:10, :]"
   ]
  },
  {
   "cell_type": "code",
   "execution_count": 41,
   "metadata": {
    "scrolled": true
   },
   "outputs": [
    {
     "data": {
      "text/html": [
       "<div>\n",
       "<style scoped>\n",
       "    .dataframe tbody tr th:only-of-type {\n",
       "        vertical-align: middle;\n",
       "    }\n",
       "\n",
       "    .dataframe tbody tr th {\n",
       "        vertical-align: top;\n",
       "    }\n",
       "\n",
       "    .dataframe thead th {\n",
       "        text-align: right;\n",
       "    }\n",
       "</style>\n",
       "<table border=\"1\" class=\"dataframe\">\n",
       "  <thead>\n",
       "    <tr style=\"text-align: right;\">\n",
       "      <th></th>\n",
       "      <th>hashtag</th>\n",
       "      <th>count</th>\n",
       "    </tr>\n",
       "  </thead>\n",
       "  <tbody>\n",
       "    <tr>\n",
       "      <th>295549</th>\n",
       "      <td>GiletsJaunes</td>\n",
       "      <td>260191</td>\n",
       "    </tr>\n",
       "    <tr>\n",
       "      <th>450568</th>\n",
       "      <td>Macron</td>\n",
       "      <td>201406</td>\n",
       "    </tr>\n",
       "    <tr>\n",
       "      <th>271852</th>\n",
       "      <td>France</td>\n",
       "      <td>59692</td>\n",
       "    </tr>\n",
       "    <tr>\n",
       "      <th>553642</th>\n",
       "      <td>Paris</td>\n",
       "      <td>52390</td>\n",
       "    </tr>\n",
       "    <tr>\n",
       "      <th>946998</th>\n",
       "      <td>giletsjaunes</td>\n",
       "      <td>52382</td>\n",
       "    </tr>\n",
       "    <tr>\n",
       "      <th>23752</th>\n",
       "      <td>AFP</td>\n",
       "      <td>45721</td>\n",
       "    </tr>\n",
       "    <tr>\n",
       "      <th>89239</th>\n",
       "      <td>Benalla</td>\n",
       "      <td>45262</td>\n",
       "    </tr>\n",
       "    <tr>\n",
       "      <th>396484</th>\n",
       "      <td>LREM</td>\n",
       "      <td>40863</td>\n",
       "    </tr>\n",
       "    <tr>\n",
       "      <th>738797</th>\n",
       "      <td>Trump</td>\n",
       "      <td>32159</td>\n",
       "    </tr>\n",
       "    <tr>\n",
       "      <th>1026129</th>\n",
       "      <td>macron</td>\n",
       "      <td>29129</td>\n",
       "    </tr>\n",
       "  </tbody>\n",
       "</table>\n",
       "</div>"
      ],
      "text/plain": [
       "              hashtag   count\n",
       "295549   GiletsJaunes  260191\n",
       "450568         Macron  201406\n",
       "271852         France   59692\n",
       "553642          Paris   52390\n",
       "946998   giletsjaunes   52382\n",
       "23752             AFP   45721\n",
       "89239         Benalla   45262\n",
       "396484           LREM   40863\n",
       "738797          Trump   32159\n",
       "1026129        macron   29129"
      ]
     },
     "execution_count": 41,
     "metadata": {},
     "output_type": "execute_result"
    }
   ],
   "source": [
    "df_sorted"
   ]
  },
  {
   "cell_type": "markdown",
   "metadata": {},
   "source": [
    "### Most used urls"
   ]
  },
  {
   "cell_type": "code",
   "execution_count": 42,
   "metadata": {},
   "outputs": [],
   "source": [
    "path_df = \"data/merged_tables/entities_url.csv\"\n",
    "df = pd.read_csv(path_df, encoding='utf-8', engine='python')"
   ]
  },
  {
   "cell_type": "code",
   "execution_count": 44,
   "metadata": {},
   "outputs": [],
   "source": [
    "df_url = df.groupby('url').size()"
   ]
  },
  {
   "cell_type": "code",
   "execution_count": 46,
   "metadata": {},
   "outputs": [
    {
     "data": {
      "text/plain": [
       "url\n",
       "http://unfollow.fr                               14342\n",
       "http://fllwrs.com                                12857\n",
       "https://support.twitter.com/articles/20169199     6600\n",
       "http://www.crowdfireapp.com/?r=td                 4358\n",
       "http://newsmagnet.info                            3211\n",
       "http://ladepeche.fr                               2843\n",
       "http://unfollowspy.com                            2748\n",
       "http://makaroff.com                               2654\n",
       "http://volting.playtheradio.com                   2001\n",
       "https://du3a.org/                                 1711\n",
       "dtype: int64"
      ]
     },
     "execution_count": 46,
     "metadata": {},
     "output_type": "execute_result"
    }
   ],
   "source": [
    "df_sorted = df_url.sort_values(ascending=False)\n",
    "df_sorted[:10]"
   ]
  }
 ],
 "metadata": {
  "kernelspec": {
   "display_name": "Python 3",
   "language": "python",
   "name": "python3"
  },
  "language_info": {
   "codemirror_mode": {
    "name": "ipython",
    "version": 3
   },
   "file_extension": ".py",
   "mimetype": "text/x-python",
   "name": "python",
   "nbconvert_exporter": "python",
   "pygments_lexer": "ipython3",
   "version": "3.6.9"
  }
 },
 "nbformat": 4,
 "nbformat_minor": 2
}
