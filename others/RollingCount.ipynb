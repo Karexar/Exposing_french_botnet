{
 "cells": [
  {
   "cell_type": "code",
   "execution_count": 365,
   "metadata": {},
   "outputs": [],
   "source": [
    "import pandas as pd\n",
    "import os\n",
    "from datetime import datetime\n",
    "import sys\n",
    "import csv\n",
    "from db import *\n",
    "from time_series import *\n",
    "import awarp_wrapper.awarpWrapper as awarp\n",
    "import matplotlib.pyplot as plt\n",
    "import matplotlib.dates as mdates\n",
    "%matplotlib inline\n",
    "\n",
    "#import sys\n",
    "#sys.path.append('/Volumes/GoogleDrive/Mon Drive/Python-helpers')\n",
    "#from save_obj import *"
   ]
  },
  {
   "cell_type": "code",
   "execution_count": 7,
   "metadata": {},
   "outputs": [
    {
     "data": {
      "text/plain": [
       "131072"
      ]
     },
     "execution_count": 7,
     "metadata": {},
     "output_type": "execute_result"
    }
   ],
   "source": [
    "#csv.field_size_limit(sys.maxsize) # To avoid max field limit on loading df_ts"
   ]
  },
  {
   "cell_type": "code",
   "execution_count": 10,
   "metadata": {},
   "outputs": [],
   "source": [
    "df_activity = pd.read_csv(\"data/merged_tables/view_user_activity.csv\", \n",
    "                                   encoding='utf-8', \n",
    "                                   engine='python')"
   ]
  },
  {
   "cell_type": "code",
   "execution_count": null,
   "metadata": {},
   "outputs": [],
   "source": [
    "len(df_activity.author_id.unique())"
   ]
  },
  {
   "cell_type": "code",
   "execution_count": null,
   "metadata": {},
   "outputs": [],
   "source": [
    "df_activity.shape"
   ]
  },
  {
   "cell_type": "code",
   "execution_count": 340,
   "metadata": {},
   "outputs": [],
   "source": [
    "# First we filter out the author with low tweet count\n",
    "# This is mostly authors that are retweeted or quoted \n",
    "# by another active user from this dataset.\n",
    "authors = df_activity.groupby('author_id').size()"
   ]
  },
  {
   "cell_type": "code",
   "execution_count": 346,
   "metadata": {},
   "outputs": [
    {
     "data": {
      "text/plain": [
       "19484"
      ]
     },
     "execution_count": 346,
     "metadata": {},
     "output_type": "execute_result"
    }
   ],
   "source": [
    "authors = set(authors[authors > 1000].index)\n",
    "len(authors)"
   ]
  },
  {
   "cell_type": "code",
   "execution_count": 347,
   "metadata": {},
   "outputs": [],
   "source": [
    "df_activity = df_activity[df_activity[\"author_id\"].isin(authors)]"
   ]
  },
  {
   "cell_type": "code",
   "execution_count": 579,
   "metadata": {},
   "outputs": [
    {
     "data": {
      "text/plain": [
       "(57643290, 3)"
      ]
     },
     "execution_count": 579,
     "metadata": {},
     "output_type": "execute_result"
    }
   ],
   "source": [
    "df_activity.shape"
   ]
  },
  {
   "cell_type": "code",
   "execution_count": 23,
   "metadata": {},
   "outputs": [],
   "source": [
    "# Transform the created_at column into datetime\n",
    "df_activity[\"created_at_dt\"] = df_activity[\"created_at\"].apply(lambda x: \n",
    "                                    datetime.strptime(x, \"%Y-%m-%d %H:%M:%S\"))"
   ]
  },
  {
   "cell_type": "code",
   "execution_count": 580,
   "metadata": {
    "scrolled": true
   },
   "outputs": [
    {
     "data": {
      "text/html": [
       "<div>\n",
       "<style scoped>\n",
       "    .dataframe tbody tr th:only-of-type {\n",
       "        vertical-align: middle;\n",
       "    }\n",
       "\n",
       "    .dataframe tbody tr th {\n",
       "        vertical-align: top;\n",
       "    }\n",
       "\n",
       "    .dataframe thead th {\n",
       "        text-align: right;\n",
       "    }\n",
       "</style>\n",
       "<table border=\"1\" class=\"dataframe\">\n",
       "  <thead>\n",
       "    <tr style=\"text-align: right;\">\n",
       "      <th></th>\n",
       "      <th>author_id</th>\n",
       "      <th>created_at</th>\n",
       "      <th>created_at_dt</th>\n",
       "    </tr>\n",
       "  </thead>\n",
       "  <tbody>\n",
       "    <tr>\n",
       "      <th>0</th>\n",
       "      <td>21477074</td>\n",
       "      <td>2010-11-04 01:42:54</td>\n",
       "      <td>2010-11-04 01:42:54</td>\n",
       "    </tr>\n",
       "    <tr>\n",
       "      <th>1</th>\n",
       "      <td>15120297</td>\n",
       "      <td>2010-11-04 01:42:54</td>\n",
       "      <td>2010-11-04 01:42:54</td>\n",
       "    </tr>\n",
       "    <tr>\n",
       "      <th>2</th>\n",
       "      <td>15120297</td>\n",
       "      <td>2010-11-04 01:42:54</td>\n",
       "      <td>2010-11-04 01:42:54</td>\n",
       "    </tr>\n",
       "    <tr>\n",
       "      <th>3</th>\n",
       "      <td>15120297</td>\n",
       "      <td>2010-11-04 01:42:54</td>\n",
       "      <td>2010-11-04 01:42:54</td>\n",
       "    </tr>\n",
       "    <tr>\n",
       "      <th>4</th>\n",
       "      <td>15120297</td>\n",
       "      <td>2010-11-04 01:42:54</td>\n",
       "      <td>2010-11-04 01:42:54</td>\n",
       "    </tr>\n",
       "  </tbody>\n",
       "</table>\n",
       "</div>"
      ],
      "text/plain": [
       "   author_id           created_at       created_at_dt\n",
       "0   21477074  2010-11-04 01:42:54 2010-11-04 01:42:54\n",
       "1   15120297  2010-11-04 01:42:54 2010-11-04 01:42:54\n",
       "2   15120297  2010-11-04 01:42:54 2010-11-04 01:42:54\n",
       "3   15120297  2010-11-04 01:42:54 2010-11-04 01:42:54\n",
       "4   15120297  2010-11-04 01:42:54 2010-11-04 01:42:54"
      ]
     },
     "execution_count": 580,
     "metadata": {},
     "output_type": "execute_result"
    }
   ],
   "source": [
    "df_activity.head()"
   ]
  },
  {
   "cell_type": "code",
   "execution_count": 350,
   "metadata": {
    "scrolled": true
   },
   "outputs": [
    {
     "name": "stdout",
     "output_type": "stream",
     "text": [
      "CPU times: user 51.2 s, sys: 27.4 s, total: 1min 18s\n",
      "Wall time: 1min 21s\n"
     ]
    }
   ],
   "source": [
    "%%time\n",
    "df = df_activity.groupby(\"created_at_dt\").count()"
   ]
  },
  {
   "cell_type": "code",
   "execution_count": 351,
   "metadata": {},
   "outputs": [],
   "source": [
    "df.drop(columns=[\"author_id\"], inplace=True)"
   ]
  },
  {
   "cell_type": "code",
   "execution_count": 352,
   "metadata": {},
   "outputs": [],
   "source": [
    "df.rename(columns={\"created_at\": \"count\"}, inplace=True)"
   ]
  },
  {
   "cell_type": "code",
   "execution_count": 404,
   "metadata": {
    "scrolled": true
   },
   "outputs": [
    {
     "data": {
      "text/html": [
       "<div>\n",
       "<style scoped>\n",
       "    .dataframe tbody tr th:only-of-type {\n",
       "        vertical-align: middle;\n",
       "    }\n",
       "\n",
       "    .dataframe tbody tr th {\n",
       "        vertical-align: top;\n",
       "    }\n",
       "\n",
       "    .dataframe thead th {\n",
       "        text-align: right;\n",
       "    }\n",
       "</style>\n",
       "<table border=\"1\" class=\"dataframe\">\n",
       "  <thead>\n",
       "    <tr style=\"text-align: right;\">\n",
       "      <th></th>\n",
       "      <th>count</th>\n",
       "    </tr>\n",
       "    <tr>\n",
       "      <th>created_at_dt</th>\n",
       "      <th></th>\n",
       "    </tr>\n",
       "  </thead>\n",
       "  <tbody>\n",
       "    <tr>\n",
       "      <th>2010-11-04 01:42:54</th>\n",
       "      <td>2036</td>\n",
       "    </tr>\n",
       "    <tr>\n",
       "      <th>2010-11-04 01:42:55</th>\n",
       "      <td>3979</td>\n",
       "    </tr>\n",
       "    <tr>\n",
       "      <th>2010-11-04 01:42:56</th>\n",
       "      <td>2736</td>\n",
       "    </tr>\n",
       "    <tr>\n",
       "      <th>2010-11-04 01:42:57</th>\n",
       "      <td>3216</td>\n",
       "    </tr>\n",
       "    <tr>\n",
       "      <th>2010-11-04 01:42:58</th>\n",
       "      <td>2373</td>\n",
       "    </tr>\n",
       "  </tbody>\n",
       "</table>\n",
       "</div>"
      ],
      "text/plain": [
       "                     count\n",
       "created_at_dt             \n",
       "2010-11-04 01:42:54   2036\n",
       "2010-11-04 01:42:55   3979\n",
       "2010-11-04 01:42:56   2736\n",
       "2010-11-04 01:42:57   3216\n",
       "2010-11-04 01:42:58   2373"
      ]
     },
     "execution_count": 404,
     "metadata": {},
     "output_type": "execute_result"
    }
   ],
   "source": [
    "df.head()"
   ]
  },
  {
   "cell_type": "code",
   "execution_count": 621,
   "metadata": {},
   "outputs": [],
   "source": [
    "df_test = df.copy()\n",
    "df_test[\"date\"] = df_test.index\n",
    "df_test = (df_test[\"date\"].dt.floor('d')\n",
    "            .value_counts()\n",
    "            .rename_axis('date')\n",
    "            .reset_index(name='count'))"
   ]
  },
  {
   "cell_type": "code",
   "execution_count": 623,
   "metadata": {},
   "outputs": [
    {
     "data": {
      "text/html": [
       "<div>\n",
       "<style scoped>\n",
       "    .dataframe tbody tr th:only-of-type {\n",
       "        vertical-align: middle;\n",
       "    }\n",
       "\n",
       "    .dataframe tbody tr th {\n",
       "        vertical-align: top;\n",
       "    }\n",
       "\n",
       "    .dataframe thead th {\n",
       "        text-align: right;\n",
       "    }\n",
       "</style>\n",
       "<table border=\"1\" class=\"dataframe\">\n",
       "  <thead>\n",
       "    <tr style=\"text-align: right;\">\n",
       "      <th></th>\n",
       "      <th>date</th>\n",
       "      <th>count</th>\n",
       "    </tr>\n",
       "  </thead>\n",
       "  <tbody>\n",
       "    <tr>\n",
       "      <th>0</th>\n",
       "      <td>2019-02-20</td>\n",
       "      <td>78345</td>\n",
       "    </tr>\n",
       "    <tr>\n",
       "      <th>1</th>\n",
       "      <td>2019-02-19</td>\n",
       "      <td>78099</td>\n",
       "    </tr>\n",
       "    <tr>\n",
       "      <th>2</th>\n",
       "      <td>2019-02-22</td>\n",
       "      <td>78079</td>\n",
       "    </tr>\n",
       "    <tr>\n",
       "      <th>3</th>\n",
       "      <td>2019-02-21</td>\n",
       "      <td>77993</td>\n",
       "    </tr>\n",
       "    <tr>\n",
       "      <th>4</th>\n",
       "      <td>2019-02-13</td>\n",
       "      <td>77568</td>\n",
       "    </tr>\n",
       "  </tbody>\n",
       "</table>\n",
       "</div>"
      ],
      "text/plain": [
       "        date  count\n",
       "0 2019-02-20  78345\n",
       "1 2019-02-19  78099\n",
       "2 2019-02-22  78079\n",
       "3 2019-02-21  77993\n",
       "4 2019-02-13  77568"
      ]
     },
     "execution_count": 623,
     "metadata": {},
     "output_type": "execute_result"
    }
   ],
   "source": [
    "df_test.head()"
   ]
  },
  {
   "cell_type": "code",
   "execution_count": 588,
   "metadata": {},
   "outputs": [],
   "source": [
    "df_filt = df[(df.index > datetime(2018, 10, 1, 0, 0, 0)) & \n",
    "             (df.index < datetime(2019, 4, 1, 0, 0, 0))].copy()"
   ]
  },
  {
   "cell_type": "code",
   "execution_count": 589,
   "metadata": {},
   "outputs": [],
   "source": [
    "df_filt[\"dt\"] = df_filt.index"
   ]
  },
  {
   "cell_type": "code",
   "execution_count": 590,
   "metadata": {},
   "outputs": [],
   "source": [
    "df_filt = (df_filt[\"dt\"].dt.floor('d')\n",
    "                        .value_counts()\n",
    "                        .rename_axis('date')\n",
    "                        .reset_index(name='count'))"
   ]
  },
  {
   "cell_type": "code",
   "execution_count": 591,
   "metadata": {},
   "outputs": [],
   "source": [
    "df_filt.sort_values(by=\"date\", inplace=True)"
   ]
  },
  {
   "cell_type": "code",
   "execution_count": 603,
   "metadata": {},
   "outputs": [
    {
     "data": {
      "text/plain": [
       "64843.96703296703"
      ]
     },
     "execution_count": 603,
     "metadata": {},
     "output_type": "execute_result"
    }
   ],
   "source": [
    "df_filt[\"count\"].mean()"
   ]
  },
  {
   "cell_type": "code",
   "execution_count": 409,
   "metadata": {},
   "outputs": [
    {
     "data": {
      "text/plain": [
       "Text(0.5, 0, 'Date')"
      ]
     },
     "execution_count": 409,
     "metadata": {},
     "output_type": "execute_result"
    },
    {
     "data": {
      "image/png": "[encoded data removed]",
      "text/plain": [
       "<Figure size 1080x504 with 1 Axes>"
      ]
     },
     "metadata": {},
     "output_type": "display_data"
    }
   ],
   "source": [
    "#set ggplot style\n",
    "plt.style.use('ggplot')\n",
    "\n",
    "#plot data\n",
    "fig, ax = plt.subplots(figsize=(15,7))\n",
    "ax.bar(df_filt[\"date\"], df_filt['count'])\n",
    "\n",
    "#set ticks every week\n",
    "ax.xaxis.set_major_locator(mdates.MonthLocator())\n",
    "#format date\n",
    "ax.xaxis.set_major_formatter(mdates.DateFormatter('%b'))\n",
    "\n",
    "ax.set_title('Tweet count')\n",
    "ax.set_ylabel('Count')\n",
    "ax.set_xlabel('Date')"
   ]
  },
  {
   "cell_type": "code",
   "execution_count": 604,
   "metadata": {},
   "outputs": [],
   "source": [
    "T = 24*3600"
   ]
  },
  {
   "cell_type": "code",
   "execution_count": 624,
   "metadata": {},
   "outputs": [
    {
     "data": {
      "text/html": [
       "<div>\n",
       "<style scoped>\n",
       "    .dataframe tbody tr th:only-of-type {\n",
       "        vertical-align: middle;\n",
       "    }\n",
       "\n",
       "    .dataframe tbody tr th {\n",
       "        vertical-align: top;\n",
       "    }\n",
       "\n",
       "    .dataframe thead th {\n",
       "        text-align: right;\n",
       "    }\n",
       "</style>\n",
       "<table border=\"1\" class=\"dataframe\">\n",
       "  <thead>\n",
       "    <tr style=\"text-align: right;\">\n",
       "      <th></th>\n",
       "      <th>count</th>\n",
       "    </tr>\n",
       "    <tr>\n",
       "      <th>created_at_dt</th>\n",
       "      <th></th>\n",
       "    </tr>\n",
       "  </thead>\n",
       "  <tbody>\n",
       "    <tr>\n",
       "      <th>2010-11-04 01:42:54</th>\n",
       "      <td>2036</td>\n",
       "    </tr>\n",
       "    <tr>\n",
       "      <th>2010-11-04 01:42:55</th>\n",
       "      <td>3979</td>\n",
       "    </tr>\n",
       "    <tr>\n",
       "      <th>2010-11-04 01:42:56</th>\n",
       "      <td>2736</td>\n",
       "    </tr>\n",
       "    <tr>\n",
       "      <th>2010-11-04 01:42:57</th>\n",
       "      <td>3216</td>\n",
       "    </tr>\n",
       "    <tr>\n",
       "      <th>2010-11-04 01:42:58</th>\n",
       "      <td>2373</td>\n",
       "    </tr>\n",
       "  </tbody>\n",
       "</table>\n",
       "</div>"
      ],
      "text/plain": [
       "                     count\n",
       "created_at_dt             \n",
       "2010-11-04 01:42:54   2036\n",
       "2010-11-04 01:42:55   3979\n",
       "2010-11-04 01:42:56   2736\n",
       "2010-11-04 01:42:57   3216\n",
       "2010-11-04 01:42:58   2373"
      ]
     },
     "execution_count": 624,
     "metadata": {},
     "output_type": "execute_result"
    }
   ],
   "source": [
    "df.head()"
   ]
  },
  {
   "cell_type": "code",
   "execution_count": null,
   "metadata": {},
   "outputs": [],
   "source": [
    "tmp = pd.DataFrame({\"A\": [1, 2, 3, 4, 5], \"B\": []})"
   ]
  },
  {
   "cell_type": "code",
   "execution_count": 625,
   "metadata": {
    "scrolled": true
   },
   "outputs": [
    {
     "name": "stdout",
     "output_type": "stream",
     "text": [
      "CPU times: user 1.58 s, sys: 865 ms, total: 2.44 s\n",
      "Wall time: 1.83 s\n"
     ]
    }
   ],
   "source": [
    "%%time\n",
    "df_roll = df.rolling(str(T)+'s').sum()"
   ]
  },
  {
   "cell_type": "code",
   "execution_count": 628,
   "metadata": {
    "scrolled": true
   },
   "outputs": [
    {
     "data": {
      "text/html": [
       "<div>\n",
       "<style scoped>\n",
       "    .dataframe tbody tr th:only-of-type {\n",
       "        vertical-align: middle;\n",
       "    }\n",
       "\n",
       "    .dataframe tbody tr th {\n",
       "        vertical-align: top;\n",
       "    }\n",
       "\n",
       "    .dataframe thead th {\n",
       "        text-align: right;\n",
       "    }\n",
       "</style>\n",
       "<table border=\"1\" class=\"dataframe\">\n",
       "  <thead>\n",
       "    <tr style=\"text-align: right;\">\n",
       "      <th></th>\n",
       "      <th>count</th>\n",
       "    </tr>\n",
       "    <tr>\n",
       "      <th>created_at_dt</th>\n",
       "      <th></th>\n",
       "    </tr>\n",
       "  </thead>\n",
       "  <tbody>\n",
       "    <tr>\n",
       "      <th>2010-11-04 01:42:54</th>\n",
       "      <td>2036.0</td>\n",
       "    </tr>\n",
       "    <tr>\n",
       "      <th>2010-11-04 01:42:55</th>\n",
       "      <td>6015.0</td>\n",
       "    </tr>\n",
       "    <tr>\n",
       "      <th>2010-11-04 01:42:56</th>\n",
       "      <td>8751.0</td>\n",
       "    </tr>\n",
       "    <tr>\n",
       "      <th>2010-11-04 01:42:57</th>\n",
       "      <td>11967.0</td>\n",
       "    </tr>\n",
       "    <tr>\n",
       "      <th>2010-11-04 01:42:58</th>\n",
       "      <td>14340.0</td>\n",
       "    </tr>\n",
       "  </tbody>\n",
       "</table>\n",
       "</div>"
      ],
      "text/plain": [
       "                       count\n",
       "created_at_dt               \n",
       "2010-11-04 01:42:54   2036.0\n",
       "2010-11-04 01:42:55   6015.0\n",
       "2010-11-04 01:42:56   8751.0\n",
       "2010-11-04 01:42:57  11967.0\n",
       "2010-11-04 01:42:58  14340.0"
      ]
     },
     "execution_count": 628,
     "metadata": {},
     "output_type": "execute_result"
    }
   ],
   "source": [
    "df_roll.head()"
   ]
  },
  {
   "cell_type": "code",
   "execution_count": 634,
   "metadata": {},
   "outputs": [
    {
     "data": {
      "text/plain": [
       "87306.89525861619"
      ]
     },
     "execution_count": 634,
     "metadata": {},
     "output_type": "execute_result"
    }
   ],
   "source": [
    "df_roll[\"count\"].mean()"
   ]
  },
  {
   "cell_type": "code",
   "execution_count": 606,
   "metadata": {},
   "outputs": [],
   "source": [
    "df_roll_filt = df_roll[(df_roll_filt.index > datetime(2018, 10, 1, 0, 0, 0)) & \n",
    "                       (df_roll_filt.index < datetime(2019, 4, 1, 0, 0, 0))].copy()"
   ]
  },
  {
   "cell_type": "code",
   "execution_count": 607,
   "metadata": {
    "scrolled": false
   },
   "outputs": [
    {
     "data": {
      "text/plain": [
       "(11801602, 1)"
      ]
     },
     "execution_count": 607,
     "metadata": {},
     "output_type": "execute_result"
    }
   ],
   "source": [
    "df_roll_filt.shape"
   ]
  },
  {
   "cell_type": "code",
   "execution_count": 617,
   "metadata": {},
   "outputs": [],
   "source": [
    "test = df_activity[(df_activity.created_at_dt > datetime(2018, 10, 1, 0, 0, 0)) & \n",
    "            (df_activity.created_at_dt < datetime(2019, 4, 1, 0, 0, 0))]"
   ]
  },
  {
   "cell_type": "code",
   "execution_count": 618,
   "metadata": {},
   "outputs": [
    {
     "data": {
      "text/plain": [
       "(31883330, 3)"
      ]
     },
     "execution_count": 618,
     "metadata": {},
     "output_type": "execute_result"
    }
   ],
   "source": [
    "test.shape"
   ]
  },
  {
   "cell_type": "code",
   "execution_count": 613,
   "metadata": {
    "scrolled": true
   },
   "outputs": [
    {
     "data": {
      "text/html": [
       "<div>\n",
       "<style scoped>\n",
       "    .dataframe tbody tr th:only-of-type {\n",
       "        vertical-align: middle;\n",
       "    }\n",
       "\n",
       "    .dataframe tbody tr th {\n",
       "        vertical-align: top;\n",
       "    }\n",
       "\n",
       "    .dataframe thead th {\n",
       "        text-align: right;\n",
       "    }\n",
       "</style>\n",
       "<table border=\"1\" class=\"dataframe\">\n",
       "  <thead>\n",
       "    <tr style=\"text-align: right;\">\n",
       "      <th></th>\n",
       "      <th>date</th>\n",
       "      <th>count</th>\n",
       "    </tr>\n",
       "  </thead>\n",
       "  <tbody>\n",
       "    <tr>\n",
       "      <th>4304</th>\n",
       "      <td>2018-10-01 00:00:00</td>\n",
       "      <td>609</td>\n",
       "    </tr>\n",
       "    <tr>\n",
       "      <th>4229</th>\n",
       "      <td>2018-10-01 01:00:00</td>\n",
       "      <td>699</td>\n",
       "    </tr>\n",
       "    <tr>\n",
       "      <th>4334</th>\n",
       "      <td>2018-10-01 02:00:00</td>\n",
       "      <td>543</td>\n",
       "    </tr>\n",
       "    <tr>\n",
       "      <th>4339</th>\n",
       "      <td>2018-10-01 03:00:00</td>\n",
       "      <td>536</td>\n",
       "    </tr>\n",
       "    <tr>\n",
       "      <th>4061</th>\n",
       "      <td>2018-10-01 04:00:00</td>\n",
       "      <td>983</td>\n",
       "    </tr>\n",
       "  </tbody>\n",
       "</table>\n",
       "</div>"
      ],
      "text/plain": [
       "                    date  count\n",
       "4304 2018-10-01 00:00:00    609\n",
       "4229 2018-10-01 01:00:00    699\n",
       "4334 2018-10-01 02:00:00    543\n",
       "4339 2018-10-01 03:00:00    536\n",
       "4061 2018-10-01 04:00:00    983"
      ]
     },
     "execution_count": 613,
     "metadata": {},
     "output_type": "execute_result"
    }
   ],
   "source": [
    "df_roll_filt.head()"
   ]
  },
  {
   "cell_type": "code",
   "execution_count": 608,
   "metadata": {
    "scrolled": false
   },
   "outputs": [],
   "source": [
    "df_roll_filt[\"dt\"] = df_roll_filt.index"
   ]
  },
  {
   "cell_type": "code",
   "execution_count": 609,
   "metadata": {},
   "outputs": [],
   "source": [
    "df_roll_filt = (df_roll_filt[\"dt\"].dt.floor('h')\n",
    "                                  .value_counts()\n",
    "                                  .rename_axis('date')\n",
    "                                  .reset_index(name='count'))"
   ]
  },
  {
   "cell_type": "code",
   "execution_count": 610,
   "metadata": {},
   "outputs": [],
   "source": [
    "df_roll_filt.sort_values(by=\"date\", inplace=True)"
   ]
  },
  {
   "cell_type": "code",
   "execution_count": 644,
   "metadata": {},
   "outputs": [
    {
     "data": {
      "text/plain": [
       "Text(0.5, 0, 'Date')"
      ]
     },
     "execution_count": 644,
     "metadata": {},
     "output_type": "execute_result"
    },
    {
     "data": {
      "image/png": "[encoded data removed]",
      "text/plain": [
       "<Figure size 1080x504 with 1 Axes>"
      ]
     },
     "metadata": {},
     "output_type": "display_data"
    }
   ],
   "source": [
    "#set ggplot style\n",
    "plt.style.use('ggplot')\n",
    "\n",
    "#plot data\n",
    "data = df_roll_filt[(df_roll_filt[\"date\"] >= datetime(2019, 2, 1, 0, 0, 0)) & \n",
    "                    (df_roll_filt[\"date\"] < datetime(2019, 3, 1, 0, 0, 0))]\n",
    "fig, ax = plt.subplots(figsize=(15,7))\n",
    "ax.bar(data[\"date\"], data['count'])\n",
    "\n",
    "#set ticks every week\n",
    "ax.xaxis.set_major_locator(mdates.WeekdayLocator())\n",
    "#format date\n",
    "ax.xaxis.set_major_formatter(mdates.DateFormatter('%b %d'))\n",
    "\n",
    "ax.set_title('Tweet count')\n",
    "ax.set_ylabel('Count per hour')\n",
    "ax.set_xlabel('Date')"
   ]
  },
  {
   "cell_type": "code",
   "execution_count": 559,
   "metadata": {},
   "outputs": [
    {
     "name": "stdout",
     "output_type": "stream",
     "text": [
      "100% "
     ]
    }
   ],
   "source": [
    "# We observe the ten biggest windows\n",
    "# 1. Take the datetime corresponding to max window, this is the right bound\n",
    "# 2. To this value, substract the size of the window to obtain the left bound\n",
    "# 3. Take out all windows that intersect with more than half of the current window w\n",
    "#    To do this, we delete all window w' where w' > w-T/2 and w' < w+T/2\n",
    "# 4. Add the current window to a list\n",
    "# 5. Back to 1 until we get the desired amount of biggest windows. \n",
    "new_df = df_roll.copy()\n",
    "peaks = []\n",
    "n = 10\n",
    "\n",
    "for i in range(n):\n",
    "    sys.stdout.write('\\r'+ str(round(i*100/n))+'%  ')\n",
    "    dt_max = new_df.idxmax()[0]\n",
    "    dt_left = dt_max - timedelta(seconds=T)\n",
    "    new_df = pd.concat([new_df.loc[:dt_max-timedelta(seconds=T//2)], \n",
    "                        new_df.loc[dt_max+timedelta(seconds=T//2):]])\n",
    "    peaks.append(dt_max)\n",
    "\n",
    "sys.stdout.write('\\r100%')           "
   ]
  },
  {
   "cell_type": "code",
   "execution_count": 560,
   "metadata": {},
   "outputs": [
    {
     "data": {
      "text/plain": [
       "count    226529.0\n",
       "Name: 2019-02-19 22:36:26, dtype: float64"
      ]
     },
     "execution_count": 560,
     "metadata": {},
     "output_type": "execute_result"
    }
   ],
   "source": [
    "df_roll.loc[peaks[0]]"
   ]
  },
  {
   "cell_type": "code",
   "execution_count": 399,
   "metadata": {
    "scrolled": true
   },
   "outputs": [
    {
     "data": {
      "text/plain": [
       "[Timestamp('2019-02-19 21:09:28'),\n",
       " Timestamp('2019-02-20 22:13:29'),\n",
       " Timestamp('2019-02-13 21:57:28'),\n",
       " Timestamp('2019-02-19 23:09:28'),\n",
       " Timestamp('2019-02-20 20:12:10'),\n",
       " Timestamp('2019-02-21 21:14:26'),\n",
       " Timestamp('2019-02-16 20:26:53'),\n",
       " Timestamp('2019-02-12 22:29:22'),\n",
       " Timestamp('2019-02-19 19:09:26'),\n",
       " Timestamp('2019-02-18 21:28:13')]"
      ]
     },
     "execution_count": 399,
     "metadata": {},
     "output_type": "execute_result"
    }
   ],
   "source": [
    "peaks"
   ]
  },
  {
   "cell_type": "code",
   "execution_count": 561,
   "metadata": {},
   "outputs": [
    {
     "name": "stdout",
     "output_type": "stream",
     "text": [
      "100% "
     ]
    }
   ],
   "source": [
    "# Get the users in each window : \n",
    "authors_list = []\n",
    "for i in range(n):\n",
    "    sys.stdout.write('\\r'+ str(round(i*100/n))+'%  ')\n",
    "    # Get all authors in the window\n",
    "    left = peaks[i]-timedelta(seconds=T)\n",
    "    right = peaks[i]\n",
    "    authors_set = df_activity[(df_activity[\"created_at_dt\"] >= left) &\n",
    "                          (df_activity[\"created_at_dt\"] <= right)][\"author_id\"].unique()\n",
    "    authors_list.append(authors_set)\n",
    "sys.stdout.write('\\r100%')"
   ]
  },
  {
   "cell_type": "code",
   "execution_count": 649,
   "metadata": {},
   "outputs": [],
   "source": [
    "left = peaks[0]-timedelta(seconds=T)\n",
    "right = peaks[0]\n",
    "test = df_activity[(df_activity[\"created_at_dt\"] >= left) &\n",
    "                    (df_activity[\"created_at_dt\"] <= right)]"
   ]
  },
  {
   "cell_type": "code",
   "execution_count": 576,
   "metadata": {},
   "outputs": [
    {
     "data": {
      "text/plain": [
       "956"
      ]
     },
     "execution_count": 576,
     "metadata": {},
     "output_type": "execute_result"
    }
   ],
   "source": [
    "len(test[test>=50])"
   ]
  },
  {
   "cell_type": "code",
   "execution_count": 562,
   "metadata": {},
   "outputs": [
    {
     "data": {
      "text/plain": [
       "14636"
      ]
     },
     "execution_count": 562,
     "metadata": {},
     "output_type": "execute_result"
    }
   ],
   "source": [
    "len(authors_list[0])"
   ]
  },
  {
   "cell_type": "code",
   "execution_count": null,
   "metadata": {},
   "outputs": [],
   "source": [
    "# For each author in the author_set, compute the time serie\n",
    "TS = time_series.TimeSeries()\n",
    "author_to_ts = dict()\n",
    "for i in range(n):\n",
    "    authors_set = authors_list[i]\n",
    "    for author in authors_set:\n",
    "        if author not in author_to_ts:\n",
    "            dt_list = df_activity[df_activity[\"author_id\"] == author][\"created_at_dt\"]\n",
    "            author_to_ts[author] = TS.get_ts_from_datetime(list(dt_list))\n",
    "            \n",
    "# Write the time series on disk\n",
    "#with open(\"dtw/window_\" + str(n) + \".csv\") as f:\n",
    "        "
   ]
  },
  {
   "cell_type": "markdown",
   "metadata": {},
   "source": [
    "## Rolling sum on individual authors"
   ]
  },
  {
   "cell_type": "markdown",
   "metadata": {},
   "source": [
    "The assumption was that when a bunch of bots are activated, we will find a peak of activity in a short time period. Since the rolling count on the overall activity does not show any peak of activity, we can make the assumption that the amount of casual tweet in a window is too high to highlight a peak of bot activity. \n",
    "\n",
    "The idea is then to do rolling sum on individual authors, and for each author, take all time period T where at least x tweets were created, and keep only the tweets in those time period. This will remove all isolated tweets for each authors.\n",
    "\n",
    "Then we do rolling sum on the overall activity, and with luck we will have some time period where there is a peak of activity, i.e. a lot of authors are tweeting a lot and at the same time. "
   ]
  },
  {
   "cell_type": "code",
   "execution_count": 440,
   "metadata": {},
   "outputs": [],
   "source": [
    "test = [datetime(2018, 6, 6, 14, 0, 5),\n",
    "        datetime(2018, 6, 6, 14, 0, 10),\n",
    "        datetime(2018, 6, 6, 14, 0, 11),\n",
    "        datetime(2018, 6, 6, 14, 0, 20),\n",
    "        datetime(2018, 6, 6, 14, 0, 25),\n",
    "        datetime(2018, 6, 6, 14, 0, 30),\n",
    "        datetime(2018, 6, 6, 14, 0, 40),\n",
    "        datetime(2018, 6, 6, 14, 0, 42),\n",
    "        datetime(2018, 6, 6, 14, 0, 43),\n",
    "        datetime(2018, 6, 6, 14, 0, 55)]"
   ]
  },
  {
   "cell_type": "code",
   "execution_count": 667,
   "metadata": {},
   "outputs": [],
   "source": [
    "def frequent_tweet(list_created_at, period, keep_threshold):\n",
    "    window_size = timedelta(seconds=period)\n",
    "    df = pd.DataFrame({'created_at':list_created_at})\n",
    "    counts = df.groupby('created_at').size()\n",
    "    df_roll = counts.rolling(str(period)+'s').sum()\n",
    "    big_windows = list(df_roll[df_roll>=keep_threshold].index)\n",
    "    if len(big_windows) == 0:\n",
    "        return []\n",
    "    else:\n",
    "        mask = ((df[\"created_at\"]>big_windows[0]-window_size) & \n",
    "                (df[\"created_at\"]<=big_windows[0]))\n",
    "        for i in range(1, len(big_windows)):\n",
    "            tmp = ((df[\"created_at\"]>big_windows[i]-window_size) & \n",
    "                  (df[\"created_at\"]<=big_windows[i]))\n",
    "            mask = mask | tmp\n",
    "        tweets = list(df[mask][\"created_at\"])\n",
    "        return tweets"
   ]
  },
  {
   "cell_type": "code",
   "execution_count": 653,
   "metadata": {},
   "outputs": [],
   "source": [
    "test = df_activity[df_activity[\"author_id\"] == df_activity.iloc[0][\"author_id\"]]"
   ]
  },
  {
   "cell_type": "code",
   "execution_count": 663,
   "metadata": {
    "scrolled": true
   },
   "outputs": [
    {
     "name": "stdout",
     "output_type": "stream",
     "text": [
      "CPU times: user 567 ms, sys: 9.91 ms, total: 577 ms\n",
      "Wall time: 578 ms\n"
     ]
    }
   ],
   "source": [
    "%%time\n",
    "test_res = frequent_tweet(list(test.created_at_dt), 24*3600, 10)"
   ]
  },
  {
   "cell_type": "code",
   "execution_count": 660,
   "metadata": {},
   "outputs": [
    {
     "data": {
      "text/plain": [
       "(2214, 3)"
      ]
     },
     "execution_count": 660,
     "metadata": {},
     "output_type": "execute_result"
    }
   ],
   "source": [
    "test.shape"
   ]
  },
  {
   "cell_type": "code",
   "execution_count": 661,
   "metadata": {},
   "outputs": [
    {
     "data": {
      "text/plain": [
       "822"
      ]
     },
     "execution_count": 661,
     "metadata": {},
     "output_type": "execute_result"
    }
   ],
   "source": [
    "len(test_res)"
   ]
  },
  {
   "cell_type": "code",
   "execution_count": 675,
   "metadata": {},
   "outputs": [
    {
     "name": "stdout",
     "output_type": "stream",
     "text": [
      "CPU times: user 10h 44min 6s, sys: 2min 8s, total: 10h 46min 15s\n",
      "Wall time: 10h 48min 10s\n"
     ]
    }
   ],
   "source": [
    "%%time\n",
    "#df_test = df_activity.iloc[:1000000]\n",
    "test = df_activity.groupby('author_id')[\"created_at_dt\"].apply(lambda x: frequent_tweet(list(x), T, 10))"
   ]
  },
  {
   "cell_type": "code",
   "execution_count": 547,
   "metadata": {},
   "outputs": [],
   "source": [
    "test = df_activity[df_activity.author_id==df_activity.iloc[0].author_id].created_at_dt"
   ]
  },
  {
   "cell_type": "code",
   "execution_count": 684,
   "metadata": {
    "scrolled": true
   },
   "outputs": [
    {
     "data": {
      "text/plain": [
       "19484"
      ]
     },
     "execution_count": 684,
     "metadata": {},
     "output_type": "execute_result"
    }
   ],
   "source": [
    "len(test)"
   ]
  },
  {
   "cell_type": "code",
   "execution_count": 685,
   "metadata": {},
   "outputs": [
    {
     "data": {
      "text/plain": [
       "author_id\n",
       "15913     [2018-04-02 14:42:23, 2018-04-02 15:00:36, 201...\n",
       "65303     [2014-02-09 12:16:45, 2014-02-09 16:34:43, 201...\n",
       "742143    [2018-11-07 05:17:14, 2018-11-07 19:04:27, 201...\n",
       "759251    [2016-11-08 08:49:25, 2016-11-09 00:17:24, 201...\n",
       "807095    [2016-11-08 08:43:02, 2016-11-09 01:05:37, 201...\n",
       "Name: created_at_dt, dtype: object"
      ]
     },
     "execution_count": 685,
     "metadata": {},
     "output_type": "execute_result"
    }
   ],
   "source": [
    "test.head()"
   ]
  },
  {
   "cell_type": "code",
   "execution_count": 683,
   "metadata": {},
   "outputs": [],
   "source": [
    "test.to_csv(\"data/activities_24h_min10.csv\", index=True, header=True, encoding='utf-8')"
   ]
  },
  {
   "cell_type": "code",
   "execution_count": null,
   "metadata": {},
   "outputs": [],
   "source": [
    "df_activity.groupby('author_id')['created_at_dt'].apply()"
   ]
  },
  {
   "cell_type": "code",
   "execution_count": null,
   "metadata": {},
   "outputs": [],
   "source": []
  },
  {
   "cell_type": "code",
   "execution_count": null,
   "metadata": {},
   "outputs": [],
   "source": []
  },
  {
   "cell_type": "code",
   "execution_count": 173,
   "metadata": {},
   "outputs": [
    {
     "data": {
      "text/plain": [
       "(32409108, 1)"
      ]
     },
     "execution_count": 173,
     "metadata": {},
     "output_type": "execute_result"
    }
   ],
   "source": [
    "df_roll.loc[:dt_left].shape"
   ]
  },
  {
   "cell_type": "code",
   "execution_count": 175,
   "metadata": {},
   "outputs": [
    {
     "data": {
      "text/plain": [
       "(3857499, 1)"
      ]
     },
     "execution_count": 175,
     "metadata": {},
     "output_type": "execute_result"
    }
   ],
   "source": [
    "df_roll.loc[dt_max:].shape"
   ]
  },
  {
   "cell_type": "code",
   "execution_count": 177,
   "metadata": {},
   "outputs": [
    {
     "data": {
      "text/plain": [
       "(43060, 1)"
      ]
     },
     "execution_count": 177,
     "metadata": {},
     "output_type": "execute_result"
    }
   ],
   "source": [
    "df_roll.loc[dt_left:dt_max].shape"
   ]
  },
  {
   "cell_type": "code",
   "execution_count": 176,
   "metadata": {},
   "outputs": [
    {
     "data": {
      "text/plain": [
       "(36309665, 1)"
      ]
     },
     "execution_count": 176,
     "metadata": {},
     "output_type": "execute_result"
    }
   ],
   "source": [
    "df_roll.shape"
   ]
  },
  {
   "cell_type": "code",
   "execution_count": 179,
   "metadata": {
    "scrolled": false
   },
   "outputs": [
    {
     "data": {
      "text/plain": [
       "(36266607, 1)"
      ]
     },
     "execution_count": 179,
     "metadata": {},
     "output_type": "execute_result"
    }
   ],
   "source": [
    "pd.concat([df_roll.loc[:dt_left], df_roll.loc[dt_max:]]).shape"
   ]
  },
  {
   "cell_type": "code",
   "execution_count": 166,
   "metadata": {},
   "outputs": [
    {
     "data": {
      "text/plain": [
       "Timestamp('2019-02-19 10:45:53')"
      ]
     },
     "execution_count": 166,
     "metadata": {},
     "output_type": "execute_result"
    }
   ],
   "source": [
    "dt_left"
   ]
  },
  {
   "cell_type": "code",
   "execution_count": 161,
   "metadata": {},
   "outputs": [
    {
     "data": {
      "text/plain": [
       "pandas._libs.tslibs.timestamps.Timestamp"
      ]
     },
     "execution_count": 161,
     "metadata": {},
     "output_type": "execute_result"
    }
   ],
   "source": [
    "type(dt_max[0])"
   ]
  },
  {
   "cell_type": "code",
   "execution_count": 149,
   "metadata": {
    "scrolled": true
   },
   "outputs": [
    {
     "data": {
      "text/plain": [
       "DatetimeIndex(['2010-11-04 01:42:54', '2010-11-04 01:42:55',\n",
       "               '2010-11-04 01:42:56', '2010-11-04 01:42:57',\n",
       "               '2010-11-04 01:42:58'],\n",
       "              dtype='datetime64[ns]', name='created_at_dt', freq=None)"
      ]
     },
     "execution_count": 149,
     "metadata": {},
     "output_type": "execute_result"
    }
   ],
   "source": [
    "df_roll.index[:5]"
   ]
  },
  {
   "cell_type": "code",
   "execution_count": 164,
   "metadata": {},
   "outputs": [
    {
     "data": {
      "text/plain": [
       "count    266452.0\n",
       "Name: 2019-02-19 22:45:53, dtype: float64"
      ]
     },
     "execution_count": 164,
     "metadata": {},
     "output_type": "execute_result"
    }
   ],
   "source": [
    "df_roll.loc[dt_max[0]]"
   ]
  },
  {
   "cell_type": "code",
   "execution_count": 109,
   "metadata": {},
   "outputs": [],
   "source": [
    "#df_filt = df_roll[df_roll[\"count\"] > 100000]"
   ]
  },
  {
   "cell_type": "code",
   "execution_count": 131,
   "metadata": {},
   "outputs": [
    {
     "name": "stdout",
     "output_type": "stream",
     "text": [
      "CPU times: user 518 ms, sys: 25.7 ms, total: 543 ms\n",
      "Wall time: 167 ms\n"
     ]
    },
    {
     "data": {
      "text/plain": [
       "<matplotlib.axes._subplots.AxesSubplot at 0x126c980b8>"
      ]
     },
     "execution_count": 131,
     "metadata": {},
     "output_type": "execute_result"
    },
    {
     "data": {
      "image/png": "[encoded data removed]",
      "text/plain": [
       "<Figure size 1440x720 with 1 Axes>"
      ]
     },
     "metadata": {
      "needs_background": "light"
     },
     "output_type": "display_data"
    }
   ],
   "source": [
    "plt.figure(figsize=(20, 10))\n",
    "df_filt[\"count\"].hist(bins=20)"
   ]
  },
  {
   "cell_type": "code",
   "execution_count": 73,
   "metadata": {},
   "outputs": [],
   "source": [
    "df_test = pd.DataFrame({'A':[1,1,1,2,2],'B': [0, 1, 2, 4, 4]})"
   ]
  },
  {
   "cell_type": "code",
   "execution_count": 32,
   "metadata": {
    "scrolled": true
   },
   "outputs": [
    {
     "data": {
      "text/html": [
       "<div>\n",
       "<style scoped>\n",
       "    .dataframe tbody tr th:only-of-type {\n",
       "        vertical-align: middle;\n",
       "    }\n",
       "\n",
       "    .dataframe tbody tr th {\n",
       "        vertical-align: top;\n",
       "    }\n",
       "\n",
       "    .dataframe thead th {\n",
       "        text-align: right;\n",
       "    }\n",
       "</style>\n",
       "<table border=\"1\" class=\"dataframe\">\n",
       "  <thead>\n",
       "    <tr style=\"text-align: right;\">\n",
       "      <th></th>\n",
       "      <th>A</th>\n",
       "      <th>B</th>\n",
       "    </tr>\n",
       "  </thead>\n",
       "  <tbody>\n",
       "    <tr>\n",
       "      <th>0</th>\n",
       "      <td>NaN</td>\n",
       "      <td>NaN</td>\n",
       "    </tr>\n",
       "    <tr>\n",
       "      <th>1</th>\n",
       "      <td>3.0</td>\n",
       "      <td>3.0</td>\n",
       "    </tr>\n",
       "    <tr>\n",
       "      <th>2</th>\n",
       "      <td>4.0</td>\n",
       "      <td>7.0</td>\n",
       "    </tr>\n",
       "    <tr>\n",
       "      <th>3</th>\n",
       "      <td>5.0</td>\n",
       "      <td>10.0</td>\n",
       "    </tr>\n",
       "    <tr>\n",
       "      <th>4</th>\n",
       "      <td>NaN</td>\n",
       "      <td>NaN</td>\n",
       "    </tr>\n",
       "  </tbody>\n",
       "</table>\n",
       "</div>"
      ],
      "text/plain": [
       "     A     B\n",
       "0  NaN   NaN\n",
       "1  3.0   3.0\n",
       "2  4.0   7.0\n",
       "3  5.0  10.0\n",
       "4  NaN   NaN"
      ]
     },
     "execution_count": 32,
     "metadata": {},
     "output_type": "execute_result"
    }
   ],
   "source": [
    "df_test.rolling(3, center=True).sum()"
   ]
  },
  {
   "cell_type": "code",
   "execution_count": 690,
   "metadata": {},
   "outputs": [],
   "source": [
    "df_test = pd.DataFrame({'A':[datetime(2018, 6, 6, 14, 0, 5),\n",
    "                             datetime(2018, 6, 6, 14, 0, 10),\n",
    "                             datetime(2018, 6, 6, 14, 0, 11),\n",
    "                             datetime(2018, 6, 6, 14, 0, 20),\n",
    "                             datetime(2018, 6, 6, 14, 0, 25),\n",
    "                             datetime(2018, 6, 6, 14, 0, 30),\n",
    "                             datetime(2018, 6, 6, 14, 0, 40),\n",
    "                             datetime(2018, 6, 6, 14, 0, 42),\n",
    "                             datetime(2018, 6, 6, 14, 0, 43),\n",
    "                             datetime(2018, 6, 6, 14, 0, 55)],\n",
    "                        'B': [1, 1, 1, 1, 1, 1, 1, 1, 1, 1], \n",
    "                        'C': ['a','a','a','a','a','a','a','a','a','a']})"
   ]
  },
  {
   "cell_type": "code",
   "execution_count": 691,
   "metadata": {},
   "outputs": [
    {
     "data": {
      "text/html": [
       "<div>\n",
       "<style scoped>\n",
       "    .dataframe tbody tr th:only-of-type {\n",
       "        vertical-align: middle;\n",
       "    }\n",
       "\n",
       "    .dataframe tbody tr th {\n",
       "        vertical-align: top;\n",
       "    }\n",
       "\n",
       "    .dataframe thead th {\n",
       "        text-align: right;\n",
       "    }\n",
       "</style>\n",
       "<table border=\"1\" class=\"dataframe\">\n",
       "  <thead>\n",
       "    <tr style=\"text-align: right;\">\n",
       "      <th></th>\n",
       "      <th>A</th>\n",
       "      <th>B</th>\n",
       "    </tr>\n",
       "  </thead>\n",
       "  <tbody>\n",
       "    <tr>\n",
       "      <th>0</th>\n",
       "      <td>2018-06-06 14:00:05</td>\n",
       "      <td>1.0</td>\n",
       "    </tr>\n",
       "    <tr>\n",
       "      <th>1</th>\n",
       "      <td>2018-06-06 14:00:10</td>\n",
       "      <td>2.0</td>\n",
       "    </tr>\n",
       "    <tr>\n",
       "      <th>2</th>\n",
       "      <td>2018-06-06 14:00:11</td>\n",
       "      <td>3.0</td>\n",
       "    </tr>\n",
       "    <tr>\n",
       "      <th>3</th>\n",
       "      <td>2018-06-06 14:00:20</td>\n",
       "      <td>1.0</td>\n",
       "    </tr>\n",
       "    <tr>\n",
       "      <th>4</th>\n",
       "      <td>2018-06-06 14:00:25</td>\n",
       "      <td>2.0</td>\n",
       "    </tr>\n",
       "    <tr>\n",
       "      <th>5</th>\n",
       "      <td>2018-06-06 14:00:30</td>\n",
       "      <td>2.0</td>\n",
       "    </tr>\n",
       "    <tr>\n",
       "      <th>6</th>\n",
       "      <td>2018-06-06 14:00:40</td>\n",
       "      <td>1.0</td>\n",
       "    </tr>\n",
       "    <tr>\n",
       "      <th>7</th>\n",
       "      <td>2018-06-06 14:00:42</td>\n",
       "      <td>2.0</td>\n",
       "    </tr>\n",
       "    <tr>\n",
       "      <th>8</th>\n",
       "      <td>2018-06-06 14:00:43</td>\n",
       "      <td>3.0</td>\n",
       "    </tr>\n",
       "    <tr>\n",
       "      <th>9</th>\n",
       "      <td>2018-06-06 14:00:55</td>\n",
       "      <td>1.0</td>\n",
       "    </tr>\n",
       "  </tbody>\n",
       "</table>\n",
       "</div>"
      ],
      "text/plain": [
       "                    A    B\n",
       "0 2018-06-06 14:00:05  1.0\n",
       "1 2018-06-06 14:00:10  2.0\n",
       "2 2018-06-06 14:00:11  3.0\n",
       "3 2018-06-06 14:00:20  1.0\n",
       "4 2018-06-06 14:00:25  2.0\n",
       "5 2018-06-06 14:00:30  2.0\n",
       "6 2018-06-06 14:00:40  1.0\n",
       "7 2018-06-06 14:00:42  2.0\n",
       "8 2018-06-06 14:00:43  3.0\n",
       "9 2018-06-06 14:00:55  1.0"
      ]
     },
     "execution_count": 691,
     "metadata": {},
     "output_type": "execute_result"
    }
   ],
   "source": [
    "df_test.rolling('7s', on='A').sum()"
   ]
  },
  {
   "cell_type": "code",
   "execution_count": 70,
   "metadata": {
    "scrolled": true
   },
   "outputs": [
    {
     "data": {
      "text/plain": [
       "<matplotlib.axes._subplots.AxesSubplot at 0x13271e978>"
      ]
     },
     "execution_count": 70,
     "metadata": {},
     "output_type": "execute_result"
    },
    {
     "data": {
      "image/png": "[encoded data removed]",
      "text/plain": [
       "<Figure size 432x288 with 1 Axes>"
      ]
     },
     "metadata": {
      "needs_background": "light"
     },
     "output_type": "display_data"
    }
   ],
   "source": [
    "df_test.rolling('7s', on='A').sum().plot.bar(x=\"A\", y=\"B\")"
   ]
  },
  {
   "cell_type": "code",
   "execution_count": 237,
   "metadata": {},
   "outputs": [],
   "source": [
    "authors = df_activity.author_id.unique()"
   ]
  },
  {
   "cell_type": "code",
   "execution_count": 240,
   "metadata": {},
   "outputs": [],
   "source": [
    "import random"
   ]
  },
  {
   "cell_type": "code",
   "execution_count": 245,
   "metadata": {},
   "outputs": [],
   "source": [
    "rand_authors = random.sample(list(authors), 10)"
   ]
  },
  {
   "cell_type": "code",
   "execution_count": 254,
   "metadata": {},
   "outputs": [],
   "source": [
    "df_test = df_activity[df_activity.author_id.isin(rand_authors)]"
   ]
  },
  {
   "cell_type": "code",
   "execution_count": 258,
   "metadata": {},
   "outputs": [],
   "source": [
    "TS = TimeSeries(base_time=df_activity.created_at_dt.min(),\n",
    "                 end_time=df_activity.created_at_dt.max())\n",
    "df_test2 = (df_test.groupby('author_id')['created_at_dt']\n",
    "                .apply(lambda x: list(x))\n",
    "                .reset_index(name='activity'))\n",
    "df_test2[\"tweet_count\"] = df_test2[\"activity\"].apply(len)\n",
    "df_test2 = df_test2[df_test2.tweet_count>0]\n",
    "df_test2[\"ts\"] = df_test2[\"activity\"].apply(lambda x: TS.get_encoded_ts(x))\n",
    "df_test2 = df_test2.drop(columns=[\"tweet_count\", \"activity\"])\n",
    "#df_test.to_csv(\"data/df_bot_ts.csv\", index=False, encoding='utf-8')"
   ]
  },
  {
   "cell_type": "code",
   "execution_count": 259,
   "metadata": {},
   "outputs": [],
   "source": [
    "def compute_awarp(df_author_ts):\n",
    "    '''\n",
    "    Takes a dataframe with 'author_id' and 'ts' as columnn. \n",
    "    The ts column is already encoded for awarp. \n",
    "    Write the time series on disk and call a python wrapper \n",
    "    for cpp that will read the file and compute the distances. \n",
    "    The wrapper will then write the result on disk. The function \n",
    "    then read the file and returns a dataframe with 'author_id_x', \n",
    "    'author_id_y' and 'd' representing the distance between two \n",
    "    authors.\n",
    "    '''\n",
    "    to_write = \"\"\n",
    "    for x in df_author_ts.ts:\n",
    "        for y in x:\n",
    "            to_write += str(y) + \",\"\n",
    "        to_write = to_write[:-1]\n",
    "        to_write += \"\\n\"\n",
    "\n",
    "    with open(\"awarp_wrapper/ts.csv\", \"w\") as f:\n",
    "        f.write(to_write)\n",
    "    \n",
    "    # call the wrapper\n",
    "    f = awarp.DTW()\n",
    "    f.run()\n",
    "    \n",
    "    # read the output file\n",
    "    df_out = pd.read_csv('awarp_wrapper/out.txt', sep=\" \", header=None, \n",
    "                     names = [\"author_id_x\",\"author_id_y\",\"d\"])\n",
    "    \n",
    "    # update the author columns with the right authors\n",
    "    current_idx = 0\n",
    "    author_list = list(df_author_ts.author_id)\n",
    "    cur_count = df_author_ts.shape[0]-1\n",
    "    count = int((df_author_ts.shape[0]*(df_author_ts.shape[0]-1))/2)\n",
    "    author_left = []\n",
    "    author_right = []\n",
    "    for i in range(len(author_list)-1):\n",
    "        author_left += [author_list[i]]*cur_count\n",
    "        cur_count-=1\n",
    "    cur_count = df_author_ts.shape[0]-1\n",
    "    for i in range(len(author_list)-1):\n",
    "        for j in range(i+1, len(author_list)):\n",
    "            author_right.append(author_list[j])\n",
    "            \n",
    "    df_out[\"author_id_x\"] = author_left\n",
    "    df_out[\"author_id_y\"] = author_right\n",
    "    \n",
    "    return df_out\n",
    "    "
   ]
  },
  {
   "cell_type": "code",
   "execution_count": 262,
   "metadata": {},
   "outputs": [],
   "source": [
    "df_out = compute_awarp(df_test2)"
   ]
  },
  {
   "cell_type": "code",
   "execution_count": 263,
   "metadata": {},
   "outputs": [
    {
     "data": {
      "text/html": [
       "<div>\n",
       "<style scoped>\n",
       "    .dataframe tbody tr th:only-of-type {\n",
       "        vertical-align: middle;\n",
       "    }\n",
       "\n",
       "    .dataframe tbody tr th {\n",
       "        vertical-align: top;\n",
       "    }\n",
       "\n",
       "    .dataframe thead th {\n",
       "        text-align: right;\n",
       "    }\n",
       "</style>\n",
       "<table border=\"1\" class=\"dataframe\">\n",
       "  <thead>\n",
       "    <tr style=\"text-align: right;\">\n",
       "      <th></th>\n",
       "      <th>author_id_x</th>\n",
       "      <th>author_id_y</th>\n",
       "      <th>d</th>\n",
       "    </tr>\n",
       "  </thead>\n",
       "  <tbody>\n",
       "    <tr>\n",
       "      <th>0</th>\n",
       "      <td>80914977</td>\n",
       "      <td>89411566</td>\n",
       "      <td>2.00000</td>\n",
       "    </tr>\n",
       "    <tr>\n",
       "      <th>1</th>\n",
       "      <td>80914977</td>\n",
       "      <td>91757214</td>\n",
       "      <td>7.81025</td>\n",
       "    </tr>\n",
       "    <tr>\n",
       "      <th>2</th>\n",
       "      <td>80914977</td>\n",
       "      <td>353715706</td>\n",
       "      <td>1.00000</td>\n",
       "    </tr>\n",
       "    <tr>\n",
       "      <th>3</th>\n",
       "      <td>80914977</td>\n",
       "      <td>559463499</td>\n",
       "      <td>1.41421</td>\n",
       "    </tr>\n",
       "    <tr>\n",
       "      <th>4</th>\n",
       "      <td>80914977</td>\n",
       "      <td>1888499617</td>\n",
       "      <td>1.41421</td>\n",
       "    </tr>\n",
       "    <tr>\n",
       "      <th>5</th>\n",
       "      <td>80914977</td>\n",
       "      <td>2385208038</td>\n",
       "      <td>1.41421</td>\n",
       "    </tr>\n",
       "    <tr>\n",
       "      <th>6</th>\n",
       "      <td>80914977</td>\n",
       "      <td>2441761627</td>\n",
       "      <td>1.41421</td>\n",
       "    </tr>\n",
       "    <tr>\n",
       "      <th>7</th>\n",
       "      <td>80914977</td>\n",
       "      <td>3693909805</td>\n",
       "      <td>4.47214</td>\n",
       "    </tr>\n",
       "    <tr>\n",
       "      <th>8</th>\n",
       "      <td>80914977</td>\n",
       "      <td>1055944928004595713</td>\n",
       "      <td>1.00000</td>\n",
       "    </tr>\n",
       "    <tr>\n",
       "      <th>9</th>\n",
       "      <td>89411566</td>\n",
       "      <td>91757214</td>\n",
       "      <td>7.54983</td>\n",
       "    </tr>\n",
       "    <tr>\n",
       "      <th>10</th>\n",
       "      <td>89411566</td>\n",
       "      <td>353715706</td>\n",
       "      <td>2.23607</td>\n",
       "    </tr>\n",
       "    <tr>\n",
       "      <th>11</th>\n",
       "      <td>89411566</td>\n",
       "      <td>559463499</td>\n",
       "      <td>2.44949</td>\n",
       "    </tr>\n",
       "    <tr>\n",
       "      <th>12</th>\n",
       "      <td>89411566</td>\n",
       "      <td>1888499617</td>\n",
       "      <td>2.44949</td>\n",
       "    </tr>\n",
       "    <tr>\n",
       "      <th>13</th>\n",
       "      <td>89411566</td>\n",
       "      <td>2385208038</td>\n",
       "      <td>2.44949</td>\n",
       "    </tr>\n",
       "    <tr>\n",
       "      <th>14</th>\n",
       "      <td>89411566</td>\n",
       "      <td>2441761627</td>\n",
       "      <td>2.44949</td>\n",
       "    </tr>\n",
       "    <tr>\n",
       "      <th>15</th>\n",
       "      <td>89411566</td>\n",
       "      <td>3693909805</td>\n",
       "      <td>4.00000</td>\n",
       "    </tr>\n",
       "    <tr>\n",
       "      <th>16</th>\n",
       "      <td>89411566</td>\n",
       "      <td>1055944928004595713</td>\n",
       "      <td>2.23607</td>\n",
       "    </tr>\n",
       "    <tr>\n",
       "      <th>17</th>\n",
       "      <td>91757214</td>\n",
       "      <td>353715706</td>\n",
       "      <td>7.87401</td>\n",
       "    </tr>\n",
       "    <tr>\n",
       "      <th>18</th>\n",
       "      <td>91757214</td>\n",
       "      <td>559463499</td>\n",
       "      <td>8.00000</td>\n",
       "    </tr>\n",
       "    <tr>\n",
       "      <th>19</th>\n",
       "      <td>91757214</td>\n",
       "      <td>1888499617</td>\n",
       "      <td>8.00000</td>\n",
       "    </tr>\n",
       "    <tr>\n",
       "      <th>20</th>\n",
       "      <td>91757214</td>\n",
       "      <td>2385208038</td>\n",
       "      <td>8.00000</td>\n",
       "    </tr>\n",
       "    <tr>\n",
       "      <th>21</th>\n",
       "      <td>91757214</td>\n",
       "      <td>2441761627</td>\n",
       "      <td>8.00000</td>\n",
       "    </tr>\n",
       "    <tr>\n",
       "      <th>22</th>\n",
       "      <td>91757214</td>\n",
       "      <td>3693909805</td>\n",
       "      <td>6.40312</td>\n",
       "    </tr>\n",
       "    <tr>\n",
       "      <th>23</th>\n",
       "      <td>91757214</td>\n",
       "      <td>1055944928004595713</td>\n",
       "      <td>7.87401</td>\n",
       "    </tr>\n",
       "    <tr>\n",
       "      <th>24</th>\n",
       "      <td>353715706</td>\n",
       "      <td>559463499</td>\n",
       "      <td>1.00000</td>\n",
       "    </tr>\n",
       "    <tr>\n",
       "      <th>25</th>\n",
       "      <td>353715706</td>\n",
       "      <td>1888499617</td>\n",
       "      <td>1.00000</td>\n",
       "    </tr>\n",
       "    <tr>\n",
       "      <th>26</th>\n",
       "      <td>353715706</td>\n",
       "      <td>2385208038</td>\n",
       "      <td>1.00000</td>\n",
       "    </tr>\n",
       "    <tr>\n",
       "      <th>27</th>\n",
       "      <td>353715706</td>\n",
       "      <td>2441761627</td>\n",
       "      <td>1.00000</td>\n",
       "    </tr>\n",
       "    <tr>\n",
       "      <th>28</th>\n",
       "      <td>353715706</td>\n",
       "      <td>3693909805</td>\n",
       "      <td>4.58258</td>\n",
       "    </tr>\n",
       "    <tr>\n",
       "      <th>29</th>\n",
       "      <td>353715706</td>\n",
       "      <td>1055944928004595713</td>\n",
       "      <td>0.00000</td>\n",
       "    </tr>\n",
       "    <tr>\n",
       "      <th>30</th>\n",
       "      <td>559463499</td>\n",
       "      <td>1888499617</td>\n",
       "      <td>0.00000</td>\n",
       "    </tr>\n",
       "    <tr>\n",
       "      <th>31</th>\n",
       "      <td>559463499</td>\n",
       "      <td>2385208038</td>\n",
       "      <td>0.00000</td>\n",
       "    </tr>\n",
       "    <tr>\n",
       "      <th>32</th>\n",
       "      <td>559463499</td>\n",
       "      <td>2441761627</td>\n",
       "      <td>0.00000</td>\n",
       "    </tr>\n",
       "    <tr>\n",
       "      <th>33</th>\n",
       "      <td>559463499</td>\n",
       "      <td>3693909805</td>\n",
       "      <td>4.69042</td>\n",
       "    </tr>\n",
       "    <tr>\n",
       "      <th>34</th>\n",
       "      <td>559463499</td>\n",
       "      <td>1055944928004595713</td>\n",
       "      <td>1.00000</td>\n",
       "    </tr>\n",
       "    <tr>\n",
       "      <th>35</th>\n",
       "      <td>1888499617</td>\n",
       "      <td>2385208038</td>\n",
       "      <td>0.00000</td>\n",
       "    </tr>\n",
       "    <tr>\n",
       "      <th>36</th>\n",
       "      <td>1888499617</td>\n",
       "      <td>2441761627</td>\n",
       "      <td>0.00000</td>\n",
       "    </tr>\n",
       "    <tr>\n",
       "      <th>37</th>\n",
       "      <td>1888499617</td>\n",
       "      <td>3693909805</td>\n",
       "      <td>4.69042</td>\n",
       "    </tr>\n",
       "    <tr>\n",
       "      <th>38</th>\n",
       "      <td>1888499617</td>\n",
       "      <td>1055944928004595713</td>\n",
       "      <td>1.00000</td>\n",
       "    </tr>\n",
       "    <tr>\n",
       "      <th>39</th>\n",
       "      <td>2385208038</td>\n",
       "      <td>2441761627</td>\n",
       "      <td>0.00000</td>\n",
       "    </tr>\n",
       "    <tr>\n",
       "      <th>40</th>\n",
       "      <td>2385208038</td>\n",
       "      <td>3693909805</td>\n",
       "      <td>4.69042</td>\n",
       "    </tr>\n",
       "    <tr>\n",
       "      <th>41</th>\n",
       "      <td>2385208038</td>\n",
       "      <td>1055944928004595713</td>\n",
       "      <td>1.00000</td>\n",
       "    </tr>\n",
       "    <tr>\n",
       "      <th>42</th>\n",
       "      <td>2441761627</td>\n",
       "      <td>3693909805</td>\n",
       "      <td>4.69042</td>\n",
       "    </tr>\n",
       "    <tr>\n",
       "      <th>43</th>\n",
       "      <td>2441761627</td>\n",
       "      <td>1055944928004595713</td>\n",
       "      <td>1.00000</td>\n",
       "    </tr>\n",
       "    <tr>\n",
       "      <th>44</th>\n",
       "      <td>3693909805</td>\n",
       "      <td>1055944928004595713</td>\n",
       "      <td>4.58258</td>\n",
       "    </tr>\n",
       "  </tbody>\n",
       "</table>\n",
       "</div>"
      ],
      "text/plain": [
       "    author_id_x          author_id_y        d\n",
       "0      80914977             89411566  2.00000\n",
       "1      80914977             91757214  7.81025\n",
       "2      80914977            353715706  1.00000\n",
       "3      80914977            559463499  1.41421\n",
       "4      80914977           1888499617  1.41421\n",
       "5      80914977           2385208038  1.41421\n",
       "6      80914977           2441761627  1.41421\n",
       "7      80914977           3693909805  4.47214\n",
       "8      80914977  1055944928004595713  1.00000\n",
       "9      89411566             91757214  7.54983\n",
       "10     89411566            353715706  2.23607\n",
       "11     89411566            559463499  2.44949\n",
       "12     89411566           1888499617  2.44949\n",
       "13     89411566           2385208038  2.44949\n",
       "14     89411566           2441761627  2.44949\n",
       "15     89411566           3693909805  4.00000\n",
       "16     89411566  1055944928004595713  2.23607\n",
       "17     91757214            353715706  7.87401\n",
       "18     91757214            559463499  8.00000\n",
       "19     91757214           1888499617  8.00000\n",
       "20     91757214           2385208038  8.00000\n",
       "21     91757214           2441761627  8.00000\n",
       "22     91757214           3693909805  6.40312\n",
       "23     91757214  1055944928004595713  7.87401\n",
       "24    353715706            559463499  1.00000\n",
       "25    353715706           1888499617  1.00000\n",
       "26    353715706           2385208038  1.00000\n",
       "27    353715706           2441761627  1.00000\n",
       "28    353715706           3693909805  4.58258\n",
       "29    353715706  1055944928004595713  0.00000\n",
       "30    559463499           1888499617  0.00000\n",
       "31    559463499           2385208038  0.00000\n",
       "32    559463499           2441761627  0.00000\n",
       "33    559463499           3693909805  4.69042\n",
       "34    559463499  1055944928004595713  1.00000\n",
       "35   1888499617           2385208038  0.00000\n",
       "36   1888499617           2441761627  0.00000\n",
       "37   1888499617           3693909805  4.69042\n",
       "38   1888499617  1055944928004595713  1.00000\n",
       "39   2385208038           2441761627  0.00000\n",
       "40   2385208038           3693909805  4.69042\n",
       "41   2385208038  1055944928004595713  1.00000\n",
       "42   2441761627           3693909805  4.69042\n",
       "43   2441761627  1055944928004595713  1.00000\n",
       "44   3693909805  1055944928004595713  4.58258"
      ]
     },
     "execution_count": 263,
     "metadata": {},
     "output_type": "execute_result"
    }
   ],
   "source": [
    "df_out"
   ]
  }
 ],
 "metadata": {
  "kernelspec": {
   "display_name": "Python 3",
   "language": "python",
   "name": "python3"
  },
  "language_info": {
   "codemirror_mode": {
    "name": "ipython",
    "version": 3
   },
   "file_extension": ".py",
   "mimetype": "text/x-python",
   "name": "python",
   "nbconvert_exporter": "python",
   "pygments_lexer": "ipython3",
   "version": "3.6.9"
  }
 },
 "nbformat": 4,
 "nbformat_minor": 2
}
