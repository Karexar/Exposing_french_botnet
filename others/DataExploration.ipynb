{
 "cells": [
  {
   "cell_type": "code",
   "execution_count": null,
   "metadata": {},
   "outputs": [],
   "source": [
    "from sqlalchemy import create_engine\n",
    "import pandas as pd"
   ]
  },
  {
   "cell_type": "markdown",
   "metadata": {},
   "source": [
    "**document**\n",
    "- id : id of document ? Never null. ~37% of unique id for GJ_20Sept_17nov for example, not null. May be related to the body content (one id for each unique body content), but it's not exactly the same. For GJ_20Sept_17nov, we have 69448 unique body content, but 69590 unique id. \n",
    "- author_id : 6.9% null. We lose these data when we join for hashtag. 210'417 unique authors\n",
    "- author_username : 97.8% null. \n",
    "- authors : 100% null. \n",
    "- title : 95.2% null. When not null, this is an integer stored as text\n",
    "- body : Tweet content. Almost never null.\n",
    "- country : 96.8% null. Almost everywhere (at least GJ_20Sept_17nov)\n",
    "- doc_type : Never null. 'twitter' everywhere\n",
    "- language : Never null, so we should have all fr tweet by filtering with 'fr'\n",
    "- publishing_date : Never null\n",
    "- main_document_id : 95.3% null. \n",
    "- coordinates : 99.9% null\n",
    "- place : city. 96.8% null\n",
    "- user_country : 30% null\n",
    "- retweet_count 6.9% null\n",
    "- subject_classes : 100% null\n",
    "- natural_key : tweet id. Never null\n",
    "- url : url of the tweet. Never null\n",
    "- document_urls : 89.2% null. e.g. resistanceauthentique.wordpress.com/...\n",
    "- base_popularity : Never null. Integer. Min=1 Max=~23003 for GJ_20Sept_17nov\n",
    "- popularity : Never null. Float. Seems to be the same as base_popularity but float. \n",
    "- sentiment : 4.66% null. From -1.0 to 1.0. \n",
    "\n",
    "**document_hashtag**\n",
    "- document_id : tweet id. Never null. \n",
    "- hashtag : Never null. A string representing only one hashtag. "
   ]
  },
  {
   "cell_type": "code",
   "execution_count": null,
   "metadata": {},
   "outputs": [],
   "source": [
    "# Test db for null values and others\n",
    "columns = []\n",
    "\n",
    "for col in list(test.columns)[:-2]:\n",
    "    print(col)\n",
    "    res = []\n",
    "    for db in databases:\n",
    "        engine = create_engine(\"postgresql+psycopg2://\" + \n",
    "                               \"pg:LooPhahph9aciesa@cat-01.h.k39.us:5432/%s\" % (db))\n",
    "        #fr = pd.read_sql(\"SELECT COUNT(*) \" +\n",
    "        #             \"FROM document join document_hashtag on id = document_id \" + \n",
    "        #             \"WHERE document.language = 'fr' and document.publishing_date IS NULL\", engine)\n",
    "        #notfr = pd.read_sql(\"SELECT COUNT(*) \" +\n",
    "        #             \"FROM document join document_hashtag on id = document_id \" + \n",
    "        #             \"WHERE document.language <> 'fr'\", engine)\n",
    "        null = pd.read_sql(\"SELECT COUNT(*) \" +\n",
    "                     \"FROM document \" + #join document_hashtag on id = document_id \" + \n",
    "                     \"WHERE document.language = 'fr' AND document.\" + col + \" IS NULL\", engine)\n",
    "        notnull = pd.read_sql(\"SELECT COUNT(*) \" +\n",
    "                     \"FROM document \" + #join document_hashtag on id = document_id \" + \n",
    "                     \"WHERE document.language = 'fr' AND document.\" + col + \" IS NOT NULL\", engine)\n",
    "        null_count = null['count'].get(0)\n",
    "        not_null_count = notnull['count'].get(0)\n",
    "        ratio = null_count / (not_null_count + null_count)\n",
    "        res.append(round(ratio*100, 2))\n",
    "    print(res)\n",
    "    print(sum(res) / len(res))"
   ]
  }
 ],
 "metadata": {
  "kernelspec": {
   "display_name": "Python 3",
   "language": "python",
   "name": "python3"
  },
  "language_info": {
   "codemirror_mode": {
    "name": "ipython",
    "version": 3
   },
   "file_extension": ".py",
   "mimetype": "text/x-python",
   "name": "python",
   "nbconvert_exporter": "python",
   "pygments_lexer": "ipython3",
   "version": "3.6.9"
  }
 },
 "nbformat": 4,
 "nbformat_minor": 2
}
