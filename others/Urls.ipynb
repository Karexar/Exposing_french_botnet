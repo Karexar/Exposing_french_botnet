{
 "cells": [
  {
   "cell_type": "code",
   "execution_count": 1,
   "metadata": {},
   "outputs": [],
   "source": [
    "import numpy as np\n",
    "import pandas as pd\n",
    "import os\n",
    "from datetime import datetime\n",
    "from db import *\n",
    "from time_series import *\n",
    "import sys\n",
    "from url_parser import *\n",
    "sys.path.append('/Volumes/GoogleDrive/Mon Drive/Python-helpers')\n",
    "from save_obj import *"
   ]
  },
  {
   "cell_type": "markdown",
   "metadata": {},
   "source": [
    "# Urls"
   ]
  },
  {
   "cell_type": "markdown",
   "metadata": {},
   "source": [
    "We use author_id, natural_key, and body (url is the url of the tweet so we ignore it)"
   ]
  },
  {
   "cell_type": "code",
   "execution_count": 2,
   "metadata": {
    "scrolled": true
   },
   "outputs": [
    {
     "name": "stdout",
     "output_type": "stream",
     "text": [
      "CPU times: user 1min 8s, sys: 9.53 s, total: 1min 17s\n",
      "Wall time: 1min 20s\n"
     ]
    }
   ],
   "source": [
    "%%time\n",
    "if not os.path.isfile(\"data/df_url.csv\"):\n",
    "    data_manager = DataManager()\n",
    "    data_manager.create_url_df()\n",
    "    \n",
    "df_url = pd.read_csv(\"data/df_url.csv\", encoding='utf-8', engine='python')\n",
    "df_url.dropna(inplace=True)\n",
    "df_url = df_url.drop(columns=[\"natural_key\"])\n",
    "df_url[\"author_id\"] = df_url.author_id.astype(int)"
   ]
  },
  {
   "cell_type": "code",
   "execution_count": 3,
   "metadata": {
    "scrolled": false
   },
   "outputs": [
    {
     "data": {
      "text/html": [
       "<div>\n",
       "<style scoped>\n",
       "    .dataframe tbody tr th:only-of-type {\n",
       "        vertical-align: middle;\n",
       "    }\n",
       "\n",
       "    .dataframe tbody tr th {\n",
       "        vertical-align: top;\n",
       "    }\n",
       "\n",
       "    .dataframe thead th {\n",
       "        text-align: right;\n",
       "    }\n",
       "</style>\n",
       "<table border=\"1\" class=\"dataframe\">\n",
       "  <thead>\n",
       "    <tr style=\"text-align: right;\">\n",
       "      <th></th>\n",
       "      <th>author_id</th>\n",
       "      <th>body</th>\n",
       "    </tr>\n",
       "  </thead>\n",
       "  <tbody>\n",
       "    <tr>\n",
       "      <th>0</th>\n",
       "      <td>374784294</td>\n",
       "      <td>\"Mon gilet jaune, je l'ai brûlé\" : engagés de ...</td>\n",
       "    </tr>\n",
       "    <tr>\n",
       "      <th>1</th>\n",
       "      <td>1053327852425433088</td>\n",
       "      <td>@EMierti @Rine02_22 C'est impressionnant, tous...</td>\n",
       "    </tr>\n",
       "    <tr>\n",
       "      <th>2</th>\n",
       "      <td>1111305741003079680</td>\n",
       "      <td>Pour ceux qui ne croient pas aux mouvements de...</td>\n",
       "    </tr>\n",
       "    <tr>\n",
       "      <th>3</th>\n",
       "      <td>1417988923</td>\n",
       "      <td>Gilets Jaunes, une répression d'Etat | Documen...</td>\n",
       "    </tr>\n",
       "    <tr>\n",
       "      <th>4</th>\n",
       "      <td>1926002202</td>\n",
       "      <td>Mdr, quelqu'un peut leur dire que c'est hasbee...</td>\n",
       "    </tr>\n",
       "  </tbody>\n",
       "</table>\n",
       "</div>"
      ],
      "text/plain": [
       "             author_id                                               body\n",
       "0            374784294  \"Mon gilet jaune, je l'ai brûlé\" : engagés de ...\n",
       "1  1053327852425433088  @EMierti @Rine02_22 C'est impressionnant, tous...\n",
       "2  1111305741003079680  Pour ceux qui ne croient pas aux mouvements de...\n",
       "3           1417988923  Gilets Jaunes, une répression d'Etat | Documen...\n",
       "4           1926002202  Mdr, quelqu'un peut leur dire que c'est hasbee..."
      ]
     },
     "execution_count": 3,
     "metadata": {},
     "output_type": "execute_result"
    }
   ],
   "source": [
    "df_url.head()"
   ]
  },
  {
   "cell_type": "markdown",
   "metadata": {},
   "source": [
    "The first thing to do is to parse the body to get the urls"
   ]
  },
  {
   "cell_type": "code",
   "execution_count": 5,
   "metadata": {},
   "outputs": [
    {
     "name": "stdout",
     "output_type": "stream",
     "text": [
      "CPU times: user 3min 51s, sys: 699 ms, total: 3min 52s\n",
      "Wall time: 3min 52s\n"
     ]
    }
   ],
   "source": [
    "%%time\n",
    "# parse the body to get the urls\n",
    "df_url[\"urls\"] = df_url[\"body\"].map(get_urls_from_text)\n",
    "# keep only the tweet that contains at least one url\n",
    "df_url = df_url[df_url['urls'].map(len) > 0]"
   ]
  },
  {
   "cell_type": "code",
   "execution_count": 6,
   "metadata": {},
   "outputs": [],
   "source": [
    "# Load the dict mapping urls to expanded urls\n",
    "url_to_expanded = load_obj(\"data/\", \"url_to_expanded\")"
   ]
  },
  {
   "cell_type": "code",
   "execution_count": 7,
   "metadata": {},
   "outputs": [],
   "source": [
    "def urls_expanded(urls):\n",
    "    res = []\n",
    "    for x in urls:\n",
    "        res.append(url_to_expanded[x] if x in url_to_expanded else x)\n",
    "    return res\n"
   ]
  },
  {
   "cell_type": "code",
   "execution_count": 8,
   "metadata": {
    "scrolled": false
   },
   "outputs": [
    {
     "name": "stdout",
     "output_type": "stream",
     "text": [
      "CPU times: user 11.5 s, sys: 94.7 ms, total: 11.5 s\n",
      "Wall time: 11.5 s\n"
     ]
    }
   ],
   "source": [
    "%%time\n",
    "df_url[\"urls\"] = df_url[\"urls\"].map(urls_expanded)"
   ]
  },
  {
   "cell_type": "code",
   "execution_count": 9,
   "metadata": {
    "scrolled": true
   },
   "outputs": [
    {
     "data": {
      "text/html": [
       "<div>\n",
       "<style scoped>\n",
       "    .dataframe tbody tr th:only-of-type {\n",
       "        vertical-align: middle;\n",
       "    }\n",
       "\n",
       "    .dataframe tbody tr th {\n",
       "        vertical-align: top;\n",
       "    }\n",
       "\n",
       "    .dataframe thead th {\n",
       "        text-align: right;\n",
       "    }\n",
       "</style>\n",
       "<table border=\"1\" class=\"dataframe\">\n",
       "  <thead>\n",
       "    <tr style=\"text-align: right;\">\n",
       "      <th></th>\n",
       "      <th>author_id</th>\n",
       "      <th>body</th>\n",
       "      <th>urls</th>\n",
       "    </tr>\n",
       "  </thead>\n",
       "  <tbody>\n",
       "    <tr>\n",
       "      <th>0</th>\n",
       "      <td>374784294</td>\n",
       "      <td>\"Mon gilet jaune, je l'ai brûlé\" : engagés de ...</td>\n",
       "      <td>[https://www.francetvinfo.fr/economie/transpor...</td>\n",
       "    </tr>\n",
       "    <tr>\n",
       "      <th>2</th>\n",
       "      <td>1111305741003079680</td>\n",
       "      <td>Pour ceux qui ne croient pas aux mouvements de...</td>\n",
       "      <td>[https://youtu.be/XEy-xaGZZb4]</td>\n",
       "    </tr>\n",
       "    <tr>\n",
       "      <th>3</th>\n",
       "      <td>1417988923</td>\n",
       "      <td>Gilets Jaunes, une répression d'Etat | Documen...</td>\n",
       "      <td>[https://youtu.be/3MjuoDpKLfI]</td>\n",
       "    </tr>\n",
       "    <tr>\n",
       "      <th>4</th>\n",
       "      <td>1926002202</td>\n",
       "      <td>Mdr, quelqu'un peut leur dire que c'est hasbee...</td>\n",
       "      <td>[https://twitter.com/myMetropolitain/status/11...</td>\n",
       "    </tr>\n",
       "    <tr>\n",
       "      <th>5</th>\n",
       "      <td>2289833964</td>\n",
       "      <td>Tarbes : les lycéens dans la rue, solidaires d...</td>\n",
       "      <td>[https://youtu.be/Ibnwyr86bPU]</td>\n",
       "    </tr>\n",
       "  </tbody>\n",
       "</table>\n",
       "</div>"
      ],
      "text/plain": [
       "             author_id                                               body  \\\n",
       "0            374784294  \"Mon gilet jaune, je l'ai brûlé\" : engagés de ...   \n",
       "2  1111305741003079680  Pour ceux qui ne croient pas aux mouvements de...   \n",
       "3           1417988923  Gilets Jaunes, une répression d'Etat | Documen...   \n",
       "4           1926002202  Mdr, quelqu'un peut leur dire que c'est hasbee...   \n",
       "5           2289833964  Tarbes : les lycéens dans la rue, solidaires d...   \n",
       "\n",
       "                                                urls  \n",
       "0  [https://www.francetvinfo.fr/economie/transpor...  \n",
       "2                     [https://youtu.be/XEy-xaGZZb4]  \n",
       "3                     [https://youtu.be/3MjuoDpKLfI]  \n",
       "4  [https://twitter.com/myMetropolitain/status/11...  \n",
       "5                     [https://youtu.be/Ibnwyr86bPU]  "
      ]
     },
     "execution_count": 9,
     "metadata": {},
     "output_type": "execute_result"
    }
   ],
   "source": [
    "df_url.head()"
   ]
  },
  {
   "cell_type": "code",
   "execution_count": 16,
   "metadata": {},
   "outputs": [],
   "source": [
    "test = [y for x in df_url[\"urls\"] for y in x]"
   ]
  },
  {
   "cell_type": "code",
   "execution_count": 17,
   "metadata": {},
   "outputs": [
    {
     "data": {
      "text/plain": [
       "5562947"
      ]
     },
     "execution_count": 17,
     "metadata": {},
     "output_type": "execute_result"
    }
   ],
   "source": [
    "len(test)"
   ]
  },
  {
   "cell_type": "code",
   "execution_count": 18,
   "metadata": {},
   "outputs": [
    {
     "data": {
      "text/plain": [
       "2322787"
      ]
     },
     "execution_count": 18,
     "metadata": {},
     "output_type": "execute_result"
    }
   ],
   "source": [
    "len(set(test))"
   ]
  },
  {
   "cell_type": "code",
   "execution_count": 19,
   "metadata": {},
   "outputs": [],
   "source": [
    "test2 = [x for x in test if \"https://t.co/\" in x]"
   ]
  },
  {
   "cell_type": "code",
   "execution_count": 20,
   "metadata": {
    "scrolled": true
   },
   "outputs": [
    {
     "data": {
      "text/plain": [
       "675325"
      ]
     },
     "execution_count": 20,
     "metadata": {},
     "output_type": "execute_result"
    }
   ],
   "source": [
    "len(test2)"
   ]
  },
  {
   "cell_type": "code",
   "execution_count": 21,
   "metadata": {},
   "outputs": [
    {
     "data": {
      "text/plain": [
       "459556"
      ]
     },
     "execution_count": 21,
     "metadata": {},
     "output_type": "execute_result"
    }
   ],
   "source": [
    "len(set(test2))"
   ]
  },
  {
   "cell_type": "code",
   "execution_count": 22,
   "metadata": {
    "scrolled": true
   },
   "outputs": [],
   "source": [
    "# Some urls cannot be expanded, this is because we cannot retrieve all tweets, \n",
    "# for example in case the author was suspended, or if the user tweeted more than 3200 tweets. "
   ]
  },
  {
   "cell_type": "code",
   "execution_count": null,
   "metadata": {},
   "outputs": [],
   "source": [
    "# INPUT\n",
    "# list of urls contained in each tweet\n",
    "# OUTPUT\n",
    "# each pair of users that tweet the same url, along with the count of same urls shared.\n",
    "\n",
    "# 1) For each single url, get the users sharing it"
   ]
  },
  {
   "cell_type": "code",
   "execution_count": 28,
   "metadata": {},
   "outputs": [],
   "source": [
    "url_t = [x for x in test if \"https://twitter.com/\" in x]"
   ]
  },
  {
   "cell_type": "code",
   "execution_count": 30,
   "metadata": {
    "scrolled": true
   },
   "outputs": [
    {
     "data": {
      "text/plain": [
       "2322787"
      ]
     },
     "execution_count": 30,
     "metadata": {},
     "output_type": "execute_result"
    }
   ],
   "source": [
    "len(set(test))"
   ]
  },
  {
   "cell_type": "code",
   "execution_count": 31,
   "metadata": {
    "scrolled": true
   },
   "outputs": [
    {
     "data": {
      "text/plain": [
       "1129259"
      ]
     },
     "execution_count": 31,
     "metadata": {},
     "output_type": "execute_result"
    }
   ],
   "source": [
    "len(set(url_t))"
   ]
  },
  {
   "cell_type": "code",
   "execution_count": 32,
   "metadata": {},
   "outputs": [
    {
     "data": {
      "text/plain": [
       "0.4861655416531951"
      ]
     },
     "execution_count": 32,
     "metadata": {},
     "output_type": "execute_result"
    }
   ],
   "source": [
    "1129259/2322787"
   ]
  },
  {
   "cell_type": "code",
   "execution_count": 25,
   "metadata": {},
   "outputs": [],
   "source": [
    "urls_count = pd.Series(test).value_counts()"
   ]
  },
  {
   "cell_type": "code",
   "execution_count": 33,
   "metadata": {
    "scrolled": true
   },
   "outputs": [
    {
     "data": {
      "text/plain": [
       "https://twitter.com/CNEWS/status/1063743985322270720              9424\n",
       "https://twitter.com/VictorLefranc/status/1068875092409630720      6332\n",
       "https://twitter.com/BFMTV/status/1067914481798397957              5043\n",
       "https://twitter.com/InfosFrancaises/status/1071864117407948806    3842\n",
       "https://twitter.com/GuillaumeAuda/status/1068929173513822212      3765\n",
       "@Ledauphine.com                                                   3371\n",
       "https://twitter.com/BFMTV/status/1068469827503906816              3083\n",
       "https://twitter.com/LarryLeChanceux/status/1071087749996994560    2937\n",
       "https://twitter.com/charlie_mouton/status/1066505531043516416     2921\n",
       "http://ladepeche.fr                                               2453\n",
       "https://twitter.com/leJDD/status/1071543445171257344              2224\n",
       "https://amnistiegj.fr/                                            2060\n",
       "https://twitter.com/thomas_guenole/status/1068867651747889152     1987\n",
       "https://twitter.com/Brevesdepresse/status/1071545349133819905     1985\n",
       "https://twitter.com/FeizaBM/status/1070451304252755969            1830\n",
       "https://twitter.com/christineboutin/status/1067882812496388096    1797\n",
       "https://twitter.com/kingyanis13/status/1069325391792390145        1782\n",
       "https://twitter.com/virginie75121/status/1070373675067736071      1765\n",
       "https://twitter.com/conspiration/status/1072618237505007618       1715\n",
       "https://twitter.com/NasNacera/status/1069725865985085440          1575\n",
       "https://twitter.com/Lies_Breaker/status/1094262694536978432       1534\n",
       "https://twitter.com/BFMTV/status/1072212508679770112              1524\n",
       "dtype: int64"
      ]
     },
     "execution_count": 33,
     "metadata": {},
     "output_type": "execute_result"
    }
   ],
   "source": [
    "urls_count[:22]"
   ]
  },
  {
   "cell_type": "code",
   "execution_count": 24,
   "metadata": {},
   "outputs": [
    {
     "name": "stdout",
     "output_type": "stream",
     "text": [
      "CPU times: user 8.29 s, sys: 5.43 s, total: 13.7 s\n",
      "Wall time: 17 s\n"
     ]
    }
   ],
   "source": [
    "%%time\n",
    "# For all tweets that contains more than one url, flatten the list of urls to have \n",
    "# only one url per line. We duplicate the corresponding tweet id for all corresponding\n",
    "# lines\n",
    "# First we take only the rows where there is only one url\n",
    "df_1 = df_url[df_url['urls'].map(len) == 1][['author_id', 'urls']].copy()\n",
    "df_1['urls'] = df_1['urls'].map(lambda x: x[0])\n",
    "df_1.rename(columns={'urls':'url'}, inplace=True)"
   ]
  },
  {
   "cell_type": "code",
   "execution_count": 25,
   "metadata": {},
   "outputs": [],
   "source": [
    "%%time\n",
    "# Now we take the rest\n",
    "df_2 = df_url[df_url['urls'].map(len) > 1][['author_id', 'urls']].copy()\n",
    "df_2 = (df_2[['author_id', 'urls']].set_index(['author_id'])['urls'] \n",
    "                                  .apply(pd.Series)\n",
    "                                  .stack() \n",
    "                                  .reset_index(level=1, drop=True)\n",
    "                                  .reset_index()\n",
    "                                  .rename(columns={0:'url'}))"
   ]
  },
  {
   "cell_type": "code",
   "execution_count": 27,
   "metadata": {},
   "outputs": [],
   "source": [
    "df = pd.concat([df_1, df_2])"
   ]
  },
  {
   "cell_type": "code",
   "execution_count": 34,
   "metadata": {},
   "outputs": [
    {
     "name": "stdout",
     "output_type": "stream",
     "text": [
      "CPU times: user 4min 33s, sys: 4.57 s, total: 4min 38s\n",
      "Wall time: 4min 40s\n"
     ]
    }
   ],
   "source": [
    "%%time\n",
    "# For each url, compute the list of authors who used it\n",
    "authors_for_url = (df.groupby('url')['author_id']\n",
    "                     .apply(list)\n",
    "                     .reset_index(name='authors_id'))"
   ]
  },
  {
   "cell_type": "code",
   "execution_count": 35,
   "metadata": {},
   "outputs": [],
   "source": [
    "authors_for_url['authors_id'] = authors_for_url['authors_id'].apply(lambda x: list(set(x)))"
   ]
  },
  {
   "cell_type": "code",
   "execution_count": 36,
   "metadata": {
    "scrolled": true
   },
   "outputs": [
    {
     "name": "stdout",
     "output_type": "stream",
     "text": [
      "CPU times: user 2.81 s, sys: 196 ms, total: 3 s\n",
      "Wall time: 1.96 s\n"
     ]
    }
   ],
   "source": [
    "%%time\n",
    "authors_for_url['authors_count'] = authors_for_url['authors_id'].str.len()\n",
    "authors_for_url.sort_values(by='authors_count', ascending=False, inplace=True)#.drop(columns='len')"
   ]
  },
  {
   "cell_type": "code",
   "execution_count": 38,
   "metadata": {
    "scrolled": false
   },
   "outputs": [
    {
     "data": {
      "text/html": [
       "<div>\n",
       "<style scoped>\n",
       "    .dataframe tbody tr th:only-of-type {\n",
       "        vertical-align: middle;\n",
       "    }\n",
       "\n",
       "    .dataframe tbody tr th {\n",
       "        vertical-align: top;\n",
       "    }\n",
       "\n",
       "    .dataframe thead th {\n",
       "        text-align: right;\n",
       "    }\n",
       "</style>\n",
       "<table border=\"1\" class=\"dataframe\">\n",
       "  <thead>\n",
       "    <tr style=\"text-align: right;\">\n",
       "      <th></th>\n",
       "      <th>url</th>\n",
       "      <th>authors_id</th>\n",
       "      <th>authors_count</th>\n",
       "    </tr>\n",
       "  </thead>\n",
       "  <tbody>\n",
       "    <tr>\n",
       "      <th>1545675</th>\n",
       "      <td>https://twitter.com/VictorLefranc/status/10688...</td>\n",
       "      <td>[912043131901706240, 951373816474763264, 10688...</td>\n",
       "      <td>5510</td>\n",
       "    </tr>\n",
       "    <tr>\n",
       "      <th>994288</th>\n",
       "      <td>https://twitter.com/CNEWS/status/1063743985322...</td>\n",
       "      <td>[785559760355622912, 714895620985716736, 75484...</td>\n",
       "      <td>4659</td>\n",
       "    </tr>\n",
       "    <tr>\n",
       "      <th>1162654</th>\n",
       "      <td>https://twitter.com/GuillaumeAuda/status/10689...</td>\n",
       "      <td>[707306956705439744, 825689080616869888, 85906...</td>\n",
       "      <td>3462</td>\n",
       "    </tr>\n",
       "    <tr>\n",
       "      <th>946746</th>\n",
       "      <td>https://twitter.com/BFMTV/status/1067914481798...</td>\n",
       "      <td>[709361509969879040, 1027564325412716544, 7161...</td>\n",
       "      <td>1701</td>\n",
       "    </tr>\n",
       "    <tr>\n",
       "      <th>256957</th>\n",
       "      <td>https://amnistiegj.fr/</td>\n",
       "      <td>[702751630601625600, 797840397414318080, 10877...</td>\n",
       "      <td>1593</td>\n",
       "    </tr>\n",
       "  </tbody>\n",
       "</table>\n",
       "</div>"
      ],
      "text/plain": [
       "                                                       url  \\\n",
       "1545675  https://twitter.com/VictorLefranc/status/10688...   \n",
       "994288   https://twitter.com/CNEWS/status/1063743985322...   \n",
       "1162654  https://twitter.com/GuillaumeAuda/status/10689...   \n",
       "946746   https://twitter.com/BFMTV/status/1067914481798...   \n",
       "256957                              https://amnistiegj.fr/   \n",
       "\n",
       "                                                authors_id  authors_count  \n",
       "1545675  [912043131901706240, 951373816474763264, 10688...           5510  \n",
       "994288   [785559760355622912, 714895620985716736, 75484...           4659  \n",
       "1162654  [707306956705439744, 825689080616869888, 85906...           3462  \n",
       "946746   [709361509969879040, 1027564325412716544, 7161...           1701  \n",
       "256957   [702751630601625600, 797840397414318080, 10877...           1593  "
      ]
     },
     "execution_count": 38,
     "metadata": {},
     "output_type": "execute_result"
    }
   ],
   "source": [
    "authors_for_url.head()"
   ]
  },
  {
   "cell_type": "code",
   "execution_count": 52,
   "metadata": {},
   "outputs": [],
   "source": [
    "test = df.groupby('author_id').size()"
   ]
  },
  {
   "cell_type": "code",
   "execution_count": 64,
   "metadata": {},
   "outputs": [
    {
     "data": {
      "text/plain": [
       "36649"
      ]
     },
     "execution_count": 64,
     "metadata": {},
     "output_type": "execute_result"
    }
   ],
   "source": [
    "(test>20).sum()"
   ]
  },
  {
   "cell_type": "code",
   "execution_count": 40,
   "metadata": {},
   "outputs": [
    {
     "name": "stdout",
     "output_type": "stream",
     "text": [
      "CPU times: user 50.7 s, sys: 1.92 s, total: 52.6 s\n",
      "Wall time: 53.4 s\n"
     ]
    }
   ],
   "source": [
    "%%time\n",
    "# For each author, compute the list of urls used\n",
    "urls_for_author = (df.groupby('author_id')['url']\n",
    "                     .apply(set)\n",
    "                     .reset_index(name='urls_set'))\n",
    "# Add a column 'urls_set_count' representing the size of each url set\n",
    "urls_for_author['urls_set_count'] = urls_for_author['urls_set'].str.len()\n",
    "# Sort by the size of hashtag set\n",
    "urls_for_author.sort_values(by='urls_set_count', \n",
    "                                ascending=False, \n",
    "                                inplace=True)\n",
    "# Compute the hash of each hashtag set to allow groupby\n",
    "urls_for_author['urls_set_hash'] = urls_for_author.urls_set.apply(\n",
    "                                                                lambda x: hash(str(x)))"
   ]
  },
  {
   "cell_type": "code",
   "execution_count": 41,
   "metadata": {
    "scrolled": true
   },
   "outputs": [
    {
     "data": {
      "text/html": [
       "<div>\n",
       "<style scoped>\n",
       "    .dataframe tbody tr th:only-of-type {\n",
       "        vertical-align: middle;\n",
       "    }\n",
       "\n",
       "    .dataframe tbody tr th {\n",
       "        vertical-align: top;\n",
       "    }\n",
       "\n",
       "    .dataframe thead th {\n",
       "        text-align: right;\n",
       "    }\n",
       "</style>\n",
       "<table border=\"1\" class=\"dataframe\">\n",
       "  <thead>\n",
       "    <tr style=\"text-align: right;\">\n",
       "      <th></th>\n",
       "      <th>author_id</th>\n",
       "      <th>urls_set</th>\n",
       "      <th>urls_set_count</th>\n",
       "      <th>urls_set_hash</th>\n",
       "    </tr>\n",
       "  </thead>\n",
       "  <tbody>\n",
       "    <tr>\n",
       "      <th>33540</th>\n",
       "      <td>133663801</td>\n",
       "      <td>{https://twitter.com/BFMTV/status/109627817633...</td>\n",
       "      <td>13278</td>\n",
       "      <td>-5172840692417932696</td>\n",
       "    </tr>\n",
       "    <tr>\n",
       "      <th>329886</th>\n",
       "      <td>996497906713726720</td>\n",
       "      <td>{http://lesinfos.online/2018/11/24/gilets-jaun...</td>\n",
       "      <td>10557</td>\n",
       "      <td>-7385318961965236704</td>\n",
       "    </tr>\n",
       "    <tr>\n",
       "      <th>9797</th>\n",
       "      <td>38395124</td>\n",
       "      <td>{https://twitter.com/franceinfo/status/1089822...</td>\n",
       "      <td>7437</td>\n",
       "      <td>-5352477132093788639</td>\n",
       "    </tr>\n",
       "    <tr>\n",
       "      <th>9734</th>\n",
       "      <td>38142665</td>\n",
       "      <td>{https://l.leparisien.fr/psW-6, https://l.lepa...</td>\n",
       "      <td>6895</td>\n",
       "      <td>-588068919427934230</td>\n",
       "    </tr>\n",
       "    <tr>\n",
       "      <th>85261</th>\n",
       "      <td>468507589</td>\n",
       "      <td>{https://t.co/tthVjk0Jvq, https://t.co/COPqsS8...</td>\n",
       "      <td>6157</td>\n",
       "      <td>-5134498860848485581</td>\n",
       "    </tr>\n",
       "  </tbody>\n",
       "</table>\n",
       "</div>"
      ],
      "text/plain": [
       "                 author_id                                           urls_set  \\\n",
       "33540            133663801  {https://twitter.com/BFMTV/status/109627817633...   \n",
       "329886  996497906713726720  {http://lesinfos.online/2018/11/24/gilets-jaun...   \n",
       "9797              38395124  {https://twitter.com/franceinfo/status/1089822...   \n",
       "9734              38142665  {https://l.leparisien.fr/psW-6, https://l.lepa...   \n",
       "85261            468507589  {https://t.co/tthVjk0Jvq, https://t.co/COPqsS8...   \n",
       "\n",
       "        urls_set_count        urls_set_hash  \n",
       "33540            13278 -5172840692417932696  \n",
       "329886           10557 -7385318961965236704  \n",
       "9797              7437 -5352477132093788639  \n",
       "9734              6895  -588068919427934230  \n",
       "85261             6157 -5134498860848485581  "
      ]
     },
     "execution_count": 41,
     "metadata": {},
     "output_type": "execute_result"
    }
   ],
   "source": [
    "urls_for_author.head()"
   ]
  },
  {
   "cell_type": "code",
   "execution_count": 51,
   "metadata": {},
   "outputs": [
    {
     "data": {
      "text/plain": [
       "387883"
      ]
     },
     "execution_count": 51,
     "metadata": {},
     "output_type": "execute_result"
    }
   ],
   "source": [
    "len(urls_for_author.author_id.unique())"
   ]
  },
  {
   "cell_type": "code",
   "execution_count": 42,
   "metadata": {},
   "outputs": [],
   "source": [
    "# For each set of urls used, compute the list of authors who used it\n",
    "authors_set = (urls_for_author.groupby('urls_set_hash')['author_id']\n",
    "                                  .apply(lambda x: set(x))\n",
    "                                  .reset_index(name='author_id_set'))\n",
    "# Add a column 'author_id_set_count' representing the size of each author set\n",
    "authors_set['author_id_set_count'] = authors_set['author_id_set'].str.len()\n",
    "# Sort by the size of author set\n",
    "authors_set.sort_values(by='author_id_set_count', ascending=False, inplace=True)\n",
    "# Filter all urls used by one author only\n",
    "authors_set = authors_set[authors_set.author_id_set_count>1]"
   ]
  },
  {
   "cell_type": "code",
   "execution_count": 43,
   "metadata": {},
   "outputs": [],
   "source": [
    "# Merge to retrieve the set of urls corresponding to the hash. \n",
    "hash_to_urls = urls_for_author.drop_duplicates(subset=[\"urls_set_hash\"])\n",
    "hash_to_urls = hash_to_urls[[\"urls_set_hash\", \n",
    "                             \"urls_set\", \n",
    "                             \"urls_set_count\"]]\n",
    "authors_set = authors_set.merge(hash_to_urls, on=\"urls_set_hash\", how=\"left\")"
   ]
  },
  {
   "cell_type": "code",
   "execution_count": 86,
   "metadata": {},
   "outputs": [],
   "source": [
    "test = authors_set[(authors_set[\"urls_set_count\"] > 1) & \n",
    "            (authors_set[\"author_id_set_count\"] > 4)]"
   ]
  },
  {
   "cell_type": "code",
   "execution_count": 87,
   "metadata": {
    "scrolled": true
   },
   "outputs": [
    {
     "data": {
      "text/html": [
       "<div>\n",
       "<style scoped>\n",
       "    .dataframe tbody tr th:only-of-type {\n",
       "        vertical-align: middle;\n",
       "    }\n",
       "\n",
       "    .dataframe tbody tr th {\n",
       "        vertical-align: top;\n",
       "    }\n",
       "\n",
       "    .dataframe thead th {\n",
       "        text-align: right;\n",
       "    }\n",
       "</style>\n",
       "<table border=\"1\" class=\"dataframe\">\n",
       "  <thead>\n",
       "    <tr style=\"text-align: right;\">\n",
       "      <th></th>\n",
       "      <th>urls_set_hash</th>\n",
       "      <th>author_id_set</th>\n",
       "      <th>author_id_set_count</th>\n",
       "      <th>urls_set</th>\n",
       "      <th>urls_set_count</th>\n",
       "    </tr>\n",
       "  </thead>\n",
       "  <tbody>\n",
       "    <tr>\n",
       "      <th>97</th>\n",
       "      <td>-4133695708687242444</td>\n",
       "      <td>{931565897289957120, 779396027229020160, 71198...</td>\n",
       "      <td>68</td>\n",
       "      <td>{https://twitter.com/VictorLefranc/status/1068...</td>\n",
       "      <td>2</td>\n",
       "    </tr>\n",
       "    <tr>\n",
       "      <th>179</th>\n",
       "      <td>-5372721623884452434</td>\n",
       "      <td>{835277109849370624, 707259961357762560, 82568...</td>\n",
       "      <td>43</td>\n",
       "      <td>{https://twitter.com/VictorLefranc/status/1068...</td>\n",
       "      <td>2</td>\n",
       "    </tr>\n",
       "    <tr>\n",
       "      <th>293</th>\n",
       "      <td>7853993123539181914</td>\n",
       "      <td>{1077198291429924864, 1019478813175156736, 101...</td>\n",
       "      <td>30</td>\n",
       "      <td>{http://ladepeche.fr, https://www.ladepeche.fr...</td>\n",
       "      <td>2</td>\n",
       "    </tr>\n",
       "    <tr>\n",
       "      <th>298</th>\n",
       "      <td>6477017253810424481</td>\n",
       "      <td>{938499781109919744, 870752188095713280, 87907...</td>\n",
       "      <td>29</td>\n",
       "      <td>{https://twitter.com/GuillaumeAuda/status/1068...</td>\n",
       "      <td>2</td>\n",
       "    </tr>\n",
       "    <tr>\n",
       "      <th>454</th>\n",
       "      <td>-7707381570413551546</td>\n",
       "      <td>{934146292275732480, 834808210930429952, 90785...</td>\n",
       "      <td>21</td>\n",
       "      <td>{http://youtu.be/9i3alzuVFXo?a, http://youtu.b...</td>\n",
       "      <td>2</td>\n",
       "    </tr>\n",
       "    <tr>\n",
       "      <th>456</th>\n",
       "      <td>-6961154640218309614</td>\n",
       "      <td>{841748048191578112, 2303806208, 1086656088131...</td>\n",
       "      <td>21</td>\n",
       "      <td>{https://www.mesopinions.com/petition/animaux/...</td>\n",
       "      <td>2</td>\n",
       "    </tr>\n",
       "    <tr>\n",
       "      <th>479</th>\n",
       "      <td>-4853820906390783791</td>\n",
       "      <td>{923251084558307200, 781860180631969920, 31153...</td>\n",
       "      <td>20</td>\n",
       "      <td>{https://twitter.com/CNEWS/status/106374398532...</td>\n",
       "      <td>2</td>\n",
       "    </tr>\n",
       "    <tr>\n",
       "      <th>623</th>\n",
       "      <td>-8207830610367470059</td>\n",
       "      <td>{777923222738177920, 925498087849816064, 75803...</td>\n",
       "      <td>16</td>\n",
       "      <td>{https://twitter.com/VictorLefranc/status/1068...</td>\n",
       "      <td>2</td>\n",
       "    </tr>\n",
       "    <tr>\n",
       "      <th>693</th>\n",
       "      <td>-5399691998635364029</td>\n",
       "      <td>{242890560, 754810499364184064, 280118722, 101...</td>\n",
       "      <td>15</td>\n",
       "      <td>{https://twitter.com/VictorLefranc/status/1068...</td>\n",
       "      <td>2</td>\n",
       "    </tr>\n",
       "    <tr>\n",
       "      <th>713</th>\n",
       "      <td>28915667345456289</td>\n",
       "      <td>{935723103929368320, 2992508992, 8018501526087...</td>\n",
       "      <td>14</td>\n",
       "      <td>{https://twitter.com/CNEWS/status/106374398532...</td>\n",
       "      <td>2</td>\n",
       "    </tr>\n",
       "    <tr>\n",
       "      <th>838</th>\n",
       "      <td>1721658065833334506</td>\n",
       "      <td>{1067880471860846592, 1067881895977988096, 106...</td>\n",
       "      <td>12</td>\n",
       "      <td>{https://www.lci.fr/social/en-direct-les-gilet...</td>\n",
       "      <td>2</td>\n",
       "    </tr>\n",
       "    <tr>\n",
       "      <th>907</th>\n",
       "      <td>-6988005488092958617</td>\n",
       "      <td>{860934800911327232, 732280651542630400, 25978...</td>\n",
       "      <td>12</td>\n",
       "      <td>{https://twitter.com/BFMTV/status/106791448179...</td>\n",
       "      <td>2</td>\n",
       "    </tr>\n",
       "    <tr>\n",
       "      <th>1085</th>\n",
       "      <td>2060929396627694474</td>\n",
       "      <td>{777423670537052160, 1042700342453051392, 4205...</td>\n",
       "      <td>10</td>\n",
       "      <td>{https://twitter.com/RullierF/status/106373887...</td>\n",
       "      <td>2</td>\n",
       "    </tr>\n",
       "    <tr>\n",
       "      <th>1126</th>\n",
       "      <td>-4694931533997874353</td>\n",
       "      <td>{1117717952, 975077751932801024, 2220155942, 3...</td>\n",
       "      <td>9</td>\n",
       "      <td>{https://twitter.com/GuillaumeAuda/status/1068...</td>\n",
       "      <td>2</td>\n",
       "    </tr>\n",
       "    <tr>\n",
       "      <th>1135</th>\n",
       "      <td>-1381666388883100187</td>\n",
       "      <td>{706550291076882432, 932772953170874368, 10352...</td>\n",
       "      <td>9</td>\n",
       "      <td>{https://twitter.com/GuillaumeAuda/status/1068...</td>\n",
       "      <td>2</td>\n",
       "    </tr>\n",
       "    <tr>\n",
       "      <th>1231</th>\n",
       "      <td>4221864001332422414</td>\n",
       "      <td>{907548420897984256, 878602825173016448, 10052...</td>\n",
       "      <td>9</td>\n",
       "      <td>{https://twitter.com/CNEWS/status/106374398532...</td>\n",
       "      <td>2</td>\n",
       "    </tr>\n",
       "    <tr>\n",
       "      <th>1239</th>\n",
       "      <td>6292900298876761815</td>\n",
       "      <td>{772778079840243712, 269422913, 2862187906, 35...</td>\n",
       "      <td>9</td>\n",
       "      <td>{https://twitter.com/VictorLefranc/status/1068...</td>\n",
       "      <td>2</td>\n",
       "    </tr>\n",
       "    <tr>\n",
       "      <th>1350</th>\n",
       "      <td>3403454777261659696</td>\n",
       "      <td>{703354079683207168, 1057805984, 165153763, 45...</td>\n",
       "      <td>8</td>\n",
       "      <td>{http://youtu.be/YLLulmYXm6Q?a, http://youtu.b...</td>\n",
       "      <td>2</td>\n",
       "    </tr>\n",
       "    <tr>\n",
       "      <th>1362</th>\n",
       "      <td>8842807822966969450</td>\n",
       "      <td>{879445545856765952, 847926778324799360, 28538...</td>\n",
       "      <td>8</td>\n",
       "      <td>{https://twitter.com/VictorLefranc/status/1068...</td>\n",
       "      <td>2</td>\n",
       "    </tr>\n",
       "    <tr>\n",
       "      <th>1372</th>\n",
       "      <td>-8185580875551490333</td>\n",
       "      <td>{970666391706664832, 3039648353, 4062418277, 5...</td>\n",
       "      <td>8</td>\n",
       "      <td>{https://twitter.com/VictorLefranc/status/1068...</td>\n",
       "      <td>2</td>\n",
       "    </tr>\n",
       "    <tr>\n",
       "      <th>1438</th>\n",
       "      <td>3998433394282823633</td>\n",
       "      <td>{714249783054049280, 769478280756027520, 82071...</td>\n",
       "      <td>8</td>\n",
       "      <td>{https://twitter.com/BFMTV/status/106791448179...</td>\n",
       "      <td>2</td>\n",
       "    </tr>\n",
       "    <tr>\n",
       "      <th>1454</th>\n",
       "      <td>1570730502296181566</td>\n",
       "      <td>{868433756658573312, 2881604812, 3100333713, 4...</td>\n",
       "      <td>8</td>\n",
       "      <td>{https://twitter.com/GuillaumeAuda/status/1068...</td>\n",
       "      <td>2</td>\n",
       "    </tr>\n",
       "    <tr>\n",
       "      <th>1481</th>\n",
       "      <td>2623919491652341772</td>\n",
       "      <td>{384439655, 1099149097, 1860628050, 3386950294...</td>\n",
       "      <td>8</td>\n",
       "      <td>{http://youtu.be/qdkNw6xNA-Y?a, http://youtu.b...</td>\n",
       "      <td>2</td>\n",
       "    </tr>\n",
       "    <tr>\n",
       "      <th>1505</th>\n",
       "      <td>-3161929608600824281</td>\n",
       "      <td>{754791594440687616, 1046071905248333824, 8579...</td>\n",
       "      <td>7</td>\n",
       "      <td>{https://twitter.com/MAXIMVSXTPV/status/107151...</td>\n",
       "      <td>2</td>\n",
       "    </tr>\n",
       "    <tr>\n",
       "      <th>1569</th>\n",
       "      <td>-6508655489964430422</td>\n",
       "      <td>{765295692353077120, 881517785523916800, 10322...</td>\n",
       "      <td>7</td>\n",
       "      <td>{https://twitter.com/GuillaumeAuda/status/1068...</td>\n",
       "      <td>2</td>\n",
       "    </tr>\n",
       "    <tr>\n",
       "      <th>1571</th>\n",
       "      <td>8044982284907999372</td>\n",
       "      <td>{983865513678864384, 508740646, 1364565200, 20...</td>\n",
       "      <td>7</td>\n",
       "      <td>{https://www.mesopinions.com/sondage/animaux/p...</td>\n",
       "      <td>3</td>\n",
       "    </tr>\n",
       "    <tr>\n",
       "      <th>1595</th>\n",
       "      <td>3848525280646078933</td>\n",
       "      <td>{1031227155500474368, 1030073673422696320, 123...</td>\n",
       "      <td>7</td>\n",
       "      <td>{https://twitter.com/vincentglad/status/109139...</td>\n",
       "      <td>2</td>\n",
       "    </tr>\n",
       "    <tr>\n",
       "      <th>1605</th>\n",
       "      <td>-6979351570807590587</td>\n",
       "      <td>{840979586418630528, 514568224, 2970493667, 30...</td>\n",
       "      <td>7</td>\n",
       "      <td>{http://youtu.be/ay74F4KS4e4?a, http://youtu.b...</td>\n",
       "      <td>2</td>\n",
       "    </tr>\n",
       "    <tr>\n",
       "      <th>1614</th>\n",
       "      <td>-2859787678380217397</td>\n",
       "      <td>{777259524893843328, 1252466305, 2279989383, 8...</td>\n",
       "      <td>7</td>\n",
       "      <td>{https://twitter.com/BFMTV/status/106791448179...</td>\n",
       "      <td>2</td>\n",
       "    </tr>\n",
       "    <tr>\n",
       "      <th>1763</th>\n",
       "      <td>-3849468264771743693</td>\n",
       "      <td>{1054415771504467968, 381978824, 3217703535, 3...</td>\n",
       "      <td>7</td>\n",
       "      <td>{https://twitter.com/MAXIMVSXTPV/status/107151...</td>\n",
       "      <td>2</td>\n",
       "    </tr>\n",
       "    <tr>\n",
       "      <th>...</th>\n",
       "      <td>...</td>\n",
       "      <td>...</td>\n",
       "      <td>...</td>\n",
       "      <td>...</td>\n",
       "      <td>...</td>\n",
       "    </tr>\n",
       "    <tr>\n",
       "      <th>1859</th>\n",
       "      <td>-7783448683612650909</td>\n",
       "      <td>{821828120974159872, 1051177521511899136, 5088...</td>\n",
       "      <td>6</td>\n",
       "      <td>{https://twitter.com/GuillaumeAuda/status/1068...</td>\n",
       "      <td>2</td>\n",
       "    </tr>\n",
       "    <tr>\n",
       "      <th>1861</th>\n",
       "      <td>-1771859422597292030</td>\n",
       "      <td>{958806276045144064, 994751842360885120, 23338...</td>\n",
       "      <td>6</td>\n",
       "      <td>{https://twitter.com/FeizaBM/status/1070451304...</td>\n",
       "      <td>2</td>\n",
       "    </tr>\n",
       "    <tr>\n",
       "      <th>1908</th>\n",
       "      <td>-7586221471822412710</td>\n",
       "      <td>{765985747228889088, 730484233140097024, 75134...</td>\n",
       "      <td>6</td>\n",
       "      <td>{https://twitter.com/Steph_Roy_/status/1071379...</td>\n",
       "      <td>2</td>\n",
       "    </tr>\n",
       "    <tr>\n",
       "      <th>1980</th>\n",
       "      <td>5572380926863128623</td>\n",
       "      <td>{1040759561483902720, 795067492322385920, 2371...</td>\n",
       "      <td>6</td>\n",
       "      <td>{https://twitter.com/charlie_mouton/status/106...</td>\n",
       "      <td>2</td>\n",
       "    </tr>\n",
       "    <tr>\n",
       "      <th>2053</th>\n",
       "      <td>-897851778316855390</td>\n",
       "      <td>{715112435213058048, 1325122632, 2370876425, 1...</td>\n",
       "      <td>6</td>\n",
       "      <td>{https://twitter.com/VictorLefranc/status/1068...</td>\n",
       "      <td>2</td>\n",
       "    </tr>\n",
       "    <tr>\n",
       "      <th>2094</th>\n",
       "      <td>-5988319058348341408</td>\n",
       "      <td>{762550507558866944, 756125772784476160, 10000...</td>\n",
       "      <td>6</td>\n",
       "      <td>{https://twitter.com/VictorLefranc/status/1068...</td>\n",
       "      <td>2</td>\n",
       "    </tr>\n",
       "    <tr>\n",
       "      <th>2120</th>\n",
       "      <td>-5163626829509629338</td>\n",
       "      <td>{842277866863747072, 1011943618406502400, 3890...</td>\n",
       "      <td>6</td>\n",
       "      <td>{https://www.mesopinions.com/petition/animaux/...</td>\n",
       "      <td>2</td>\n",
       "    </tr>\n",
       "    <tr>\n",
       "      <th>2132</th>\n",
       "      <td>-3499769518655866198</td>\n",
       "      <td>{1064990199799840768, 157382065, 2984334196, 3...</td>\n",
       "      <td>6</td>\n",
       "      <td>{https://twitter.com/VictorLefranc/status/1068...</td>\n",
       "      <td>2</td>\n",
       "    </tr>\n",
       "    <tr>\n",
       "      <th>2137</th>\n",
       "      <td>6382713488907641404</td>\n",
       "      <td>{1010653966550601600, 2499971109, 2562041295, ...</td>\n",
       "      <td>6</td>\n",
       "      <td>{https://twitter.com/CNEWS/status/106374398532...</td>\n",
       "      <td>2</td>\n",
       "    </tr>\n",
       "    <tr>\n",
       "      <th>2178</th>\n",
       "      <td>7641402793708792126</td>\n",
       "      <td>{889895557568843648, 1062052674105958400, 1056...</td>\n",
       "      <td>5</td>\n",
       "      <td>{https://twitter.com/VictorLefranc/status/1068...</td>\n",
       "      <td>2</td>\n",
       "    </tr>\n",
       "    <tr>\n",
       "      <th>2223</th>\n",
       "      <td>-3417533242226825350</td>\n",
       "      <td>{2463109350, 565978158, 3345673300, 797007158,...</td>\n",
       "      <td>5</td>\n",
       "      <td>{https://www.youtube.com/attribution_link?a=ne...</td>\n",
       "      <td>2</td>\n",
       "    </tr>\n",
       "    <tr>\n",
       "      <th>2243</th>\n",
       "      <td>-7733894025298222509</td>\n",
       "      <td>{752488889240129408, 995670023468408832, 12924...</td>\n",
       "      <td>5</td>\n",
       "      <td>{https://twitter.com/VictorLefranc/status/1063...</td>\n",
       "      <td>2</td>\n",
       "    </tr>\n",
       "    <tr>\n",
       "      <th>2339</th>\n",
       "      <td>-2840755470696831881</td>\n",
       "      <td>{739480458824716288, 945286343114022656, 10002...</td>\n",
       "      <td>5</td>\n",
       "      <td>{https://twitter.com/NasNacera/status/10697258...</td>\n",
       "      <td>2</td>\n",
       "    </tr>\n",
       "    <tr>\n",
       "      <th>2352</th>\n",
       "      <td>3421102503532808034</td>\n",
       "      <td>{728592243645403008, 808662900143493120, 96551...</td>\n",
       "      <td>5</td>\n",
       "      <td>{https://twitter.com/Leprogresloire/status/111...</td>\n",
       "      <td>2</td>\n",
       "    </tr>\n",
       "    <tr>\n",
       "      <th>2357</th>\n",
       "      <td>5276802453463636403</td>\n",
       "      <td>{885364629488226304, 1910473422, 134767153, 21...</td>\n",
       "      <td>5</td>\n",
       "      <td>{https://www.lesoir.be/199128/article/2019-01-...</td>\n",
       "      <td>2</td>\n",
       "    </tr>\n",
       "    <tr>\n",
       "      <th>2379</th>\n",
       "      <td>3199994194110144446</td>\n",
       "      <td>{741710374811099008, 884920282942767104, 84348...</td>\n",
       "      <td>5</td>\n",
       "      <td>{https://twitter.com/VictorLefranc/status/1068...</td>\n",
       "      <td>2</td>\n",
       "    </tr>\n",
       "    <tr>\n",
       "      <th>2409</th>\n",
       "      <td>-5835766662894001282</td>\n",
       "      <td>{330879781, 181163788, 930695030, 4691822137, ...</td>\n",
       "      <td>5</td>\n",
       "      <td>{https://twitter.com/MAXIMVSXTPV/status/107151...</td>\n",
       "      <td>2</td>\n",
       "    </tr>\n",
       "    <tr>\n",
       "      <th>2477</th>\n",
       "      <td>1777463290218450520</td>\n",
       "      <td>{852261892315901952, 879342853440385024, 89720...</td>\n",
       "      <td>5</td>\n",
       "      <td>{https://twitter.com/expliciteJA/status/106601...</td>\n",
       "      <td>2</td>\n",
       "    </tr>\n",
       "    <tr>\n",
       "      <th>2492</th>\n",
       "      <td>3442359855425272710</td>\n",
       "      <td>{2921469921, 930893384, 2635298795, 2752702451...</td>\n",
       "      <td>5</td>\n",
       "      <td>{https://twitter.com/VictorLefranc/status/1068...</td>\n",
       "      <td>2</td>\n",
       "    </tr>\n",
       "    <tr>\n",
       "      <th>2519</th>\n",
       "      <td>-1149699782132589826</td>\n",
       "      <td>{966739821132738432, 1051577814628139008, 1263...</td>\n",
       "      <td>5</td>\n",
       "      <td>{https://twitter.com/kingyanis13/status/106932...</td>\n",
       "      <td>2</td>\n",
       "    </tr>\n",
       "    <tr>\n",
       "      <th>2520</th>\n",
       "      <td>-1659909751195343912</td>\n",
       "      <td>{938904682541600768, 1179308070, 592626441, 25...</td>\n",
       "      <td>5</td>\n",
       "      <td>{https://twitter.com/Lies_Breaker/status/10942...</td>\n",
       "      <td>2</td>\n",
       "    </tr>\n",
       "    <tr>\n",
       "      <th>2561</th>\n",
       "      <td>-4799180250959159666</td>\n",
       "      <td>{1034124837457993600, 259824118, 2237187640, 9...</td>\n",
       "      <td>5</td>\n",
       "      <td>{https://twitter.com/alouxe01/status/106890247...</td>\n",
       "      <td>2</td>\n",
       "    </tr>\n",
       "    <tr>\n",
       "      <th>2563</th>\n",
       "      <td>-244622121868877779</td>\n",
       "      <td>{932399621678292992, 2594700737, 2288281149, 1...</td>\n",
       "      <td>5</td>\n",
       "      <td>{https://twitter.com/VictorLefranc/status/1068...</td>\n",
       "      <td>2</td>\n",
       "    </tr>\n",
       "    <tr>\n",
       "      <th>2598</th>\n",
       "      <td>4129447608096052591</td>\n",
       "      <td>{850837751985582080, 582060449, 75792873581119...</td>\n",
       "      <td>5</td>\n",
       "      <td>{https://twitter.com/GuillaumeAuda/status/1068...</td>\n",
       "      <td>2</td>\n",
       "    </tr>\n",
       "    <tr>\n",
       "      <th>2608</th>\n",
       "      <td>-2361213465534802528</td>\n",
       "      <td>{971551659976511360, 971542063920623616, 97135...</td>\n",
       "      <td>5</td>\n",
       "      <td>{https://twitter.com/MathieuBechuD/status/1123...</td>\n",
       "      <td>6</td>\n",
       "    </tr>\n",
       "    <tr>\n",
       "      <th>2657</th>\n",
       "      <td>93427521882725500</td>\n",
       "      <td>{747416486860496896, 2877894789, 3155563883, 2...</td>\n",
       "      <td>5</td>\n",
       "      <td>{https://twitter.com/VictorLefranc/status/1068...</td>\n",
       "      <td>2</td>\n",
       "    </tr>\n",
       "    <tr>\n",
       "      <th>2714</th>\n",
       "      <td>-9117775811410748174</td>\n",
       "      <td>{755506909621485440, 719560246188974080, 74794...</td>\n",
       "      <td>5</td>\n",
       "      <td>{http://youtu.be/9rB1HDaAg-4?a, http://youtu.b...</td>\n",
       "      <td>2</td>\n",
       "    </tr>\n",
       "    <tr>\n",
       "      <th>2763</th>\n",
       "      <td>6492274902356904635</td>\n",
       "      <td>{731562464, 1438183584, 935786185976434560, 88...</td>\n",
       "      <td>5</td>\n",
       "      <td>{https://twitter.com/CNEWS/status/106374398532...</td>\n",
       "      <td>2</td>\n",
       "    </tr>\n",
       "    <tr>\n",
       "      <th>2771</th>\n",
       "      <td>7100937603966885284</td>\n",
       "      <td>{898631334431793152, 1081017096, 1114608714, 7...</td>\n",
       "      <td>5</td>\n",
       "      <td>{https://twitter.com/VictorLefranc/status/1068...</td>\n",
       "      <td>2</td>\n",
       "    </tr>\n",
       "    <tr>\n",
       "      <th>2781</th>\n",
       "      <td>-9219683831311190876</td>\n",
       "      <td>{1004817082582753280, 1000099012958146432, 214...</td>\n",
       "      <td>5</td>\n",
       "      <td>{https://twitter.com/GuillaumeAuda/status/1068...</td>\n",
       "      <td>2</td>\n",
       "    </tr>\n",
       "  </tbody>\n",
       "</table>\n",
       "<p>64 rows × 5 columns</p>\n",
       "</div>"
      ],
      "text/plain": [
       "            urls_set_hash                                      author_id_set  \\\n",
       "97   -4133695708687242444  {931565897289957120, 779396027229020160, 71198...   \n",
       "179  -5372721623884452434  {835277109849370624, 707259961357762560, 82568...   \n",
       "293   7853993123539181914  {1077198291429924864, 1019478813175156736, 101...   \n",
       "298   6477017253810424481  {938499781109919744, 870752188095713280, 87907...   \n",
       "454  -7707381570413551546  {934146292275732480, 834808210930429952, 90785...   \n",
       "...                   ...                                                ...   \n",
       "2657    93427521882725500  {747416486860496896, 2877894789, 3155563883, 2...   \n",
       "2714 -9117775811410748174  {755506909621485440, 719560246188974080, 74794...   \n",
       "2763  6492274902356904635  {731562464, 1438183584, 935786185976434560, 88...   \n",
       "2771  7100937603966885284  {898631334431793152, 1081017096, 1114608714, 7...   \n",
       "2781 -9219683831311190876  {1004817082582753280, 1000099012958146432, 214...   \n",
       "\n",
       "      author_id_set_count                                           urls_set  \\\n",
       "97                     68  {https://twitter.com/VictorLefranc/status/1068...   \n",
       "179                    43  {https://twitter.com/VictorLefranc/status/1068...   \n",
       "293                    30  {http://ladepeche.fr, https://www.ladepeche.fr...   \n",
       "298                    29  {https://twitter.com/GuillaumeAuda/status/1068...   \n",
       "454                    21  {http://youtu.be/9i3alzuVFXo?a, http://youtu.b...   \n",
       "...                   ...                                                ...   \n",
       "2657                    5  {https://twitter.com/VictorLefranc/status/1068...   \n",
       "2714                    5  {http://youtu.be/9rB1HDaAg-4?a, http://youtu.b...   \n",
       "2763                    5  {https://twitter.com/CNEWS/status/106374398532...   \n",
       "2771                    5  {https://twitter.com/VictorLefranc/status/1068...   \n",
       "2781                    5  {https://twitter.com/GuillaumeAuda/status/1068...   \n",
       "\n",
       "      urls_set_count  \n",
       "97                 2  \n",
       "179                2  \n",
       "293                2  \n",
       "298                2  \n",
       "454                2  \n",
       "...              ...  \n",
       "2657               2  \n",
       "2714               2  \n",
       "2763               2  \n",
       "2771               2  \n",
       "2781               2  \n",
       "\n",
       "[64 rows x 5 columns]"
      ]
     },
     "execution_count": 87,
     "metadata": {},
     "output_type": "execute_result"
    }
   ],
   "source": [
    "test"
   ]
  },
  {
   "cell_type": "code",
   "execution_count": 88,
   "metadata": {},
   "outputs": [
    {
     "data": {
      "text/plain": [
       "628"
      ]
     },
     "execution_count": 88,
     "metadata": {},
     "output_type": "execute_result"
    }
   ],
   "source": [
    "len(set([y for x in test[\"author_id_set\"] for y in x]))"
   ]
  },
  {
   "cell_type": "code",
   "execution_count": 79,
   "metadata": {},
   "outputs": [],
   "source": [
    "candidates = list(test[\"author_id_set\"].apply(list))\n",
    "save_obj(candidates, \"candidates/\", \"candidates_url\")"
   ]
  }
 ],
 "metadata": {
  "kernelspec": {
   "display_name": "Python 3",
   "language": "python",
   "name": "python3"
  },
  "language_info": {
   "codemirror_mode": {
    "name": "ipython",
    "version": 3
   },
   "file_extension": ".py",
   "mimetype": "text/x-python",
   "name": "python",
   "nbconvert_exporter": "python",
   "pygments_lexer": "ipython3",
   "version": "3.6.9"
  }
 },
 "nbformat": 4,
 "nbformat_minor": 2
}
