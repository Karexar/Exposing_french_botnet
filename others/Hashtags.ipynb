{
 "cells": [
  {
   "cell_type": "code",
   "execution_count": 12,
   "metadata": {
    "scrolled": true
   },
   "outputs": [
    {
     "data": {
      "text/plain": [
       "9223372036854775807"
      ]
     },
     "execution_count": 12,
     "metadata": {},
     "output_type": "execute_result"
    }
   ],
   "source": [
    "import pandas as pd\n",
    "import numpy as np\n",
    "from datetime import datetime, timedelta\n",
    "import os\n",
    "import sys\n",
    "import csv\n",
    "\n",
    "import time_series\n",
    "#import awarp.awarp as awarpy\n",
    "#import awarp_wrapper.awarpWrapper as awarp\n",
    "\n",
    "sys.path.append('/Volumes/GoogleDrive/Mon Drive/Python-helpers')\n",
    "from save_obj import *\n",
    "\n",
    "csv.field_size_limit(sys.maxsize) # To avoid max field limit on loading df_ts_enc"
   ]
  },
  {
   "cell_type": "markdown",
   "metadata": {},
   "source": [
    "# Hashtags"
   ]
  },
  {
   "cell_type": "markdown",
   "metadata": {},
   "source": [
    "Explore the hashtags dataset in order to find users which use the same hashtags. "
   ]
  },
  {
   "cell_type": "code",
   "execution_count": 13,
   "metadata": {},
   "outputs": [
    {
     "name": "stdout",
     "output_type": "stream",
     "text": [
      "CPU times: user 50.2 s, sys: 22.6 s, total: 1min 12s\n",
      "Wall time: 1min 33s\n"
     ]
    }
   ],
   "source": [
    "%%time\n",
    "df_hashtag = pd.read_csv(\"data/df_hashtag.csv\", encoding='utf-8', engine='python')"
   ]
  },
  {
   "cell_type": "code",
   "execution_count": 14,
   "metadata": {},
   "outputs": [
    {
     "name": "stdout",
     "output_type": "stream",
     "text": [
      "243508\n",
      "210417\n"
     ]
    }
   ],
   "source": [
    "print(len(df_hashtag.hashtag.unique()))\n",
    "print(len(df_hashtag.author_id.unique()))"
   ]
  },
  {
   "cell_type": "markdown",
   "metadata": {},
   "source": [
    "There are 243'508 unique hashtags and 210'417 unique authors\n"
   ]
  },
  {
   "cell_type": "code",
   "execution_count": 22,
   "metadata": {},
   "outputs": [
    {
     "data": {
      "text/plain": [
       "'test'"
      ]
     },
     "execution_count": 22,
     "metadata": {},
     "output_type": "execute_result"
    }
   ],
   "source": [
    "\"TeSt\".lower()"
   ]
  },
  {
   "cell_type": "code",
   "execution_count": 25,
   "metadata": {},
   "outputs": [],
   "source": [
    "hashtags = [x.lower() for x in df_hashtag.hashtag if x is not None and not isinstance(x, float)]"
   ]
  },
  {
   "cell_type": "code",
   "execution_count": 31,
   "metadata": {},
   "outputs": [],
   "source": [
    "macron = [x for x in hashtags if 'macron' in x]"
   ]
  },
  {
   "cell_type": "code",
   "execution_count": 32,
   "metadata": {},
   "outputs": [
    {
     "data": {
      "text/plain": [
       "518724"
      ]
     },
     "execution_count": 32,
     "metadata": {},
     "output_type": "execute_result"
    }
   ],
   "source": [
    "len(macron)"
   ]
  },
  {
   "cell_type": "code",
   "execution_count": 35,
   "metadata": {
    "scrolled": true
   },
   "outputs": [
    {
     "data": {
      "text/plain": [
       "giletsjaunes           1085290\n",
       "macron                  216210\n",
       "giletjaune               96937\n",
       "macrondemission          95502\n",
       "giletjaunes              80988\n",
       "granddebatnational       70903\n",
       "gilletsjaunes            62255\n",
       "france                   54239\n",
       "17novembre               51379\n",
       "paris                    51158\n",
       "macrondestitution        50306\n",
       "lrem                     46278\n",
       "granddebat               43270\n",
       "foulardsrouges           39517\n",
       "pouvoirdachat            36679\n",
       "giletsjaune              33076\n",
       "bfmtv                    32401\n",
       "gilestjaunes             31420\n",
       "lagrandeexplication      31304\n",
       "castaner                 29282\n",
       "yellowvests              29013\n",
       "granddébat               25657\n",
       "giletsjaunesparis        25243\n",
       "ric                      24979\n",
       "8decembre                24870\n",
       "macron20h                24594\n",
       "politique                24407\n",
       "castanerdemission        23678\n",
       "1erdecembre              23608\n",
       "lci                      20637\n",
       "benalla                  18640\n",
       "gj                       18478\n",
       "17novembre2018           17894\n",
       "cnews                    16693\n",
       "sansmoile17              16541\n",
       "macrondémission          16259\n",
       "gilets                   16211\n",
       "champselysees            15188\n",
       "gouvernement             13949\n",
       "tpmp                     13583\n",
       "macrondegage             13130\n",
       "stopgiletsjaunes         13101\n",
       "granddébatnational       12505\n",
       "violencespolicieres      12000\n",
       "fakenews                 11958\n",
       "larem                    11954\n",
       "emmanuelmacron           11940\n",
       "lesgiletsjaunes          11661\n",
       "carburants               11555\n",
       "police                   11312\n",
       "dtype: int64"
      ]
     },
     "execution_count": 35,
     "metadata": {},
     "output_type": "execute_result"
    }
   ],
   "source": [
    "pd.Series(hashtags).value_counts()[:50]"
   ]
  },
  {
   "cell_type": "markdown",
   "metadata": {},
   "source": [
    "First we will try to find if some authors use exactly the same hashtags. If several authors use exactly the same set of hashtags, they may be related. "
   ]
  },
  {
   "cell_type": "code",
   "execution_count": 5,
   "metadata": {},
   "outputs": [],
   "source": [
    "# Not used \n",
    "# for each hashtag, get the list of users who used it and sort by count of users\n",
    "#authors_for_hashtag = (df_hashtag.groupby('hashtag')['author_id']\n",
    "#                                .apply(lambda x: list(x))\n",
    "#                                .reset_index(name='authors_id'))\n",
    "#authors_for_hashtag['len'] = authors_for_hashtag['authors_id'].str.len()\n",
    "#authors_for_hashtag.sort_values(by='len', \n",
    "#                                ascending=False, \n",
    "#                                inplace=True)#.drop(columns='len')"
   ]
  },
  {
   "cell_type": "code",
   "execution_count": 6,
   "metadata": {},
   "outputs": [],
   "source": [
    "# For each author, get the list of hashtags used by this author \n",
    "hashtags_for_author = (df_hashtag.groupby('author_id')['hashtag']\n",
    "                                .apply(lambda x: set(x))\n",
    "                                .reset_index(name='hashtag_set'))\n",
    "# Add a column 'hashtag_set_count' representing the size of each hashtag set\n",
    "hashtags_for_author['hashtag_set_count'] = hashtags_for_author['hashtag_set'].str.len()\n",
    "# Sort by the size of hashtag set\n",
    "hashtags_for_author.sort_values(by='hashtag_set_count', \n",
    "                                ascending=False, \n",
    "                                inplace=True)#.drop(columns='len')\n",
    "# Compute the hash of each hashtag set to allow groupby\n",
    "hashtags_for_author['hashtag_set_hash'] = hashtags_for_author.hashtag_set.apply(\n",
    "                                                                lambda x: hash(str(x)))"
   ]
  },
  {
   "cell_type": "code",
   "execution_count": 7,
   "metadata": {
    "scrolled": true
   },
   "outputs": [
    {
     "name": "stdout",
     "output_type": "stream",
     "text": [
      "139748\n"
     ]
    }
   ],
   "source": [
    "print(len(hashtags_for_author.hashtag_set_hash.unique()))"
   ]
  },
  {
   "cell_type": "markdown",
   "metadata": {},
   "source": [
    "There are 139'811 unique hashtags set used, so there are some authors who use the same hashtag set."
   ]
  },
  {
   "cell_type": "code",
   "execution_count": 8,
   "metadata": {},
   "outputs": [],
   "source": [
    "# For each set of hashtags used, compute the list of authors who used it\n",
    "authors_set = (hashtags_for_author.groupby('hashtag_set_hash')['author_id']\n",
    "                                  .apply(lambda x: set(x))\n",
    "                                  .reset_index(name='author_id_set'))\n",
    "# Add a column 'author_id_set_count' representing the size of each author set\n",
    "authors_set['author_id_set_count'] = authors_set['author_id_set'].str.len()\n",
    "# Sort by the size of author set\n",
    "authors_set.sort_values(by='author_id_set_count', ascending=False, inplace=True)\n",
    "# Filter all hashtags used by one author only\n",
    "authors_set = authors_set[authors_set.author_id_set_count>1]"
   ]
  },
  {
   "cell_type": "code",
   "execution_count": 9,
   "metadata": {},
   "outputs": [],
   "source": [
    "# Merge to retrieve the set of hashtags corresponding to the hash. \n",
    "hash_to_hashtags = hashtags_for_author.drop_duplicates(subset=[\"hashtag_set_hash\"])\n",
    "hash_to_hashtags = hash_to_hashtags[[\"hashtag_set_hash\", \n",
    "                                     \"hashtag_set\", \n",
    "                                     \"hashtag_set_count\"]]\n",
    "authors_set = authors_set.merge(hash_to_hashtags, on=\"hashtag_set_hash\", how=\"left\")"
   ]
  },
  {
   "cell_type": "code",
   "execution_count": 10,
   "metadata": {
    "scrolled": true
   },
   "outputs": [
    {
     "data": {
      "text/html": [
       "<div>\n",
       "<style scoped>\n",
       "    .dataframe tbody tr th:only-of-type {\n",
       "        vertical-align: middle;\n",
       "    }\n",
       "\n",
       "    .dataframe tbody tr th {\n",
       "        vertical-align: top;\n",
       "    }\n",
       "\n",
       "    .dataframe thead th {\n",
       "        text-align: right;\n",
       "    }\n",
       "</style>\n",
       "<table border=\"1\" class=\"dataframe\">\n",
       "  <thead>\n",
       "    <tr style=\"text-align: right;\">\n",
       "      <th></th>\n",
       "      <th>hashtag_set_hash</th>\n",
       "      <th>author_id_set</th>\n",
       "      <th>author_id_set_count</th>\n",
       "      <th>hashtag_set</th>\n",
       "      <th>hashtag_set_count</th>\n",
       "    </tr>\n",
       "  </thead>\n",
       "  <tbody>\n",
       "    <tr>\n",
       "      <th>0</th>\n",
       "      <td>-8209175976447842787</td>\n",
       "      <td>{106469654, 101561624, 7092852, 305234315, 154...</td>\n",
       "      <td>12393</td>\n",
       "      <td>{GiletsJaunes}</td>\n",
       "      <td>1</td>\n",
       "    </tr>\n",
       "    <tr>\n",
       "      <th>1</th>\n",
       "      <td>-3012446724695049981</td>\n",
       "      <td>{2835500698, 907278099372539905, 1861897135, 7...</td>\n",
       "      <td>3603</td>\n",
       "      <td>{GiletJaunes}</td>\n",
       "      <td>1</td>\n",
       "    </tr>\n",
       "    <tr>\n",
       "      <th>2</th>\n",
       "      <td>-5335666704062341375</td>\n",
       "      <td>{940998399209431041, 868885032890454016, 14092...</td>\n",
       "      <td>2851</td>\n",
       "      <td>{giletsjaunes}</td>\n",
       "      <td>1</td>\n",
       "    </tr>\n",
       "    <tr>\n",
       "      <th>3</th>\n",
       "      <td>-2131775071562816053</td>\n",
       "      <td>{1616666161, 19156886, 99378568, 2178485980, 1...</td>\n",
       "      <td>2538</td>\n",
       "      <td>{GilletsJaunes}</td>\n",
       "      <td>1</td>\n",
       "    </tr>\n",
       "    <tr>\n",
       "      <th>4</th>\n",
       "      <td>-4310723279598145649</td>\n",
       "      <td>{119864854, 1641437762, 2243915711, 9805128485...</td>\n",
       "      <td>1414</td>\n",
       "      <td>{LaGrandeExplication}</td>\n",
       "      <td>1</td>\n",
       "    </tr>\n",
       "  </tbody>\n",
       "</table>\n",
       "</div>"
      ],
      "text/plain": [
       "      hashtag_set_hash                                      author_id_set  \\\n",
       "0 -8209175976447842787  {106469654, 101561624, 7092852, 305234315, 154...   \n",
       "1 -3012446724695049981  {2835500698, 907278099372539905, 1861897135, 7...   \n",
       "2 -5335666704062341375  {940998399209431041, 868885032890454016, 14092...   \n",
       "3 -2131775071562816053  {1616666161, 19156886, 99378568, 2178485980, 1...   \n",
       "4 -4310723279598145649  {119864854, 1641437762, 2243915711, 9805128485...   \n",
       "\n",
       "   author_id_set_count            hashtag_set  hashtag_set_count  \n",
       "0                12393         {GiletsJaunes}                  1  \n",
       "1                 3603          {GiletJaunes}                  1  \n",
       "2                 2851         {giletsjaunes}                  1  \n",
       "3                 2538        {GilletsJaunes}                  1  \n",
       "4                 1414  {LaGrandeExplication}                  1  "
      ]
     },
     "execution_count": 10,
     "metadata": {},
     "output_type": "execute_result"
    }
   ],
   "source": [
    "authors_set.head()"
   ]
  },
  {
   "cell_type": "code",
   "execution_count": 11,
   "metadata": {},
   "outputs": [],
   "source": [
    "authors_set_filtered = authors_set[authors_set[\"hashtag_set_count\"]>2]"
   ]
  },
  {
   "cell_type": "code",
   "execution_count": 14,
   "metadata": {
    "scrolled": false
   },
   "outputs": [
    {
     "data": {
      "text/html": [
       "<div>\n",
       "<style scoped>\n",
       "    .dataframe tbody tr th:only-of-type {\n",
       "        vertical-align: middle;\n",
       "    }\n",
       "\n",
       "    .dataframe tbody tr th {\n",
       "        vertical-align: top;\n",
       "    }\n",
       "\n",
       "    .dataframe thead th {\n",
       "        text-align: right;\n",
       "    }\n",
       "</style>\n",
       "<table border=\"1\" class=\"dataframe\">\n",
       "  <thead>\n",
       "    <tr style=\"text-align: right;\">\n",
       "      <th></th>\n",
       "      <th>hashtag_set_hash</th>\n",
       "      <th>author_id_set</th>\n",
       "      <th>author_id_set_count</th>\n",
       "      <th>hashtag_set</th>\n",
       "      <th>hashtag_set_count</th>\n",
       "    </tr>\n",
       "  </thead>\n",
       "  <tbody>\n",
       "    <tr>\n",
       "      <th>252</th>\n",
       "      <td>8106149020491007060</td>\n",
       "      <td>{2803588417, 822349694198235136, 8705729432727...</td>\n",
       "      <td>28</td>\n",
       "      <td>{GiletsJaunes, giletsjaunes, Giletsjaunes}</td>\n",
       "      <td>3</td>\n",
       "    </tr>\n",
       "    <tr>\n",
       "      <th>253</th>\n",
       "      <td>-1955107465152431919</td>\n",
       "      <td>{961127978, 1096448516862500865, 9902736305747...</td>\n",
       "      <td>28</td>\n",
       "      <td>{PasDeDebatSansUDI, GrandDebatNational, Europe...</td>\n",
       "      <td>3</td>\n",
       "    </tr>\n",
       "    <tr>\n",
       "      <th>270</th>\n",
       "      <td>7998818677806465741</td>\n",
       "      <td>{1065630104976539649, 701784429618978818, 1294...</td>\n",
       "      <td>27</td>\n",
       "      <td>{GiletsJaunes, GiletJaunes, giletsjaunes}</td>\n",
       "      <td>3</td>\n",
       "    </tr>\n",
       "    <tr>\n",
       "      <th>281</th>\n",
       "      <td>3764170619451331643</td>\n",
       "      <td>{1072860802820923397, 2872898329, 2481858846, ...</td>\n",
       "      <td>26</td>\n",
       "      <td>{GiletsJaunes, GiletJaune, GiletJaunes}</td>\n",
       "      <td>3</td>\n",
       "    </tr>\n",
       "    <tr>\n",
       "      <th>284</th>\n",
       "      <td>2715095747009216233</td>\n",
       "      <td>{1061720214910443521, 1094204609093083137, 894...</td>\n",
       "      <td>26</td>\n",
       "      <td>{JusticeFiscale, LAutreQuestionnaire, GiletsJa...</td>\n",
       "      <td>4</td>\n",
       "    </tr>\n",
       "  </tbody>\n",
       "</table>\n",
       "</div>"
      ],
      "text/plain": [
       "        hashtag_set_hash                                      author_id_set  \\\n",
       "252  8106149020491007060  {2803588417, 822349694198235136, 8705729432727...   \n",
       "253 -1955107465152431919  {961127978, 1096448516862500865, 9902736305747...   \n",
       "270  7998818677806465741  {1065630104976539649, 701784429618978818, 1294...   \n",
       "281  3764170619451331643  {1072860802820923397, 2872898329, 2481858846, ...   \n",
       "284  2715095747009216233  {1061720214910443521, 1094204609093083137, 894...   \n",
       "\n",
       "     author_id_set_count                                        hashtag_set  \\\n",
       "252                   28         {GiletsJaunes, giletsjaunes, Giletsjaunes}   \n",
       "253                   28  {PasDeDebatSansUDI, GrandDebatNational, Europe...   \n",
       "270                   27          {GiletsJaunes, GiletJaunes, giletsjaunes}   \n",
       "281                   26            {GiletsJaunes, GiletJaune, GiletJaunes}   \n",
       "284                   26  {JusticeFiscale, LAutreQuestionnaire, GiletsJa...   \n",
       "\n",
       "     hashtag_set_count  \n",
       "252                  3  \n",
       "253                  3  \n",
       "270                  3  \n",
       "281                  3  \n",
       "284                  4  "
      ]
     },
     "execution_count": 14,
     "metadata": {},
     "output_type": "execute_result"
    }
   ],
   "source": [
    "authors_set_filtered.head()"
   ]
  },
  {
   "cell_type": "code",
   "execution_count": 44,
   "metadata": {},
   "outputs": [],
   "source": [
    "test = authors_set[authors_set[\"hashtag_set_count\"]>5]"
   ]
  },
  {
   "cell_type": "code",
   "execution_count": 45,
   "metadata": {},
   "outputs": [
    {
     "data": {
      "text/plain": [
       "{'1034645744907677696',\n",
       " '124854027',\n",
       " '1495487005',\n",
       " '170763654',\n",
       " '20699718',\n",
       " '2267764975',\n",
       " '27980991',\n",
       " '282919637',\n",
       " '383125195',\n",
       " '828226984815652865',\n",
       " '830999894',\n",
       " '91354290',\n",
       " '976225807',\n",
       " '987234589730136064'}"
      ]
     },
     "execution_count": 45,
     "metadata": {},
     "output_type": "execute_result"
    }
   ],
   "source": [
    "test.loc[528].author_id_set"
   ]
  },
  {
   "cell_type": "code",
   "execution_count": 18,
   "metadata": {
    "scrolled": true
   },
   "outputs": [
    {
     "data": {
      "text/plain": [
       "2827"
      ]
     },
     "execution_count": 18,
     "metadata": {},
     "output_type": "execute_result"
    }
   ],
   "source": [
    "len(set([y for x in authors_set_filtered[\"author_id_set\"] for y in x]))"
   ]
  },
  {
   "cell_type": "code",
   "execution_count": 17,
   "metadata": {},
   "outputs": [],
   "source": [
    "candidates = list(authors_set_filtered[\"author_id_set\"].apply(list))\n",
    "save_obj(candidates, \"candidates/\", \"candidates_hashtag\")"
   ]
  },
  {
   "cell_type": "markdown",
   "metadata": {},
   "source": [
    "For each pair of authors in each author set, we will use data time warping to measure the similarity between them. We need first to extract the activity of each user. We use view_user_activity, which contains in each line the author and timestamp of a tweet. "
   ]
  },
  {
   "cell_type": "code",
   "execution_count": 26,
   "metadata": {},
   "outputs": [],
   "source": [
    "df_ts = None\n",
    "if os.path.isfile(\"data/df_ts_enc.csv\"):\n",
    "    df_ts = pd.read_csv(\"data/df_ts_enc.csv\", encoding='utf-8', engine='python')\n",
    "else:\n",
    "    df_activity = pd.read_csv(\"data/merged_tables/view_user_activity.csv\", \n",
    "                                   encoding='utf-8', \n",
    "                                   engine='python')\n",
    "    # Transform the created_at column into datetime\n",
    "    df_activity[\"created_at_dt\"] = df_activity[\"created_at\"].apply(lambda x: \n",
    "                                        datetime.strptime(x, \"%Y-%m-%d %H:%M:%S\"))\n",
    "    TS = time_series.TimeSeries()\n",
    "    # compute time series for each author\n",
    "    df_ts = (df_activity.groupby('author_id')['created_at_dt']\n",
    "                .apply(lambda x: TS.get_encoded_ts(list(x)))\n",
    "                .reset_index(name='ts'))\n",
    "    df_ts.to_csv(\"data/df_ts_enc.csv\", index=False, encoding='utf-8')"
   ]
  },
  {
   "cell_type": "code",
   "execution_count": 27,
   "metadata": {},
   "outputs": [
    {
     "name": "stderr",
     "output_type": "stream",
     "text": [
      "/anaconda/lib/python3.6/site-packages/pandas/core/generic.py:5209: SettingWithCopyWarning: \n",
      "A value is trying to be set on a copy of a slice from a DataFrame.\n",
      "Try using .loc[row_indexer,col_indexer] = value instead\n",
      "\n",
      "See the caveats in the documentation: http://pandas.pydata.org/pandas-docs/stable/user_guide/indexing.html#returning-a-view-versus-a-copy\n",
      "  self[name] = value\n"
     ]
    }
   ],
   "source": [
    "df_ts[\"ts\"] = df_ts[\"ts\"].map(lambda x: [int(y) for y in x[1:-1].split(\",\")])\n",
    "df_ts[\"tweet_count\"] = df_ts[\"ts\"].apply(lambda x: sum([y for y in x if y>0]))\n",
    "df_ts_5 = df_ts[df_ts.tweet_count > 4]\n",
    "df_ts_5.author_id = df_ts_5.author_id.astype(str)"
   ]
  },
  {
   "cell_type": "code",
   "execution_count": 28,
   "metadata": {},
   "outputs": [],
   "source": [
    "all_authors = set(df_ts_5.author_id.unique())"
   ]
  },
  {
   "cell_type": "code",
   "execution_count": 13,
   "metadata": {
    "scrolled": true
   },
   "outputs": [],
   "source": [
    "# We could filter out all authors from user_activity that are not in df_hashtag\n",
    "#unique_authors = df_hashtag.author_id.unique()\n",
    "#df_activity = df_user_activity[df_user_activity.author_id.isin(unique_authors)]"
   ]
  },
  {
   "cell_type": "code",
   "execution_count": 30,
   "metadata": {},
   "outputs": [
    {
     "name": "stdout",
     "output_type": "stream",
     "text": [
      "14\n",
      "2\n"
     ]
    }
   ],
   "source": [
    "# TEST\n",
    "# compute for one group\n",
    "batch = list(test.iloc[0].author_id_set)\n",
    "print(len(batch))\n",
    "batch = [x for x in batch if x in all_authors]\n",
    "print(len(batch))"
   ]
  },
  {
   "cell_type": "code",
   "execution_count": 30,
   "metadata": {
    "scrolled": true
   },
   "outputs": [
    {
     "name": "stdout",
     "output_type": "stream",
     "text": [
      "1414\n",
      "54\n"
     ]
    }
   ],
   "source": [
    "# TEST\n",
    "# compute for one group\n",
    "\n",
    "batch = authors_set.iloc[4].author_id_set\n",
    "print(len(batch))\n",
    "batch = [x for x in batch if x in all_authors]\n",
    "print(len(batch))"
   ]
  },
  {
   "cell_type": "code",
   "execution_count": 31,
   "metadata": {},
   "outputs": [],
   "source": [
    "test = df_ts_5[df_ts_5.author_id.isin(batch)]"
   ]
  },
  {
   "cell_type": "code",
   "execution_count": 32,
   "metadata": {
    "scrolled": true
   },
   "outputs": [
    {
     "data": {
      "text/html": [
       "<div>\n",
       "<style scoped>\n",
       "    .dataframe tbody tr th:only-of-type {\n",
       "        vertical-align: middle;\n",
       "    }\n",
       "\n",
       "    .dataframe tbody tr th {\n",
       "        vertical-align: top;\n",
       "    }\n",
       "\n",
       "    .dataframe thead th {\n",
       "        text-align: right;\n",
       "    }\n",
       "</style>\n",
       "<table border=\"1\" class=\"dataframe\">\n",
       "  <thead>\n",
       "    <tr style=\"text-align: right;\">\n",
       "      <th></th>\n",
       "      <th>author_id</th>\n",
       "      <th>ts</th>\n",
       "      <th>tweet_count</th>\n",
       "    </tr>\n",
       "  </thead>\n",
       "  <tbody>\n",
       "    <tr>\n",
       "      <th>331958</th>\n",
       "      <td>383125195</td>\n",
       "      <td>[-1, -3637765, 1, -2644641, 1, -84882, 1, -708...</td>\n",
       "      <td>67</td>\n",
       "    </tr>\n",
       "    <tr>\n",
       "      <th>1010071</th>\n",
       "      <td>828226984815652865</td>\n",
       "      <td>[-1, -69132, 1, -8567, 1, -240001, 1, -184752,...</td>\n",
       "      <td>29</td>\n",
       "    </tr>\n",
       "  </tbody>\n",
       "</table>\n",
       "</div>"
      ],
      "text/plain": [
       "                  author_id  \\\n",
       "331958            383125195   \n",
       "1010071  828226984815652865   \n",
       "\n",
       "                                                        ts  tweet_count  \n",
       "331958   [-1, -3637765, 1, -2644641, 1, -84882, 1, -708...           67  \n",
       "1010071  [-1, -69132, 1, -8567, 1, -240001, 1, -184752,...           29  "
      ]
     },
     "execution_count": 32,
     "metadata": {},
     "output_type": "execute_result"
    }
   ],
   "source": [
    "test"
   ]
  },
  {
   "cell_type": "code",
   "execution_count": 34,
   "metadata": {},
   "outputs": [],
   "source": [
    "author_1 = df_hashtag[df_hashtag[\"author_id\"]==\"383125195\"]\n",
    "author_2 = df_hashtag[df_hashtag[\"author_id\"]==\"828226984815652865\"]"
   ]
  },
  {
   "cell_type": "code",
   "execution_count": 36,
   "metadata": {
    "scrolled": false
   },
   "outputs": [
    {
     "name": "stdout",
     "output_type": "stream",
     "text": [
      "Live - Multiplex - Gilets Jaunes - 17 Février #gilets #jaunes #direct #paris #yellowvest #live\n",
      "\n",
      "https://t.co/domsuyQXGA\n",
      "Live - Multiplex - Gilets Jaunes - 17 Février #gilets #jaunes #direct #paris #yellowvest #live\n",
      "\n",
      "https://t.co/domsuyQXGA\n",
      "Live - Multiplex - Gilets Jaunes - 17 Février #gilets #jaunes #direct #paris #yellowvest #live\n",
      "\n",
      "https://t.co/domsuyQXGA\n",
      "Live - Multiplex - Gilets Jaunes - 17 Février #gilets #jaunes #direct #paris #yellowvest #live\n",
      "\n",
      "https://t.co/domsuyQXGA\n",
      "Live - Multiplex - Gilets Jaunes - 17 Février #gilets #jaunes #direct #paris #yellowvest #live\n",
      "\n",
      "https://t.co/domsuyQXGA\n",
      "Live - Multiplex - Gilets Jaunes - 17 Février #gilets #jaunes #direct #paris #yellowvest #live\n",
      "\n",
      "https://t.co/domsuyQXGA\n"
     ]
    }
   ],
   "source": [
    "for x in author_1.body:\n",
    "    print(x)"
   ]
  },
  {
   "cell_type": "code",
   "execution_count": 37,
   "metadata": {
    "scrolled": false
   },
   "outputs": [
    {
     "name": "stdout",
     "output_type": "stream",
     "text": [
      "J'aime une vidéo @YouTube : \"Live - Multiplex - Gilets Jaunes Acte XI - France #gilets #jaunes #direct #paris #yellowvest #live\" à\n",
      "J'aime une vidéo @YouTube : \"Live - Multiplex - Gilets Jaunes Acte XI - France #gilets #jaunes #direct #paris #yellowvest #live\" à\n",
      "J'aime une vidéo @YouTube : \"Live - Multiplex - Gilets Jaunes Acte XI - France #gilets #jaunes #direct #paris #yellowvest #live\" à\n",
      "J'aime une vidéo @YouTube : \"Live - Multiplex - Gilets Jaunes Acte XI - France #gilets #jaunes #direct #paris #yellowvest #live\" à\n",
      "J'aime une vidéo @YouTube : \"Live - Multiplex - Gilets Jaunes Acte XI - France #gilets #jaunes #direct #paris #yellowvest #live\" à\n",
      "J'aime une vidéo @YouTube : \"Live - Multiplex - Gilets Jaunes Acte XI - France #gilets #jaunes #direct #paris #yellowvest #live\" à\n"
     ]
    }
   ],
   "source": [
    "for x in author_2.body:\n",
    "    print(x)"
   ]
  },
  {
   "cell_type": "code",
   "execution_count": 69,
   "metadata": {},
   "outputs": [
    {
     "name": "stdout",
     "output_type": "stream",
     "text": [
      "10\n",
      "10\n",
      "27804286  104135815\n",
      "27804286  127558901\n",
      "27804286  142460588\n",
      "27804286  144989956\n",
      "104135815  127558901\n",
      "104135815  142460588\n",
      "104135815  144989956\n",
      "127558901  142460588\n",
      "127558901  144989956\n",
      "142460588  144989956\n"
     ]
    }
   ],
   "source": [
    "current_idx = 0\n",
    "author_list = list(test.author_id)\n",
    "cur_count = test.shape[0]-1\n",
    "count = int((test.shape[0]*(test.shape[0]-1))/2)\n",
    "author_left = []\n",
    "author_right = []\n",
    "for i in range(len(author_list)-1):\n",
    "    author_left += [author_list[i]]*cur_count\n",
    "    cur_count-=1\n",
    "cur_count = test.shape[0]-1\n",
    "for i in range(len(author_list)-1):\n",
    "    for j in range(i+1, len(author_list)):\n",
    "        author_right.append(author_list[j])\n",
    "\n",
    "print(len(author_left))\n",
    "print(len(author_right))\n",
    "        \n",
    "for i in range(len(author_left)):\n",
    "    print(author_left[i] + \"  \" + author_right[i])\n",
    "\n",
    "    "
   ]
  },
  {
   "cell_type": "code",
   "execution_count": 71,
   "metadata": {},
   "outputs": [],
   "source": [
    "def compute_awarp(df_author_ts):\n",
    "    '''\n",
    "    Takes a dataframe with 'author_id' and 'ts' as columnn. \n",
    "    The ts column is already encoded for awarp. \n",
    "    Write the time series on disk and call a python wrapper \n",
    "    for cpp that will read the file and compute the distances. \n",
    "    The wrapper will then write the result on disk. The function \n",
    "    then read the file and returns a dataframe with 'author_id_x', \n",
    "    'author_id_y' and 'd' representing the distance between two \n",
    "    authors.\n",
    "    '''\n",
    "    to_write = \"\"\n",
    "    for x in df_author_ts.ts:\n",
    "        for y in x:\n",
    "            to_write += str(y) + \",\"\n",
    "        to_write = to_write[:-1]\n",
    "        to_write += \"\\n\"\n",
    "\n",
    "    with open(\"awarp_wrapper/ts.csv\", \"w\") as f:\n",
    "        f.write(to_write)\n",
    "    \n",
    "    # call the wrapper\n",
    "    f = awarp.DTW()\n",
    "    f.run()\n",
    "    \n",
    "    # read the output file\n",
    "    df_out = pd.read_csv('awarp_wrapper/out.txt', sep=\" \", header=None, \n",
    "                     names = [\"author_id_x\",\"author_id_y\",\"d\"])\n",
    "    \n",
    "    # update the author columns with the right authors\n",
    "    current_idx = 0\n",
    "    author_list = list(df_author_ts.author_id)\n",
    "    cur_count = df_author_ts.shape[0]-1\n",
    "    count = int((df_author_ts.shape[0]*(df_author_ts.shape[0]-1))/2)\n",
    "    author_left = []\n",
    "    author_right = []\n",
    "    for i in range(len(author_list)-1):\n",
    "        author_left += [author_list[i]]*cur_count\n",
    "        cur_count-=1\n",
    "    cur_count = df_author_ts.shape[0]-1\n",
    "    for i in range(len(author_list)-1):\n",
    "        for j in range(i+1, len(author_list)):\n",
    "            author_right.append(author_list[j])\n",
    "            \n",
    "    df_out[\"author_id_x\"] = author_left\n",
    "    df_out[\"author_id_y\"] = author_right\n",
    "    \n",
    "    return df_out\n",
    "    "
   ]
  },
  {
   "cell_type": "code",
   "execution_count": 72,
   "metadata": {
    "scrolled": true
   },
   "outputs": [
    {
     "data": {
      "text/plain": [
       "(10, 3)"
      ]
     },
     "execution_count": 72,
     "metadata": {},
     "output_type": "execute_result"
    }
   ],
   "source": [
    "test_out = compute_awarp(test)\n",
    "test_out.shape"
   ]
  },
  {
   "cell_type": "code",
   "execution_count": 76,
   "metadata": {},
   "outputs": [],
   "source": [
    "f = awarp.DTW()\n",
    "f.run()"
   ]
  },
  {
   "cell_type": "code",
   "execution_count": 74,
   "metadata": {},
   "outputs": [
    {
     "data": {
      "text/html": [
       "<div>\n",
       "<style scoped>\n",
       "    .dataframe tbody tr th:only-of-type {\n",
       "        vertical-align: middle;\n",
       "    }\n",
       "\n",
       "    .dataframe tbody tr th {\n",
       "        vertical-align: top;\n",
       "    }\n",
       "\n",
       "    .dataframe thead th {\n",
       "        text-align: right;\n",
       "    }\n",
       "</style>\n",
       "<table border=\"1\" class=\"dataframe\">\n",
       "  <thead>\n",
       "    <tr style=\"text-align: right;\">\n",
       "      <th></th>\n",
       "      <th>author_id</th>\n",
       "      <th>ts</th>\n",
       "      <th>tweet_count</th>\n",
       "    </tr>\n",
       "  </thead>\n",
       "  <tbody>\n",
       "    <tr>\n",
       "      <th>57267</th>\n",
       "      <td>27804286</td>\n",
       "      <td>[-1, -69006, 1, -38764, 1, -983, 1, -278, 1, -...</td>\n",
       "      <td>457</td>\n",
       "    </tr>\n",
       "    <tr>\n",
       "      <th>147746</th>\n",
       "      <td>104135815</td>\n",
       "      <td>[-1, -3883849, 1, -291206, 1, -4186810, 1, -12...</td>\n",
       "      <td>6</td>\n",
       "    </tr>\n",
       "    <tr>\n",
       "      <th>170793</th>\n",
       "      <td>127558901</td>\n",
       "      <td>[-1, -70609, 1, -177790, 1, -469171, 1, -47174...</td>\n",
       "      <td>94</td>\n",
       "    </tr>\n",
       "    <tr>\n",
       "      <th>182437</th>\n",
       "      <td>142460588</td>\n",
       "      <td>[-1, -239227, 1, -644102, 1, -59558, 1, -97874...</td>\n",
       "      <td>6</td>\n",
       "    </tr>\n",
       "    <tr>\n",
       "      <th>184306</th>\n",
       "      <td>144989956</td>\n",
       "      <td>[-1, -195650, 1, -458187, 1, -622285, 1, -1006...</td>\n",
       "      <td>9</td>\n",
       "    </tr>\n",
       "  </tbody>\n",
       "</table>\n",
       "</div>"
      ],
      "text/plain": [
       "        author_id                                                 ts  \\\n",
       "57267    27804286  [-1, -69006, 1, -38764, 1, -983, 1, -278, 1, -...   \n",
       "147746  104135815  [-1, -3883849, 1, -291206, 1, -4186810, 1, -12...   \n",
       "170793  127558901  [-1, -70609, 1, -177790, 1, -469171, 1, -47174...   \n",
       "182437  142460588  [-1, -239227, 1, -644102, 1, -59558, 1, -97874...   \n",
       "184306  144989956  [-1, -195650, 1, -458187, 1, -622285, 1, -1006...   \n",
       "\n",
       "        tweet_count  \n",
       "57267           457  \n",
       "147746            6  \n",
       "170793           94  \n",
       "182437            6  \n",
       "184306            9  "
      ]
     },
     "execution_count": 74,
     "metadata": {},
     "output_type": "execute_result"
    }
   ],
   "source": [
    "test.head()"
   ]
  },
  {
   "cell_type": "code",
   "execution_count": 73,
   "metadata": {},
   "outputs": [
    {
     "data": {
      "text/html": [
       "<div>\n",
       "<style scoped>\n",
       "    .dataframe tbody tr th:only-of-type {\n",
       "        vertical-align: middle;\n",
       "    }\n",
       "\n",
       "    .dataframe tbody tr th {\n",
       "        vertical-align: top;\n",
       "    }\n",
       "\n",
       "    .dataframe thead th {\n",
       "        text-align: right;\n",
       "    }\n",
       "</style>\n",
       "<table border=\"1\" class=\"dataframe\">\n",
       "  <thead>\n",
       "    <tr style=\"text-align: right;\">\n",
       "      <th></th>\n",
       "      <th>author_id_x</th>\n",
       "      <th>author_id_y</th>\n",
       "      <th>d</th>\n",
       "    </tr>\n",
       "  </thead>\n",
       "  <tbody>\n",
       "    <tr>\n",
       "      <th>0</th>\n",
       "      <td>27804286</td>\n",
       "      <td>104135815</td>\n",
       "      <td>21.23680</td>\n",
       "    </tr>\n",
       "    <tr>\n",
       "      <th>1</th>\n",
       "      <td>27804286</td>\n",
       "      <td>127558901</td>\n",
       "      <td>19.05260</td>\n",
       "    </tr>\n",
       "    <tr>\n",
       "      <th>2</th>\n",
       "      <td>27804286</td>\n",
       "      <td>142460588</td>\n",
       "      <td>21.23680</td>\n",
       "    </tr>\n",
       "    <tr>\n",
       "      <th>3</th>\n",
       "      <td>27804286</td>\n",
       "      <td>144989956</td>\n",
       "      <td>21.16600</td>\n",
       "    </tr>\n",
       "    <tr>\n",
       "      <th>4</th>\n",
       "      <td>104135815</td>\n",
       "      <td>127558901</td>\n",
       "      <td>9.38083</td>\n",
       "    </tr>\n",
       "    <tr>\n",
       "      <th>5</th>\n",
       "      <td>104135815</td>\n",
       "      <td>142460588</td>\n",
       "      <td>0.00000</td>\n",
       "    </tr>\n",
       "    <tr>\n",
       "      <th>6</th>\n",
       "      <td>104135815</td>\n",
       "      <td>144989956</td>\n",
       "      <td>1.73205</td>\n",
       "    </tr>\n",
       "    <tr>\n",
       "      <th>7</th>\n",
       "      <td>127558901</td>\n",
       "      <td>142460588</td>\n",
       "      <td>9.38083</td>\n",
       "    </tr>\n",
       "    <tr>\n",
       "      <th>8</th>\n",
       "      <td>127558901</td>\n",
       "      <td>144989956</td>\n",
       "      <td>9.21954</td>\n",
       "    </tr>\n",
       "    <tr>\n",
       "      <th>9</th>\n",
       "      <td>142460588</td>\n",
       "      <td>144989956</td>\n",
       "      <td>1.73205</td>\n",
       "    </tr>\n",
       "  </tbody>\n",
       "</table>\n",
       "</div>"
      ],
      "text/plain": [
       "  author_id_x author_id_y         d\n",
       "0    27804286   104135815  21.23680\n",
       "1    27804286   127558901  19.05260\n",
       "2    27804286   142460588  21.23680\n",
       "3    27804286   144989956  21.16600\n",
       "4   104135815   127558901   9.38083\n",
       "5   104135815   142460588   0.00000\n",
       "6   104135815   144989956   1.73205\n",
       "7   127558901   142460588   9.38083\n",
       "8   127558901   144989956   9.21954\n",
       "9   142460588   144989956   1.73205"
      ]
     },
     "execution_count": 73,
     "metadata": {},
     "output_type": "execute_result"
    }
   ],
   "source": [
    "test_out"
   ]
  },
  {
   "cell_type": "code",
   "execution_count": 35,
   "metadata": {
    "scrolled": true
   },
   "outputs": [],
   "source": [
    "# The python version of awarp is much slower\n",
    "#%%time\n",
    "#distances = []\n",
    "#for i in range(test.shape[0]):\n",
    "#    for j in range(i+1, test.shape[0]):\n",
    "#        d = awarpy.dtw_G(test.iloc[i].ts, test.iloc[j].ts)\n",
    "#        distances.append(d)"
   ]
  },
  {
   "cell_type": "code",
   "execution_count": null,
   "metadata": {},
   "outputs": [],
   "source": [
    "%%time\n",
    "distances = []\n",
    "for i in range(test.shape[0]):\n",
    "    for j in range(i+1, test.shape[0]):\n",
    "#        d = awarpy.dtw_G(test.iloc[i].ts, test.iloc[j].ts)\n",
    "#        distances.append(d)"
   ]
  },
  {
   "cell_type": "code",
   "execution_count": 45,
   "metadata": {
    "scrolled": false
   },
   "outputs": [
    {
     "name": "stdout",
     "output_type": "stream",
     "text": [
      "CPU times: user 717 µs, sys: 1.23 ms, total: 1.95 ms\n",
      "Wall time: 7.54 ms\n"
     ]
    }
   ],
   "source": [
    "%%time\n",
    "f = awarp.DTW()\n",
    "f.run()"
   ]
  },
  {
   "cell_type": "code",
   "execution_count": 143,
   "metadata": {},
   "outputs": [],
   "source": [
    "user_activity = df_user_activity[df_user_activity.author_id==test].copy()\n",
    "if len(user_activity) > 4:\n",
    "    print(\"Ok\")"
   ]
  },
  {
   "cell_type": "code",
   "execution_count": 96,
   "metadata": {
    "scrolled": true
   },
   "outputs": [
    {
     "ename": "NameError",
     "evalue": "name 'ts_size' is not defined",
     "output_type": "error",
     "traceback": [
      "\u001b[0;31m---------------------------------------------------------------------------\u001b[0m",
      "\u001b[0;31mNameError\u001b[0m                                 Traceback (most recent call last)",
      "\u001b[0;32m<ipython-input-96-b48ff129b9dd>\u001b[0m in \u001b[0;36m<module>\u001b[0;34m\u001b[0m\n\u001b[1;32m      1\u001b[0m \u001b[0muser_activity\u001b[0m \u001b[0;34m=\u001b[0m \u001b[0mdf_user_activity\u001b[0m\u001b[0;34m[\u001b[0m\u001b[0mdf_user_activity\u001b[0m\u001b[0;34m.\u001b[0m\u001b[0mauthor_id\u001b[0m\u001b[0;34m==\u001b[0m\u001b[0mtest\u001b[0m\u001b[0;34m]\u001b[0m\u001b[0;34m.\u001b[0m\u001b[0mcopy\u001b[0m\u001b[0;34m(\u001b[0m\u001b[0;34m)\u001b[0m\u001b[0;34m\u001b[0m\u001b[0;34m\u001b[0m\u001b[0m\n\u001b[0;32m----> 2\u001b[0;31m \u001b[0mts\u001b[0m \u001b[0;34m=\u001b[0m \u001b[0mTS\u001b[0m\u001b[0;34m.\u001b[0m\u001b[0mget_ts_from_datetime\u001b[0m\u001b[0;34m(\u001b[0m\u001b[0mlist\u001b[0m\u001b[0;34m(\u001b[0m\u001b[0muser_activity\u001b[0m\u001b[0;34m[\u001b[0m\u001b[0;34m\"created_at_dt\"\u001b[0m\u001b[0;34m]\u001b[0m\u001b[0;34m)\u001b[0m\u001b[0;34m)\u001b[0m\u001b[0;34m\u001b[0m\u001b[0;34m\u001b[0m\u001b[0m\n\u001b[0m",
      "\u001b[0;32m/Volumes/GoogleDrive/Mon Drive/EPFL/__Master_5/SemesterProject/Exposing_french_botnet/time_series.py\u001b[0m in \u001b[0;36mget_ts_from_datetime\u001b[0;34m(self, user_ts)\u001b[0m\n\u001b[1;32m     22\u001b[0m         \u001b[0mcheck_list\u001b[0m \u001b[0;34m=\u001b[0m \u001b[0;34m[\u001b[0m\u001b[0;34m]\u001b[0m\u001b[0;34m\u001b[0m\u001b[0;34m\u001b[0m\u001b[0m\n\u001b[1;32m     23\u001b[0m         \u001b[0mcolumn_temp\u001b[0m \u001b[0;34m=\u001b[0m \u001b[0;36m0\u001b[0m\u001b[0;34m\u001b[0m\u001b[0;34m\u001b[0m\u001b[0m\n\u001b[0;32m---> 24\u001b[0;31m \u001b[0;34m\u001b[0m\u001b[0m\n\u001b[0m\u001b[1;32m     25\u001b[0m         \u001b[0mactivity\u001b[0m \u001b[0;34m=\u001b[0m \u001b[0mnp\u001b[0m\u001b[0;34m.\u001b[0m\u001b[0mzeros\u001b[0m\u001b[0;34m(\u001b[0m\u001b[0;34m(\u001b[0m\u001b[0mself\u001b[0m\u001b[0;34m.\u001b[0m\u001b[0mts_size\u001b[0m\u001b[0;34m)\u001b[0m\u001b[0;34m)\u001b[0m\u001b[0;34m\u001b[0m\u001b[0;34m\u001b[0m\u001b[0m\n\u001b[1;32m     26\u001b[0m         \u001b[0;32mfor\u001b[0m \u001b[0mi\u001b[0m \u001b[0;32min\u001b[0m \u001b[0mrange\u001b[0m\u001b[0;34m(\u001b[0m\u001b[0mlen\u001b[0m\u001b[0;34m(\u001b[0m\u001b[0muser_ts\u001b[0m\u001b[0;34m)\u001b[0m\u001b[0;34m)\u001b[0m\u001b[0;34m:\u001b[0m\u001b[0;34m\u001b[0m\u001b[0;34m\u001b[0m\u001b[0m\n",
      "\u001b[0;31mNameError\u001b[0m: name 'ts_size' is not defined"
     ]
    }
   ],
   "source": [
    "user_activity = df_user_activity[df_user_activity.author_id==test].copy()\n",
    "ts = TS.get_ts_from_datetime(list(user_activity[\"created_at_dt\"]))"
   ]
  },
  {
   "cell_type": "code",
   "execution_count": 247,
   "metadata": {
    "scrolled": true
   },
   "outputs": [
    {
     "data": {
      "text/plain": [
       "<module 'dtw_wrapper.dtwWrapper' from '/Volumes/GoogleDrive/Mon Drive/EPFL/__Master_5/SemesterProject/Exposing_french_botnet/dtw_wrapper/dtwWrapper.py'>"
      ]
     },
     "execution_count": 247,
     "metadata": {},
     "output_type": "execute_result"
    }
   ],
   "source": [
    "importlib.reload(dtw)"
   ]
  },
  {
   "cell_type": "code",
   "execution_count": 131,
   "metadata": {},
   "outputs": [],
   "source": [
    "import importlib"
   ]
  },
  {
   "cell_type": "code",
   "execution_count": 140,
   "metadata": {
    "scrolled": true
   },
   "outputs": [],
   "source": [
    "importlib.reload(time_series)\n",
    "TS = time_series.TimeSeries()"
   ]
  },
  {
   "cell_type": "code",
   "execution_count": 88,
   "metadata": {
    "scrolled": false
   },
   "outputs": [
    {
     "name": "stdout",
     "output_type": "stream",
     "text": [
      "test\n"
     ]
    },
    {
     "ename": "NameError",
     "evalue": "name 'ts_size' is not defined",
     "output_type": "error",
     "traceback": [
      "\u001b[0;31m---------------------------------------------------------------------------\u001b[0m",
      "\u001b[0;31mNameError\u001b[0m                                 Traceback (most recent call last)",
      "\u001b[0;32m<ipython-input-88-c2c6c44cb963>\u001b[0m in \u001b[0;36m<module>\u001b[0;34m\u001b[0m\n\u001b[1;32m      3\u001b[0m     \u001b[0mprint\u001b[0m\u001b[0;34m(\u001b[0m\u001b[0;34m\"test\"\u001b[0m\u001b[0;34m)\u001b[0m\u001b[0;34m\u001b[0m\u001b[0;34m\u001b[0m\u001b[0m\n\u001b[1;32m      4\u001b[0m     \u001b[0muser_activity\u001b[0m \u001b[0;34m=\u001b[0m \u001b[0mdf_user_activity\u001b[0m\u001b[0;34m[\u001b[0m\u001b[0mdf_user_activity\u001b[0m\u001b[0;34m.\u001b[0m\u001b[0mauthor_id\u001b[0m\u001b[0;34m==\u001b[0m\u001b[0mx\u001b[0m\u001b[0;34m]\u001b[0m\u001b[0;34m.\u001b[0m\u001b[0mcopy\u001b[0m\u001b[0;34m(\u001b[0m\u001b[0;34m)\u001b[0m\u001b[0;34m\u001b[0m\u001b[0;34m\u001b[0m\u001b[0m\n\u001b[0;32m----> 5\u001b[0;31m     \u001b[0mts\u001b[0m \u001b[0;34m=\u001b[0m \u001b[0mTS\u001b[0m\u001b[0;34m.\u001b[0m\u001b[0mget_ts_from_datetime\u001b[0m\u001b[0;34m(\u001b[0m\u001b[0mlist\u001b[0m\u001b[0;34m(\u001b[0m\u001b[0muser_activity\u001b[0m\u001b[0;34m[\u001b[0m\u001b[0;34m\"created_at_dt\"\u001b[0m\u001b[0;34m]\u001b[0m\u001b[0;34m)\u001b[0m\u001b[0;34m)\u001b[0m\u001b[0;34m\u001b[0m\u001b[0;34m\u001b[0m\u001b[0m\n\u001b[0m\u001b[1;32m      6\u001b[0m     \u001b[0mts_list\u001b[0m\u001b[0;34m.\u001b[0m\u001b[0mappend\u001b[0m\u001b[0;34m(\u001b[0m\u001b[0mts\u001b[0m\u001b[0;34m)\u001b[0m\u001b[0;34m\u001b[0m\u001b[0;34m\u001b[0m\u001b[0m\n",
      "\u001b[0;32m/Volumes/GoogleDrive/Mon Drive/EPFL/__Master_5/SemesterProject/Exposing_french_botnet/time_series.py\u001b[0m in \u001b[0;36mget_ts_from_datetime\u001b[0;34m(self, user_ts)\u001b[0m\n\u001b[1;32m     22\u001b[0m         \u001b[0mcolumn_temp\u001b[0m \u001b[0;34m=\u001b[0m \u001b[0;36m0\u001b[0m\u001b[0;34m\u001b[0m\u001b[0;34m\u001b[0m\u001b[0m\n\u001b[1;32m     23\u001b[0m \u001b[0;34m\u001b[0m\u001b[0m\n\u001b[0;32m---> 24\u001b[0;31m         \u001b[0mactivity\u001b[0m \u001b[0;34m=\u001b[0m \u001b[0;34m[\u001b[0m\u001b[0;36m0\u001b[0m\u001b[0;34m]\u001b[0m\u001b[0;34m*\u001b[0m\u001b[0mts_size\u001b[0m\u001b[0;34m\u001b[0m\u001b[0;34m\u001b[0m\u001b[0m\n\u001b[0m\u001b[1;32m     25\u001b[0m         \u001b[0;32mfor\u001b[0m \u001b[0mi\u001b[0m \u001b[0;32min\u001b[0m \u001b[0mrange\u001b[0m\u001b[0;34m(\u001b[0m\u001b[0mlen\u001b[0m\u001b[0;34m(\u001b[0m\u001b[0muser_ts\u001b[0m\u001b[0;34m)\u001b[0m\u001b[0;34m)\u001b[0m\u001b[0;34m:\u001b[0m\u001b[0;34m\u001b[0m\u001b[0;34m\u001b[0m\u001b[0m\n\u001b[1;32m     26\u001b[0m             \u001b[0mtime_stamp\u001b[0m \u001b[0;34m=\u001b[0m  \u001b[0muser_ts\u001b[0m\u001b[0;34m[\u001b[0m\u001b[0mi\u001b[0m\u001b[0;34m]\u001b[0m\u001b[0;34m\u001b[0m\u001b[0;34m\u001b[0m\u001b[0m\n",
      "\u001b[0;31mNameError\u001b[0m: name 'ts_size' is not defined"
     ]
    }
   ],
   "source": [
    "ts_list = []\n",
    "for x in batch:\n",
    "    print(\"test\")\n",
    "    user_activity = df_user_activity[df_user_activity.author_id==x].copy()\n",
    "    ts = TS.get_ts_from_datetime(list(user_activity[\"created_at_dt\"]))\n",
    "    ts_list.append(ts)"
   ]
  }
 ],
 "metadata": {
  "kernelspec": {
   "display_name": "Python 3",
   "language": "python",
   "name": "python3"
  },
  "language_info": {
   "codemirror_mode": {
    "name": "ipython",
    "version": 3
   },
   "file_extension": ".py",
   "mimetype": "text/x-python",
   "name": "python",
   "nbconvert_exporter": "python",
   "pygments_lexer": "ipython3",
   "version": "3.6.9"
  }
 },
 "nbformat": 4,
 "nbformat_minor": 2
}
