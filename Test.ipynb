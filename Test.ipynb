{
 "cells": [
  {
   "cell_type": "code",
   "execution_count": 4,
   "metadata": {},
   "outputs": [],
   "source": [
    "import pandas as pd\n",
    "from hash_user import *\n",
    "from corr_user import *"
   ]
  },
  {
   "cell_type": "code",
   "execution_count": 3,
   "metadata": {},
   "outputs": [],
   "source": [
    "df_raw = pd.read_csv(\"data/ecuador_apr_2019/tweets.csv\", encoding='utf-8', engine='python')\n",
    "df = df_raw[[\"userid\", \"tweet_time\", \"urls\", \"hashtags\"]].copy()\n",
    "df.rename(columns={\"userid\": \"author_id\", \"tweet_time\":\"created_at\"}, inplace=True)\n",
    "df[\"created_at\"] = df[\"created_at\"].apply(lambda x: \n",
    "                                        datetime.strptime(x, \"%Y-%m-%d %H:%M\"))\n",
    "df.sort_values(by=\"created_at\", ascending=True, inplace=True)\n",
    "df.set_index(\"created_at\", drop=False, inplace=True)"
   ]
  },
  {
   "cell_type": "code",
   "execution_count": null,
   "metadata": {},
   "outputs": [],
   "source": [
    "find_suspicious_user(df_test, \n",
    "                     \"output\",\n",
    "                     window_size=2*3600,\n",
    "                     interval=1,\n",
    "                     activity_th_for_hash=2,\n",
    "                     shifting_times = 40,\n",
    "                     modul = 5000,\n",
    "                     sigma=0.024,\n",
    "                     good_user_th=5,\n",
    "                     good_bin_th=5)"
   ]
  },
  {
   "cell_type": "code",
   "execution_count": null,
   "metadata": {},
   "outputs": [],
   "source": [
    "find_correlated_activity(df_test,\n",
    "                         None,\n",
    "                         \"output\",\n",
    "                         window_size=2*3600,\n",
    "                         interval=1,\n",
    "                         allowable_lag=20,\n",
    "                         activity_th_for_dtw=10,\n",
    "                         report_threshold=0.995,\n",
    "                         use_shift=False)"
   ]
  }
 ],
 "metadata": {
  "kernelspec": {
   "display_name": "Python 3",
   "language": "python",
   "name": "python3"
  },
  "language_info": {
   "codemirror_mode": {
    "name": "ipython",
    "version": 3
   },
   "file_extension": ".py",
   "mimetype": "text/x-python",
   "name": "python",
   "nbconvert_exporter": "python",
   "pygments_lexer": "ipython3",
   "version": "3.6.9"
  }
 },
 "nbformat": 4,
 "nbformat_minor": 2
}
